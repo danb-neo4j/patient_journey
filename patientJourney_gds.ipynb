{
  "cells": [
    {
      "cell_type": "markdown",
      "metadata": {
        "id": "view-in-github",
        "colab_type": "text"
      },
      "source": [
        "<a href=\"https://colab.research.google.com/github/danb-neo4j/patient_journey/blob/main/patientJourney_gds.ipynb\" target=\"_parent\"><img src=\"https://colab.research.google.com/assets/colab-badge.svg\" alt=\"Open In Colab\"/></a>"
      ]
    },
    {
      "cell_type": "markdown",
      "id": "ba5c31ff-8572-47d9-9b4a-22ac74d9de05",
      "metadata": {
        "id": "ba5c31ff-8572-47d9-9b4a-22ac74d9de05"
      },
      "source": [
        "# Patient Journey Demo: GDS Workflow"
      ]
    },
    {
      "cell_type": "markdown",
      "id": "9bf92bc2-67fd-43e6-b953-e92a1454bc01",
      "metadata": {
        "id": "9bf92bc2-67fd-43e6-b953-e92a1454bc01"
      },
      "source": [
        "# Import Libraries"
      ]
    },
    {
      "cell_type": "code",
      "execution_count": 1,
      "id": "88bee118-e1b1-4d65-a6c3-8ebe1d5c879c",
      "metadata": {
        "id": "88bee118-e1b1-4d65-a6c3-8ebe1d5c879c"
      },
      "outputs": [],
      "source": [
        "import pandas as pd\n",
        "pd.set_option('display.max_columns', None)\n",
        "pd.set_option('display.max_rows', None)\n",
        "pd.set_option('display.max_colwidth', None)\n",
        "\n",
        "import matplotlib.pyplot as plt \n",
        "import seaborn as sns\n",
        "sns.set_style('darkgrid')\n",
        "sns.set_palette(\"colorblind\")\n",
        "sns.set(rc={'figure.figsize':(12,7)})\n",
        "\n",
        "import os\n",
        "import configparser\n",
        "from IPython.display import Image"
      ]
    },
    {
      "cell_type": "code",
      "execution_count": 2,
      "id": "1fa80139-9ff7-4e00-bc3e-900749f96b69",
      "metadata": {
        "colab": {
          "base_uri": "https://localhost:8080/"
        },
        "id": "1fa80139-9ff7-4e00-bc3e-900749f96b69",
        "outputId": "aa97861c-2f2c-4212-d1a3-5e32e399bafd"
      },
      "outputs": [
        {
          "output_type": "stream",
          "name": "stdout",
          "text": [
            "Looking in indexes: https://pypi.org/simple, https://us-python.pkg.dev/colab-wheels/public/simple/\n",
            "Collecting graphdatascience\n",
            "  Downloading graphdatascience-1.6-py3-none-any.whl (918 kB)\n",
            "\u001b[2K     \u001b[90m━━━━━━━━━━━━━━━━━━━━━━━━━━━━━━━━━━━━━━\u001b[0m \u001b[32m919.0/919.0 KB\u001b[0m \u001b[31m11.0 MB/s\u001b[0m eta \u001b[36m0:00:00\u001b[0m\n",
            "\u001b[?25hCollecting neo4j<6.0,>=4.4.2\n",
            "  Downloading neo4j-5.6.0.tar.gz (171 kB)\n",
            "\u001b[2K     \u001b[90m━━━━━━━━━━━━━━━━━━━━━━━━━━━━━━━━━━━━━━\u001b[0m \u001b[32m171.2/171.2 KB\u001b[0m \u001b[31m12.3 MB/s\u001b[0m eta \u001b[36m0:00:00\u001b[0m\n",
            "\u001b[?25h  Installing build dependencies ... \u001b[?25l\u001b[?25hdone\n",
            "  Getting requirements to build wheel ... \u001b[?25l\u001b[?25hdone\n",
            "  Installing backend dependencies ... \u001b[?25l\u001b[?25hdone\n",
            "  Preparing metadata (pyproject.toml) ... \u001b[?25l\u001b[?25hdone\n",
            "Requirement already satisfied: pyarrow<11.0,>=4.0 in /usr/local/lib/python3.9/dist-packages (from graphdatascience) (9.0.0)\n",
            "Requirement already satisfied: pandas<2.0,>=1.0 in /usr/local/lib/python3.9/dist-packages (from graphdatascience) (1.4.4)\n",
            "Requirement already satisfied: tqdm<5.0,>=4.0 in /usr/local/lib/python3.9/dist-packages (from graphdatascience) (4.65.0)\n",
            "Requirement already satisfied: multimethod<2.0,>=1.0 in /usr/local/lib/python3.9/dist-packages (from graphdatascience) (1.9.1)\n",
            "Requirement already satisfied: pytz in /usr/local/lib/python3.9/dist-packages (from neo4j<6.0,>=4.4.2->graphdatascience) (2022.7.1)\n",
            "Requirement already satisfied: python-dateutil>=2.8.1 in /usr/local/lib/python3.9/dist-packages (from pandas<2.0,>=1.0->graphdatascience) (2.8.2)\n",
            "Requirement already satisfied: numpy>=1.18.5 in /usr/local/lib/python3.9/dist-packages (from pandas<2.0,>=1.0->graphdatascience) (1.22.4)\n",
            "Requirement already satisfied: six>=1.5 in /usr/local/lib/python3.9/dist-packages (from python-dateutil>=2.8.1->pandas<2.0,>=1.0->graphdatascience) (1.16.0)\n",
            "Building wheels for collected packages: neo4j\n",
            "  Building wheel for neo4j (pyproject.toml) ... \u001b[?25l\u001b[?25hdone\n",
            "  Created wheel for neo4j: filename=neo4j-5.6.0-py3-none-any.whl size=237450 sha256=b8750a9dcb118413657ecf98c38e2e1be4288091aae66bdd0ba6e4c077bd90e6\n",
            "  Stored in directory: /root/.cache/pip/wheels/c0/9b/d9/fdb6b67a6f6d7aef4acaefe55f339739caf09bb63e43bfb10e\n",
            "Successfully built neo4j\n",
            "Installing collected packages: neo4j, graphdatascience\n",
            "Successfully installed graphdatascience-1.6 neo4j-5.6.0\n",
            "installed and imported GraphDataScience\n"
          ]
        }
      ],
      "source": [
        "# install or import Neo4j GraphDataScience library\n",
        "try: \n",
        "  from graphdatascience import GraphDataScience\n",
        "  print('Successfully imported GraphDataScience')\n",
        "except ModuleNotFoundError:\n",
        "  !pip install graphdatascience\n",
        "  from graphdatascience import GraphDataScience\n",
        "  print('installed and imported GraphDataScience')"
      ]
    },
    {
      "cell_type": "markdown",
      "source": [
        "# Mount Google Drive"
      ],
      "metadata": {
        "id": "0UooBw9zyxJD"
      },
      "id": "0UooBw9zyxJD"
    },
    {
      "cell_type": "code",
      "source": [
        "from google.colab import drive \n",
        "drive.mount('/content/drive')"
      ],
      "metadata": {
        "colab": {
          "base_uri": "https://localhost:8080/"
        },
        "id": "kcbBDEkeyzQZ",
        "outputId": "90670b4e-ecf3-4f65-d6e5-9171444c9d01"
      },
      "id": "kcbBDEkeyzQZ",
      "execution_count": 3,
      "outputs": [
        {
          "output_type": "stream",
          "name": "stdout",
          "text": [
            "Mounted at /content/drive\n"
          ]
        }
      ]
    },
    {
      "cell_type": "markdown",
      "id": "7119b6f0-01cd-4e74-99f6-92b68b353f0c",
      "metadata": {
        "id": "7119b6f0-01cd-4e74-99f6-92b68b353f0c"
      },
      "source": [
        "# Connect to Neo4j Database"
      ]
    },
    {
      "cell_type": "code",
      "source": [
        "# os.getcwd()"
      ],
      "metadata": {
        "id": "AH6fCqmkmWcx"
      },
      "id": "AH6fCqmkmWcx",
      "execution_count": 5,
      "outputs": []
    },
    {
      "cell_type": "code",
      "source": [
        "os.chdir('drive/MyDrive/Colab Notebooks/gds_demos/patient_journey/')"
      ],
      "metadata": {
        "id": "WgC7ZN8LzDCW"
      },
      "id": "WgC7ZN8LzDCW",
      "execution_count": 4,
      "outputs": []
    },
    {
      "cell_type": "code",
      "execution_count": 6,
      "id": "829646a2-da52-4c19-aafe-cc3d7a2409b1",
      "metadata": {
        "id": "829646a2-da52-4c19-aafe-cc3d7a2409b1"
      },
      "outputs": [],
      "source": [
        "# import utility function to connect to Neo4j DB\n",
        "from neoUtils import read_neo4j_properties"
      ]
    },
    {
      "cell_type": "code",
      "execution_count": 7,
      "id": "f6566c2f-d7a4-436b-96c3-5874f010764c",
      "metadata": {
        "colab": {
          "base_uri": "https://localhost:8080/"
        },
        "id": "f6566c2f-d7a4-436b-96c3-5874f010764c",
        "outputId": "34b613a1-8913-4164-a641-8c8378fbf9f5"
      },
      "outputs": [
        {
          "output_type": "stream",
          "name": "stdout",
          "text": [
            "Using HOST, USERNAME, PASSWORD from .ini file\n"
          ]
        }
      ],
      "source": [
        "# read in Neo4j host and authentication \n",
        "NEO4J_PROPERTIES_FILE = 'auth/patientJourney_auth.ini'\n",
        "# NEO4J_PROPERTIES_FILE = 'patientJourney_auth.ini'\n",
        "HOST, USERNAME, PASSWORD = read_neo4j_properties(NEO4J_PROPERTIES_FILE=NEO4J_PROPERTIES_FILE)"
      ]
    },
    {
      "cell_type": "code",
      "execution_count": 8,
      "id": "7326078c-fde8-41ed-baf7-cdc9a9b9e315",
      "metadata": {
        "colab": {
          "base_uri": "https://localhost:8080/"
        },
        "id": "7326078c-fde8-41ed-baf7-cdc9a9b9e315",
        "outputId": "6130babd-382e-42f4-a0b3-6cccf252deca"
      },
      "outputs": [
        {
          "output_type": "stream",
          "name": "stdout",
          "text": [
            "Neo4j GDS Version: 2.3.2+14\n"
          ]
        }
      ],
      "source": [
        "# instantiate GDS and connect to database \n",
        "gds = GraphDataScience(HOST, auth=(USERNAME, PASSWORD), aura_ds=True)\n",
        "\n",
        "# confirm connection with gds version \n",
        "print('Neo4j GDS Version:', gds.version())"
      ]
    },
    {
      "cell_type": "markdown",
      "source": [
        "# Create Direct Relationships\n",
        "We will use these relationships to create bi-partite graphs between patients and other nodes."
      ],
      "metadata": {
        "id": "pIeQwPfY8Bxl"
      },
      "id": "pIeQwPfY8Bxl"
    },
    {
      "cell_type": "markdown",
      "source": [
        "## Direct Patient to Encounter Type Relationship\n",
        "Encounters are unique to the patient, so creating a direct link to the SNOMED_CT code to use for an aggregated bi-partite graph."
      ],
      "metadata": {
        "id": "FD22JZBpWP90"
      },
      "id": "FD22JZBpWP90"
    },
    {
      "cell_type": "code",
      "source": [
        "gds.run_cypher('''\n",
        "MATCH (p:Patient)-[e:HAS_ENCOUNTER]-(en:Encounter)-[r:OF_TYPE]-(t:SNOMED_CT)\n",
        "WITH p, t, COUNT(r) AS relCount\n",
        "MERGE(p)-[s:ENCOUNTER_CODE]->(t)\n",
        "SET s.relCount = relCount\n",
        "RETURN count(DISTINCT s) AS newRels\n",
        "''')"
      ],
      "metadata": {
        "colab": {
          "base_uri": "https://localhost:8080/",
          "height": 81
        },
        "id": "4aDz4LSPLD8U",
        "outputId": "5b2b0ae3-e1d4-41ea-a1bd-8bc687b93497"
      },
      "execution_count": null,
      "outputs": [
        {
          "output_type": "execute_result",
          "data": {
            "text/plain": [
              "   newRels\n",
              "0    50331"
            ],
            "text/html": [
              "\n",
              "  <div id=\"df-6e4c82ca-7476-45a8-874e-61f6976ed750\">\n",
              "    <div class=\"colab-df-container\">\n",
              "      <div>\n",
              "<style scoped>\n",
              "    .dataframe tbody tr th:only-of-type {\n",
              "        vertical-align: middle;\n",
              "    }\n",
              "\n",
              "    .dataframe tbody tr th {\n",
              "        vertical-align: top;\n",
              "    }\n",
              "\n",
              "    .dataframe thead th {\n",
              "        text-align: right;\n",
              "    }\n",
              "</style>\n",
              "<table border=\"1\" class=\"dataframe\">\n",
              "  <thead>\n",
              "    <tr style=\"text-align: right;\">\n",
              "      <th></th>\n",
              "      <th>newRels</th>\n",
              "    </tr>\n",
              "  </thead>\n",
              "  <tbody>\n",
              "    <tr>\n",
              "      <th>0</th>\n",
              "      <td>50331</td>\n",
              "    </tr>\n",
              "  </tbody>\n",
              "</table>\n",
              "</div>\n",
              "      <button class=\"colab-df-convert\" onclick=\"convertToInteractive('df-6e4c82ca-7476-45a8-874e-61f6976ed750')\"\n",
              "              title=\"Convert this dataframe to an interactive table.\"\n",
              "              style=\"display:none;\">\n",
              "        \n",
              "  <svg xmlns=\"http://www.w3.org/2000/svg\" height=\"24px\"viewBox=\"0 0 24 24\"\n",
              "       width=\"24px\">\n",
              "    <path d=\"M0 0h24v24H0V0z\" fill=\"none\"/>\n",
              "    <path d=\"M18.56 5.44l.94 2.06.94-2.06 2.06-.94-2.06-.94-.94-2.06-.94 2.06-2.06.94zm-11 1L8.5 8.5l.94-2.06 2.06-.94-2.06-.94L8.5 2.5l-.94 2.06-2.06.94zm10 10l.94 2.06.94-2.06 2.06-.94-2.06-.94-.94-2.06-.94 2.06-2.06.94z\"/><path d=\"M17.41 7.96l-1.37-1.37c-.4-.4-.92-.59-1.43-.59-.52 0-1.04.2-1.43.59L10.3 9.45l-7.72 7.72c-.78.78-.78 2.05 0 2.83L4 21.41c.39.39.9.59 1.41.59.51 0 1.02-.2 1.41-.59l7.78-7.78 2.81-2.81c.8-.78.8-2.07 0-2.86zM5.41 20L4 18.59l7.72-7.72 1.47 1.35L5.41 20z\"/>\n",
              "  </svg>\n",
              "      </button>\n",
              "      \n",
              "  <style>\n",
              "    .colab-df-container {\n",
              "      display:flex;\n",
              "      flex-wrap:wrap;\n",
              "      gap: 12px;\n",
              "    }\n",
              "\n",
              "    .colab-df-convert {\n",
              "      background-color: #E8F0FE;\n",
              "      border: none;\n",
              "      border-radius: 50%;\n",
              "      cursor: pointer;\n",
              "      display: none;\n",
              "      fill: #1967D2;\n",
              "      height: 32px;\n",
              "      padding: 0 0 0 0;\n",
              "      width: 32px;\n",
              "    }\n",
              "\n",
              "    .colab-df-convert:hover {\n",
              "      background-color: #E2EBFA;\n",
              "      box-shadow: 0px 1px 2px rgba(60, 64, 67, 0.3), 0px 1px 3px 1px rgba(60, 64, 67, 0.15);\n",
              "      fill: #174EA6;\n",
              "    }\n",
              "\n",
              "    [theme=dark] .colab-df-convert {\n",
              "      background-color: #3B4455;\n",
              "      fill: #D2E3FC;\n",
              "    }\n",
              "\n",
              "    [theme=dark] .colab-df-convert:hover {\n",
              "      background-color: #434B5C;\n",
              "      box-shadow: 0px 1px 3px 1px rgba(0, 0, 0, 0.15);\n",
              "      filter: drop-shadow(0px 1px 2px rgba(0, 0, 0, 0.3));\n",
              "      fill: #FFFFFF;\n",
              "    }\n",
              "  </style>\n",
              "\n",
              "      <script>\n",
              "        const buttonEl =\n",
              "          document.querySelector('#df-6e4c82ca-7476-45a8-874e-61f6976ed750 button.colab-df-convert');\n",
              "        buttonEl.style.display =\n",
              "          google.colab.kernel.accessAllowed ? 'block' : 'none';\n",
              "\n",
              "        async function convertToInteractive(key) {\n",
              "          const element = document.querySelector('#df-6e4c82ca-7476-45a8-874e-61f6976ed750');\n",
              "          const dataTable =\n",
              "            await google.colab.kernel.invokeFunction('convertToInteractive',\n",
              "                                                     [key], {});\n",
              "          if (!dataTable) return;\n",
              "\n",
              "          const docLinkHtml = 'Like what you see? Visit the ' +\n",
              "            '<a target=\"_blank\" href=https://colab.research.google.com/notebooks/data_table.ipynb>data table notebook</a>'\n",
              "            + ' to learn more about interactive tables.';\n",
              "          element.innerHTML = '';\n",
              "          dataTable['output_type'] = 'display_data';\n",
              "          await google.colab.output.renderOutput(dataTable, element);\n",
              "          const docLink = document.createElement('div');\n",
              "          docLink.innerHTML = docLinkHtml;\n",
              "          element.appendChild(docLink);\n",
              "        }\n",
              "      </script>\n",
              "    </div>\n",
              "  </div>\n",
              "  "
            ]
          },
          "metadata": {},
          "execution_count": 10
        }
      ],
      "id": "4aDz4LSPLD8U"
    },
    {
      "cell_type": "markdown",
      "source": [
        "## Direct Patient to Procedure Type Relationship\n",
        "Bypass the Encounter node to create a drect relationship from Patients to Procedure Types based upon the SNOMED_CT code."
      ],
      "metadata": {
        "id": "ky7AfNo0Bt7i"
      },
      "id": "ky7AfNo0Bt7i"
    },
    {
      "cell_type": "code",
      "source": [
        "gds.run_cypher('''\n",
        "MATCH (p:Patient)-[e:HAS_ENCOUNTER]-(en:Encounter)-[r:HAS_PROCEDURE]-(t:SNOMED_CT)\n",
        "WITH p, t, COUNT(r) AS relCount\n",
        "MERGE(p)-[s:PROCEDURE_CODE]->(t)\n",
        "SET s.relCount = relCount\n",
        "RETURN count(DISTINCT s) AS newRels\n",
        "''')"
      ],
      "metadata": {
        "colab": {
          "base_uri": "https://localhost:8080/",
          "height": 81
        },
        "id": "4JYBnB0CBt12",
        "outputId": "91fdd9fc-7678-48c6-b7c8-cab0b529588c"
      },
      "execution_count": null,
      "outputs": [
        {
          "output_type": "execute_result",
          "data": {
            "text/plain": [
              "   newRels\n",
              "0    93820"
            ],
            "text/html": [
              "\n",
              "  <div id=\"df-64fffa4e-6889-4162-81ee-6aefd57a88ae\">\n",
              "    <div class=\"colab-df-container\">\n",
              "      <div>\n",
              "<style scoped>\n",
              "    .dataframe tbody tr th:only-of-type {\n",
              "        vertical-align: middle;\n",
              "    }\n",
              "\n",
              "    .dataframe tbody tr th {\n",
              "        vertical-align: top;\n",
              "    }\n",
              "\n",
              "    .dataframe thead th {\n",
              "        text-align: right;\n",
              "    }\n",
              "</style>\n",
              "<table border=\"1\" class=\"dataframe\">\n",
              "  <thead>\n",
              "    <tr style=\"text-align: right;\">\n",
              "      <th></th>\n",
              "      <th>newRels</th>\n",
              "    </tr>\n",
              "  </thead>\n",
              "  <tbody>\n",
              "    <tr>\n",
              "      <th>0</th>\n",
              "      <td>93820</td>\n",
              "    </tr>\n",
              "  </tbody>\n",
              "</table>\n",
              "</div>\n",
              "      <button class=\"colab-df-convert\" onclick=\"convertToInteractive('df-64fffa4e-6889-4162-81ee-6aefd57a88ae')\"\n",
              "              title=\"Convert this dataframe to an interactive table.\"\n",
              "              style=\"display:none;\">\n",
              "        \n",
              "  <svg xmlns=\"http://www.w3.org/2000/svg\" height=\"24px\"viewBox=\"0 0 24 24\"\n",
              "       width=\"24px\">\n",
              "    <path d=\"M0 0h24v24H0V0z\" fill=\"none\"/>\n",
              "    <path d=\"M18.56 5.44l.94 2.06.94-2.06 2.06-.94-2.06-.94-.94-2.06-.94 2.06-2.06.94zm-11 1L8.5 8.5l.94-2.06 2.06-.94-2.06-.94L8.5 2.5l-.94 2.06-2.06.94zm10 10l.94 2.06.94-2.06 2.06-.94-2.06-.94-.94-2.06-.94 2.06-2.06.94z\"/><path d=\"M17.41 7.96l-1.37-1.37c-.4-.4-.92-.59-1.43-.59-.52 0-1.04.2-1.43.59L10.3 9.45l-7.72 7.72c-.78.78-.78 2.05 0 2.83L4 21.41c.39.39.9.59 1.41.59.51 0 1.02-.2 1.41-.59l7.78-7.78 2.81-2.81c.8-.78.8-2.07 0-2.86zM5.41 20L4 18.59l7.72-7.72 1.47 1.35L5.41 20z\"/>\n",
              "  </svg>\n",
              "      </button>\n",
              "      \n",
              "  <style>\n",
              "    .colab-df-container {\n",
              "      display:flex;\n",
              "      flex-wrap:wrap;\n",
              "      gap: 12px;\n",
              "    }\n",
              "\n",
              "    .colab-df-convert {\n",
              "      background-color: #E8F0FE;\n",
              "      border: none;\n",
              "      border-radius: 50%;\n",
              "      cursor: pointer;\n",
              "      display: none;\n",
              "      fill: #1967D2;\n",
              "      height: 32px;\n",
              "      padding: 0 0 0 0;\n",
              "      width: 32px;\n",
              "    }\n",
              "\n",
              "    .colab-df-convert:hover {\n",
              "      background-color: #E2EBFA;\n",
              "      box-shadow: 0px 1px 2px rgba(60, 64, 67, 0.3), 0px 1px 3px 1px rgba(60, 64, 67, 0.15);\n",
              "      fill: #174EA6;\n",
              "    }\n",
              "\n",
              "    [theme=dark] .colab-df-convert {\n",
              "      background-color: #3B4455;\n",
              "      fill: #D2E3FC;\n",
              "    }\n",
              "\n",
              "    [theme=dark] .colab-df-convert:hover {\n",
              "      background-color: #434B5C;\n",
              "      box-shadow: 0px 1px 3px 1px rgba(0, 0, 0, 0.15);\n",
              "      filter: drop-shadow(0px 1px 2px rgba(0, 0, 0, 0.3));\n",
              "      fill: #FFFFFF;\n",
              "    }\n",
              "  </style>\n",
              "\n",
              "      <script>\n",
              "        const buttonEl =\n",
              "          document.querySelector('#df-64fffa4e-6889-4162-81ee-6aefd57a88ae button.colab-df-convert');\n",
              "        buttonEl.style.display =\n",
              "          google.colab.kernel.accessAllowed ? 'block' : 'none';\n",
              "\n",
              "        async function convertToInteractive(key) {\n",
              "          const element = document.querySelector('#df-64fffa4e-6889-4162-81ee-6aefd57a88ae');\n",
              "          const dataTable =\n",
              "            await google.colab.kernel.invokeFunction('convertToInteractive',\n",
              "                                                     [key], {});\n",
              "          if (!dataTable) return;\n",
              "\n",
              "          const docLinkHtml = 'Like what you see? Visit the ' +\n",
              "            '<a target=\"_blank\" href=https://colab.research.google.com/notebooks/data_table.ipynb>data table notebook</a>'\n",
              "            + ' to learn more about interactive tables.';\n",
              "          element.innerHTML = '';\n",
              "          dataTable['output_type'] = 'display_data';\n",
              "          await google.colab.output.renderOutput(dataTable, element);\n",
              "          const docLink = document.createElement('div');\n",
              "          docLink.innerHTML = docLinkHtml;\n",
              "          element.appendChild(docLink);\n",
              "        }\n",
              "      </script>\n",
              "    </div>\n",
              "  </div>\n",
              "  "
            ]
          },
          "metadata": {},
          "execution_count": 11
        }
      ],
      "id": "4JYBnB0CBt12"
    },
    {
      "cell_type": "markdown",
      "source": [
        "## Direct Patient to Drug Relationship\n",
        "Bypass the Encounter node to create a direct relationship between Patients and the Drugs they are prescribed or administered. "
      ],
      "metadata": {
        "id": "x51exhnj61wb"
      },
      "id": "x51exhnj61wb"
    },
    {
      "cell_type": "code",
      "source": [
        "gds.run_cypher('''\n",
        "MATCH (p:Patient)-[e:HAS_ENCOUNTER]-(en:Encounter)-[r:HAS_DRUG]-(d:Drug)\n",
        "WITH p, d, COUNT(r) AS relCount\n",
        "MERGE(p)-[s:DRUGS_PRESCRIBED]->(d)\n",
        "SET s.relCount = relCount\n",
        "RETURN count(DISTINCT s) AS newRels\n",
        "''')"
      ],
      "metadata": {
        "colab": {
          "base_uri": "https://localhost:8080/",
          "height": 81
        },
        "outputId": "460e7629-8495-42ba-8679-90fb91dc8746",
        "id": "9WxdfW9U61wb"
      },
      "execution_count": null,
      "outputs": [
        {
          "output_type": "execute_result",
          "data": {
            "text/plain": [
              "   newRels\n",
              "0    36093"
            ],
            "text/html": [
              "\n",
              "  <div id=\"df-130fc5af-ba0c-4458-9c11-3096a5705b6d\">\n",
              "    <div class=\"colab-df-container\">\n",
              "      <div>\n",
              "<style scoped>\n",
              "    .dataframe tbody tr th:only-of-type {\n",
              "        vertical-align: middle;\n",
              "    }\n",
              "\n",
              "    .dataframe tbody tr th {\n",
              "        vertical-align: top;\n",
              "    }\n",
              "\n",
              "    .dataframe thead th {\n",
              "        text-align: right;\n",
              "    }\n",
              "</style>\n",
              "<table border=\"1\" class=\"dataframe\">\n",
              "  <thead>\n",
              "    <tr style=\"text-align: right;\">\n",
              "      <th></th>\n",
              "      <th>newRels</th>\n",
              "    </tr>\n",
              "  </thead>\n",
              "  <tbody>\n",
              "    <tr>\n",
              "      <th>0</th>\n",
              "      <td>36093</td>\n",
              "    </tr>\n",
              "  </tbody>\n",
              "</table>\n",
              "</div>\n",
              "      <button class=\"colab-df-convert\" onclick=\"convertToInteractive('df-130fc5af-ba0c-4458-9c11-3096a5705b6d')\"\n",
              "              title=\"Convert this dataframe to an interactive table.\"\n",
              "              style=\"display:none;\">\n",
              "        \n",
              "  <svg xmlns=\"http://www.w3.org/2000/svg\" height=\"24px\"viewBox=\"0 0 24 24\"\n",
              "       width=\"24px\">\n",
              "    <path d=\"M0 0h24v24H0V0z\" fill=\"none\"/>\n",
              "    <path d=\"M18.56 5.44l.94 2.06.94-2.06 2.06-.94-2.06-.94-.94-2.06-.94 2.06-2.06.94zm-11 1L8.5 8.5l.94-2.06 2.06-.94-2.06-.94L8.5 2.5l-.94 2.06-2.06.94zm10 10l.94 2.06.94-2.06 2.06-.94-2.06-.94-.94-2.06-.94 2.06-2.06.94z\"/><path d=\"M17.41 7.96l-1.37-1.37c-.4-.4-.92-.59-1.43-.59-.52 0-1.04.2-1.43.59L10.3 9.45l-7.72 7.72c-.78.78-.78 2.05 0 2.83L4 21.41c.39.39.9.59 1.41.59.51 0 1.02-.2 1.41-.59l7.78-7.78 2.81-2.81c.8-.78.8-2.07 0-2.86zM5.41 20L4 18.59l7.72-7.72 1.47 1.35L5.41 20z\"/>\n",
              "  </svg>\n",
              "      </button>\n",
              "      \n",
              "  <style>\n",
              "    .colab-df-container {\n",
              "      display:flex;\n",
              "      flex-wrap:wrap;\n",
              "      gap: 12px;\n",
              "    }\n",
              "\n",
              "    .colab-df-convert {\n",
              "      background-color: #E8F0FE;\n",
              "      border: none;\n",
              "      border-radius: 50%;\n",
              "      cursor: pointer;\n",
              "      display: none;\n",
              "      fill: #1967D2;\n",
              "      height: 32px;\n",
              "      padding: 0 0 0 0;\n",
              "      width: 32px;\n",
              "    }\n",
              "\n",
              "    .colab-df-convert:hover {\n",
              "      background-color: #E2EBFA;\n",
              "      box-shadow: 0px 1px 2px rgba(60, 64, 67, 0.3), 0px 1px 3px 1px rgba(60, 64, 67, 0.15);\n",
              "      fill: #174EA6;\n",
              "    }\n",
              "\n",
              "    [theme=dark] .colab-df-convert {\n",
              "      background-color: #3B4455;\n",
              "      fill: #D2E3FC;\n",
              "    }\n",
              "\n",
              "    [theme=dark] .colab-df-convert:hover {\n",
              "      background-color: #434B5C;\n",
              "      box-shadow: 0px 1px 3px 1px rgba(0, 0, 0, 0.15);\n",
              "      filter: drop-shadow(0px 1px 2px rgba(0, 0, 0, 0.3));\n",
              "      fill: #FFFFFF;\n",
              "    }\n",
              "  </style>\n",
              "\n",
              "      <script>\n",
              "        const buttonEl =\n",
              "          document.querySelector('#df-130fc5af-ba0c-4458-9c11-3096a5705b6d button.colab-df-convert');\n",
              "        buttonEl.style.display =\n",
              "          google.colab.kernel.accessAllowed ? 'block' : 'none';\n",
              "\n",
              "        async function convertToInteractive(key) {\n",
              "          const element = document.querySelector('#df-130fc5af-ba0c-4458-9c11-3096a5705b6d');\n",
              "          const dataTable =\n",
              "            await google.colab.kernel.invokeFunction('convertToInteractive',\n",
              "                                                     [key], {});\n",
              "          if (!dataTable) return;\n",
              "\n",
              "          const docLinkHtml = 'Like what you see? Visit the ' +\n",
              "            '<a target=\"_blank\" href=https://colab.research.google.com/notebooks/data_table.ipynb>data table notebook</a>'\n",
              "            + ' to learn more about interactive tables.';\n",
              "          element.innerHTML = '';\n",
              "          dataTable['output_type'] = 'display_data';\n",
              "          await google.colab.output.renderOutput(dataTable, element);\n",
              "          const docLink = document.createElement('div');\n",
              "          docLink.innerHTML = docLinkHtml;\n",
              "          element.appendChild(docLink);\n",
              "        }\n",
              "      </script>\n",
              "    </div>\n",
              "  </div>\n",
              "  "
            ]
          },
          "metadata": {},
          "execution_count": 12
        }
      ],
      "id": "9WxdfW9U61wb"
    },
    {
      "cell_type": "markdown",
      "source": [
        "# Create Additional Statistics on Patient Nodes\n",
        "Use the Degree Centrality algorithm to create Patient statistics related to:\n",
        "* Encounters (Total and Emergency)\n",
        "* Procedures\n",
        "* Drugs (administered or prescribed)"
      ],
      "metadata": {
        "id": "qCj41ASmd1vY"
      },
      "id": "qCj41ASmd1vY"
    },
    {
      "cell_type": "markdown",
      "source": [
        "## Create Encounter Projection"
      ],
      "metadata": {
        "id": "QwLWhM1vd1sm"
      },
      "id": "QwLWhM1vd1sm"
    },
    {
      "cell_type": "code",
      "source": [
        "# specify projection config\n",
        "node_projection = ['Patient', 'Encounter', 'Emergency', 'SNOMED_CT', 'Drug']\n",
        "relationship_projection = {'HAS_ENCOUNTER': {'orientation': 'NATURAL'},\n",
        "                           'ENCOUNTER_CODE': {'orientation': 'NATURAL', 'properties': 'relCount'},\n",
        "                           'PROCEDURE_CODE': {'orientation': 'NATURAL', 'properties': 'relCount'},\n",
        "                           'DRUGS_PRESCRIBED': {'orientation': 'NATURAL', 'properties': 'relCount'}\n",
        "                           }\n",
        "\n",
        "# generate graph projection \n",
        "g, _ = gds.graph.project(\n",
        "          graph_name = 'patient-stats', \n",
        "          node_spec = node_projection, \n",
        "          relationship_spec = relationship_projection)"
      ],
      "metadata": {
        "id": "w7lLir7zd1pE",
        "colab": {
          "base_uri": "https://localhost:8080/",
          "height": 49,
          "referenced_widgets": [
            "06f6a00edbbf443cb9eda8f96b0e76fc",
            "42cd9b3fe48b466c9f4955c99f5aec49",
            "c1ea8a73d4c541058dd380ab32e81ef6",
            "720cd4dcc7834e0e95dfc4233af1820d",
            "d19fd823887041beb66c9c7f15cf9e2e",
            "9a94b5435a674046bd46995bd78797a1",
            "84c1b49d5628403498f70e32b6d6dd5f",
            "38147fc28f3d41be8ad941d465e8a01a",
            "4f9b58e8dbb74cbf9d466baf0e8e5b8b",
            "392bcacf691743baa34e6729e235dbd2",
            "240350cd2e9247f2a6a5461b2cc970e6"
          ]
        },
        "outputId": "544acc16-9192-449d-8774-5ffb3710de61"
      },
      "id": "w7lLir7zd1pE",
      "execution_count": null,
      "outputs": [
        {
          "output_type": "display_data",
          "data": {
            "text/plain": [
              "Loading:   0%|          | 0/100 [00:00<?, ?%/s]"
            ],
            "application/vnd.jupyter.widget-view+json": {
              "version_major": 2,
              "version_minor": 0,
              "model_id": "06f6a00edbbf443cb9eda8f96b0e76fc"
            }
          },
          "metadata": {}
        }
      ]
    },
    {
      "cell_type": "code",
      "source": [
        "# pd.DataFrame(_)"
      ],
      "metadata": {
        "id": "24X3DevFGA73"
      },
      "id": "24X3DevFGA73",
      "execution_count": null,
      "outputs": []
    },
    {
      "cell_type": "markdown",
      "source": [
        "## Total Encounter Count"
      ],
      "metadata": {
        "id": "gP263pCGGpu8"
      },
      "id": "gP263pCGGpu8"
    },
    {
      "cell_type": "code",
      "source": [
        "_ = gds.degree.write(G=g, \n",
        "                     nodeLabels = ['Patient', 'Encounter'],\n",
        "                     relationshipTypes = ['HAS_ENCOUNTER'],\n",
        "                     writeProperty='totalEncounters')"
      ],
      "metadata": {
        "id": "X_BIDW7IGppK"
      },
      "id": "X_BIDW7IGppK",
      "execution_count": null,
      "outputs": []
    },
    {
      "cell_type": "markdown",
      "source": [
        "## Emergency Encounter Count"
      ],
      "metadata": {
        "id": "9Tp6ie_Dd1kM"
      },
      "id": "9Tp6ie_Dd1kM"
    },
    {
      "cell_type": "code",
      "source": [
        "_ = gds.degree.write(G=g, \n",
        "                     nodeLabels=['Patient', 'Emergency'],\n",
        "                     relationshipTypes = ['HAS_ENCOUNTER'],\n",
        "                     writeProperty='emergencyEncounters')"
      ],
      "metadata": {
        "id": "M8NAl857FXWO"
      },
      "id": "M8NAl857FXWO",
      "execution_count": null,
      "outputs": []
    },
    {
      "cell_type": "markdown",
      "source": [
        "## Procedures Count\n",
        "Specify `relationshipWeightProperty` to add up the weights on each of the relationships. "
      ],
      "metadata": {
        "id": "RFqoc_1JFXSP"
      },
      "id": "RFqoc_1JFXSP"
    },
    {
      "cell_type": "code",
      "source": [
        "_ = gds.degree.write(G=g, \n",
        "                     nodeLabels=['Patient', 'SNOMED_CT'],\n",
        "                     relationshipTypes = ['PROCEDURE_CODE'],\n",
        "                     relationshipWeightProperty = 'relCount',\n",
        "                     writeProperty='procedureCount')"
      ],
      "metadata": {
        "id": "QO11ldEZd1c9"
      },
      "id": "QO11ldEZd1c9",
      "execution_count": null,
      "outputs": []
    },
    {
      "cell_type": "markdown",
      "source": [
        "## Drugs Count"
      ],
      "metadata": {
        "id": "ybXuthTqFXau"
      },
      "id": "ybXuthTqFXau"
    },
    {
      "cell_type": "code",
      "source": [
        "_ = gds.degree.write(G=g, \n",
        "                     nodeLabels=['Patient', 'Drug'],\n",
        "                     relationshipTypes = ['DRUGS_PRESCRIBED'],\n",
        "                     relationshipWeightProperty = 'relCount',\n",
        "                     writeProperty='drugCount')"
      ],
      "metadata": {
        "id": "PtjgH3KZFgGm"
      },
      "id": "PtjgH3KZFgGm",
      "execution_count": null,
      "outputs": []
    },
    {
      "cell_type": "markdown",
      "source": [
        "# Embeddings: Patient to Encounter Types"
      ],
      "metadata": {
        "id": "PhZAsrDyF8r_"
      },
      "id": "PhZAsrDyF8r_"
    },
    {
      "cell_type": "markdown",
      "source": [
        "## Create Bipartite Graph Projection"
      ],
      "metadata": {
        "id": "R3wEawVwTkma"
      },
      "id": "R3wEawVwTkma"
    },
    {
      "cell_type": "code",
      "source": [
        "# specify projection config\n",
        "node_projection = ['Patient','SNOMED_CT']\n",
        "relationship_projection = {'ENCOUNTER_CODE': {'orientation': 'UNDIRECTED', 'properties': 'relCount'}}\n",
        "\n",
        "# generate projection\n",
        "g, _ = gds.graph.project(\n",
        "          graph_name = 'patient-encounter', \n",
        "          node_spec = node_projection, \n",
        "          relationship_spec = relationship_projection)"
      ],
      "metadata": {
        "id": "ahRgcSdi4GAG"
      },
      "id": "ahRgcSdi4GAG",
      "execution_count": 27,
      "outputs": []
    },
    {
      "cell_type": "markdown",
      "source": [
        "## Embeddings from Patient-Encounter Bi-Partitie Graph"
      ],
      "metadata": {
        "id": "yIuXV9x3MeVU"
      },
      "id": "yIuXV9x3MeVU"
    },
    {
      "cell_type": "code",
      "source": [
        "_ = gds.fastRP.write(G=g,\n",
        "                     nodeLabels=['Patient','SNOMED_CT'],\n",
        "                     relationshipTypes=['ENCOUNTER_CODE'], \n",
        "                     relationshipWeightProperty=\"relCount\",\n",
        "                     writeProperty=\"encounterEmbedding\",\n",
        "                     randomSeed=42,\n",
        "                     embeddingDimension=128)"
      ],
      "metadata": {
        "id": "6ttgaMPXMeYs"
      },
      "execution_count": 29,
      "outputs": [],
      "id": "6ttgaMPXMeYs"
    },
    {
      "cell_type": "markdown",
      "source": [
        "## Drop Graph Projection"
      ],
      "metadata": {
        "id": "uh8sePoP41I6"
      },
      "id": "uh8sePoP41I6"
    },
    {
      "cell_type": "code",
      "source": [
        "# drop projection \n",
        "_ = g.drop()"
      ],
      "metadata": {
        "id": "Wgp-DRs5dYHS"
      },
      "id": "Wgp-DRs5dYHS",
      "execution_count": 30,
      "outputs": []
    },
    {
      "cell_type": "markdown",
      "source": [
        "# Embeddings: Patient to Procedure Types"
      ],
      "metadata": {
        "id": "JoWho8QA6t8w"
      },
      "id": "JoWho8QA6t8w"
    },
    {
      "cell_type": "markdown",
      "source": [
        "## Create Bipartite Graph Projection"
      ],
      "metadata": {
        "id": "mPeDSqgt6t8x"
      },
      "id": "mPeDSqgt6t8x"
    },
    {
      "cell_type": "code",
      "source": [
        "# specify projection config\n",
        "node_projection = ['Patient','SNOMED_CT']\n",
        "relationship_projection = {'PROCEDURE_CODE': {'orientation': 'UNDIRECTED', 'properties': 'relCount'}}\n",
        "\n",
        "# generate projection\n",
        "g, _ = gds.graph.project(\n",
        "          graph_name = 'patient-procedure', \n",
        "          node_spec = node_projection, \n",
        "          relationship_spec = relationship_projection)"
      ],
      "metadata": {
        "id": "0CXoeo7u6t8x"
      },
      "execution_count": 19,
      "outputs": [],
      "id": "0CXoeo7u6t8x"
    },
    {
      "cell_type": "markdown",
      "source": [
        "## Embeddings from Patient-Encounter Similarity Graph"
      ],
      "metadata": {
        "id": "VPa1phi66t8x"
      },
      "id": "VPa1phi66t8x"
    },
    {
      "cell_type": "code",
      "source": [
        "_ = gds.fastRP.write(G=g,\n",
        "                     nodeLabels=['Patient','SNOMED_CT'],\n",
        "                     relationshipTypes=['PROCEDURE_CODE'], \n",
        "                     relationshipWeightProperty=\"relCount\",\n",
        "                     writeProperty=\"procedureEmbedding\",\n",
        "                     randomSeed=42,\n",
        "                     embeddingDimension=128)"
      ],
      "metadata": {
        "id": "Ys6fYF8X6t8x"
      },
      "execution_count": 20,
      "outputs": [],
      "id": "Ys6fYF8X6t8x"
    },
    {
      "cell_type": "markdown",
      "source": [
        "## Drop Graph Projection"
      ],
      "metadata": {
        "id": "KPIESl6o6t8y"
      },
      "id": "KPIESl6o6t8y"
    },
    {
      "cell_type": "code",
      "source": [
        "# drop projection \n",
        "_ = g.drop()"
      ],
      "metadata": {
        "id": "mBZvtPQU6t8y"
      },
      "execution_count": 21,
      "outputs": [],
      "id": "mBZvtPQU6t8y"
    },
    {
      "cell_type": "markdown",
      "source": [
        "# Embeddings: Patient to Drugs"
      ],
      "metadata": {
        "id": "i86a6DX57b8I"
      },
      "id": "i86a6DX57b8I"
    },
    {
      "cell_type": "markdown",
      "source": [
        "## Create Bipartite Graph Projection"
      ],
      "metadata": {
        "id": "QDCjmUxf7b8I"
      },
      "id": "QDCjmUxf7b8I"
    },
    {
      "cell_type": "code",
      "source": [
        "# specify projection config\n",
        "node_projection = ['Patient','Drug']\n",
        "relationship_projection = {'DRUGS_PRESCRIBED': {'orientation': 'UNDIRECTED', 'properties': 'relCount'}}\n",
        "\n",
        "# generate projection\n",
        "g, _ = gds.graph.project(\n",
        "          graph_name = 'patient-drugs', \n",
        "          node_spec = node_projection, \n",
        "          relationship_spec = relationship_projection)"
      ],
      "metadata": {
        "colab": {
          "base_uri": "https://localhost:8080/",
          "height": 49,
          "referenced_widgets": [
            "5026ede842c84265a89f4594526ae91c",
            "48d6f56654f04ee288a273cc4f5b46a7",
            "ca13ca3c82564e28ac892fc7e05664c4",
            "aef50e9f795c400cb35dfc255e5d75ab",
            "5d47b5c395b6430488943aa81cfc4ebf",
            "43b72767ede6422d8348b3310ef7b8a4",
            "ff496e7a6e7c451bb1969afa4479b759",
            "0b1fb0918fa04a378482968840715469",
            "2e274d43e0d6472bb377ca6a26b5cfe4",
            "ed7923afd5fe4ccfb5997c4ae3693d79",
            "f1b9c9ab05334861a3184b1b1e7713c7"
          ]
        },
        "id": "cO2LlkwN7b8I",
        "outputId": "f9313caa-b5de-4bdf-9617-febde2c2c24d"
      },
      "execution_count": 22,
      "outputs": [
        {
          "output_type": "display_data",
          "data": {
            "text/plain": [
              "Loading:   0%|          | 0/100 [00:00<?, ?%/s]"
            ],
            "application/vnd.jupyter.widget-view+json": {
              "version_major": 2,
              "version_minor": 0,
              "model_id": "5026ede842c84265a89f4594526ae91c"
            }
          },
          "metadata": {}
        }
      ],
      "id": "cO2LlkwN7b8I"
    },
    {
      "cell_type": "markdown",
      "source": [
        "## Embeddings from Patient-Encounter Similarity Graph"
      ],
      "metadata": {
        "id": "dLnyWyR77b8I"
      },
      "id": "dLnyWyR77b8I"
    },
    {
      "cell_type": "code",
      "source": [
        "_ = gds.fastRP.write(G=g,\n",
        "                     nodeLabels=['Patient','Drug'],\n",
        "                     relationshipTypes=['DRUGS_PRESCRIBED'], \n",
        "                     relationshipWeightProperty=\"relCount\",\n",
        "                     writeProperty=\"drugsEmbedding\",\n",
        "                     randomSeed=42,\n",
        "                     embeddingDimension=128)"
      ],
      "metadata": {
        "id": "D9SxxGPi7b8I"
      },
      "execution_count": 23,
      "outputs": [],
      "id": "D9SxxGPi7b8I"
    },
    {
      "cell_type": "markdown",
      "source": [
        "## Drop Graph Projection"
      ],
      "metadata": {
        "id": "6Qdq-W8u8Wsw"
      },
      "id": "6Qdq-W8u8Wsw"
    },
    {
      "cell_type": "code",
      "source": [
        "# drop projection \n",
        "_ = g.drop()"
      ],
      "metadata": {
        "id": "HPm-tddx8Wsx"
      },
      "execution_count": 24,
      "outputs": [],
      "id": "HPm-tddx8Wsx"
    },
    {
      "cell_type": "markdown",
      "source": [
        "# Patient Clustering via KNN\n",
        "Run KNN on Patient nodes leveraging prior statistics and embeddings."
      ],
      "metadata": {
        "id": "u2XzTwJLXov9"
      },
      "id": "u2XzTwJLXov9"
    },
    {
      "cell_type": "markdown",
      "source": [
        "## Create Graph Projection"
      ],
      "metadata": {
        "id": "PbM02JnhXoy9"
      },
      "id": "PbM02JnhXoy9"
    },
    {
      "cell_type": "code",
      "source": [
        "g, _ = gds.graph.project(\n",
        "    graph_name = 'patient-knn', \n",
        "    node_spec = ['Patient'], \n",
        "    nodeProperties = ['expenses',\n",
        "                      'encounterEmbedding',\n",
        "                      'procedureEmbedding',\n",
        "                      'drugsEmbedding'],\n",
        "    relationship_spec = '*'\n",
        ")"
      ],
      "metadata": {
        "id": "yVvHusyfXo17"
      },
      "id": "yVvHusyfXo17",
      "execution_count": 32,
      "outputs": []
    },
    {
      "cell_type": "code",
      "source": [
        "pd.DataFrame(_)"
      ],
      "metadata": {
        "colab": {
          "base_uri": "https://localhost:8080/",
          "height": 299
        },
        "id": "rdtSkYGuXo4o",
        "outputId": "81ddeb31-330d-4004-c96c-a9707a22992f"
      },
      "id": "rdtSkYGuXo4o",
      "execution_count": 33,
      "outputs": [
        {
          "output_type": "execute_result",
          "data": {
            "text/plain": [
              "                                                                                                                                                                                                                                                                                                                                                                            0\n",
              "nodeProjection          {'Patient': {'label': 'Patient', 'properties': {'procedureEmbedding': {'defaultValue': None, 'property': 'procedureEmbedding'}, 'drugsEmbedding': {'defaultValue': None, 'property': 'drugsEmbedding'}, 'encounterEmbedding': {'defaultValue': None, 'property': 'encounterEmbedding'}, 'expenses': {'defaultValue': None, 'property': 'expenses'}}}}\n",
              "relationshipProjection                                                                                                                                                                                                                                {'__ALL__': {'orientation': 'NATURAL', 'indexInverse': False, 'aggregation': 'DEFAULT', 'type': '*', 'properties': {}}}\n",
              "graphName                                                                                                                                                                                                                                                                                                                                                         patient-knn\n",
              "nodeCount                                                                                                                                                                                                                                                                                                                                                                5885\n",
              "relationshipCount                                                                                                                                                                                                                                                                                                                                                           0\n",
              "projectMillis                                                                                                                                                                                                                                                                                                                                                             235"
            ],
            "text/html": [
              "\n",
              "  <div id=\"df-45194d5f-7f55-4fb6-aae4-baffd84b48c4\">\n",
              "    <div class=\"colab-df-container\">\n",
              "      <div>\n",
              "<style scoped>\n",
              "    .dataframe tbody tr th:only-of-type {\n",
              "        vertical-align: middle;\n",
              "    }\n",
              "\n",
              "    .dataframe tbody tr th {\n",
              "        vertical-align: top;\n",
              "    }\n",
              "\n",
              "    .dataframe thead th {\n",
              "        text-align: right;\n",
              "    }\n",
              "</style>\n",
              "<table border=\"1\" class=\"dataframe\">\n",
              "  <thead>\n",
              "    <tr style=\"text-align: right;\">\n",
              "      <th></th>\n",
              "      <th>0</th>\n",
              "    </tr>\n",
              "  </thead>\n",
              "  <tbody>\n",
              "    <tr>\n",
              "      <th>nodeProjection</th>\n",
              "      <td>{'Patient': {'label': 'Patient', 'properties': {'procedureEmbedding': {'defaultValue': None, 'property': 'procedureEmbedding'}, 'drugsEmbedding': {'defaultValue': None, 'property': 'drugsEmbedding'}, 'encounterEmbedding': {'defaultValue': None, 'property': 'encounterEmbedding'}, 'expenses': {'defaultValue': None, 'property': 'expenses'}}}}</td>\n",
              "    </tr>\n",
              "    <tr>\n",
              "      <th>relationshipProjection</th>\n",
              "      <td>{'__ALL__': {'orientation': 'NATURAL', 'indexInverse': False, 'aggregation': 'DEFAULT', 'type': '*', 'properties': {}}}</td>\n",
              "    </tr>\n",
              "    <tr>\n",
              "      <th>graphName</th>\n",
              "      <td>patient-knn</td>\n",
              "    </tr>\n",
              "    <tr>\n",
              "      <th>nodeCount</th>\n",
              "      <td>5885</td>\n",
              "    </tr>\n",
              "    <tr>\n",
              "      <th>relationshipCount</th>\n",
              "      <td>0</td>\n",
              "    </tr>\n",
              "    <tr>\n",
              "      <th>projectMillis</th>\n",
              "      <td>235</td>\n",
              "    </tr>\n",
              "  </tbody>\n",
              "</table>\n",
              "</div>\n",
              "      <button class=\"colab-df-convert\" onclick=\"convertToInteractive('df-45194d5f-7f55-4fb6-aae4-baffd84b48c4')\"\n",
              "              title=\"Convert this dataframe to an interactive table.\"\n",
              "              style=\"display:none;\">\n",
              "        \n",
              "  <svg xmlns=\"http://www.w3.org/2000/svg\" height=\"24px\"viewBox=\"0 0 24 24\"\n",
              "       width=\"24px\">\n",
              "    <path d=\"M0 0h24v24H0V0z\" fill=\"none\"/>\n",
              "    <path d=\"M18.56 5.44l.94 2.06.94-2.06 2.06-.94-2.06-.94-.94-2.06-.94 2.06-2.06.94zm-11 1L8.5 8.5l.94-2.06 2.06-.94-2.06-.94L8.5 2.5l-.94 2.06-2.06.94zm10 10l.94 2.06.94-2.06 2.06-.94-2.06-.94-.94-2.06-.94 2.06-2.06.94z\"/><path d=\"M17.41 7.96l-1.37-1.37c-.4-.4-.92-.59-1.43-.59-.52 0-1.04.2-1.43.59L10.3 9.45l-7.72 7.72c-.78.78-.78 2.05 0 2.83L4 21.41c.39.39.9.59 1.41.59.51 0 1.02-.2 1.41-.59l7.78-7.78 2.81-2.81c.8-.78.8-2.07 0-2.86zM5.41 20L4 18.59l7.72-7.72 1.47 1.35L5.41 20z\"/>\n",
              "  </svg>\n",
              "      </button>\n",
              "      \n",
              "  <style>\n",
              "    .colab-df-container {\n",
              "      display:flex;\n",
              "      flex-wrap:wrap;\n",
              "      gap: 12px;\n",
              "    }\n",
              "\n",
              "    .colab-df-convert {\n",
              "      background-color: #E8F0FE;\n",
              "      border: none;\n",
              "      border-radius: 50%;\n",
              "      cursor: pointer;\n",
              "      display: none;\n",
              "      fill: #1967D2;\n",
              "      height: 32px;\n",
              "      padding: 0 0 0 0;\n",
              "      width: 32px;\n",
              "    }\n",
              "\n",
              "    .colab-df-convert:hover {\n",
              "      background-color: #E2EBFA;\n",
              "      box-shadow: 0px 1px 2px rgba(60, 64, 67, 0.3), 0px 1px 3px 1px rgba(60, 64, 67, 0.15);\n",
              "      fill: #174EA6;\n",
              "    }\n",
              "\n",
              "    [theme=dark] .colab-df-convert {\n",
              "      background-color: #3B4455;\n",
              "      fill: #D2E3FC;\n",
              "    }\n",
              "\n",
              "    [theme=dark] .colab-df-convert:hover {\n",
              "      background-color: #434B5C;\n",
              "      box-shadow: 0px 1px 3px 1px rgba(0, 0, 0, 0.15);\n",
              "      filter: drop-shadow(0px 1px 2px rgba(0, 0, 0, 0.3));\n",
              "      fill: #FFFFFF;\n",
              "    }\n",
              "  </style>\n",
              "\n",
              "      <script>\n",
              "        const buttonEl =\n",
              "          document.querySelector('#df-45194d5f-7f55-4fb6-aae4-baffd84b48c4 button.colab-df-convert');\n",
              "        buttonEl.style.display =\n",
              "          google.colab.kernel.accessAllowed ? 'block' : 'none';\n",
              "\n",
              "        async function convertToInteractive(key) {\n",
              "          const element = document.querySelector('#df-45194d5f-7f55-4fb6-aae4-baffd84b48c4');\n",
              "          const dataTable =\n",
              "            await google.colab.kernel.invokeFunction('convertToInteractive',\n",
              "                                                     [key], {});\n",
              "          if (!dataTable) return;\n",
              "\n",
              "          const docLinkHtml = 'Like what you see? Visit the ' +\n",
              "            '<a target=\"_blank\" href=https://colab.research.google.com/notebooks/data_table.ipynb>data table notebook</a>'\n",
              "            + ' to learn more about interactive tables.';\n",
              "          element.innerHTML = '';\n",
              "          dataTable['output_type'] = 'display_data';\n",
              "          await google.colab.output.renderOutput(dataTable, element);\n",
              "          const docLink = document.createElement('div');\n",
              "          docLink.innerHTML = docLinkHtml;\n",
              "          element.appendChild(docLink);\n",
              "        }\n",
              "      </script>\n",
              "    </div>\n",
              "  </div>\n",
              "  "
            ]
          },
          "metadata": {},
          "execution_count": 33
        }
      ]
    },
    {
      "cell_type": "markdown",
      "source": [
        "## Scale Non-Embedding Properties\n",
        "*Using Mean scaler so that the values are between -1 and 1 like the embeddings.*"
      ],
      "metadata": {
        "id": "uEn1eOGUXo7Z"
      },
      "id": "uEn1eOGUXo7Z"
    },
    {
      "cell_type": "code",
      "source": [
        "_ = gds.alpha.scaleProperties.mutate(G = g, \n",
        "                                 nodeProperties = ['expenses'],\n",
        "                                 scaler = 'Mean',\n",
        "                                 mutateProperty = 'scaledExpenses')"
      ],
      "metadata": {
        "id": "UiQEGcWsy0nS"
      },
      "id": "UiQEGcWsy0nS",
      "execution_count": 34,
      "outputs": []
    },
    {
      "cell_type": "markdown",
      "source": [
        "## Run KNN and Write to Graph"
      ],
      "metadata": {
        "id": "9MUtDgl4y0qS"
      },
      "id": "9MUtDgl4y0qS"
    },
    {
      "cell_type": "code",
      "source": [
        "patientKNN_result = gds.knn.write(\n",
        "                          G = g,\n",
        "                          topK=25,\n",
        "                          nodeProperties=['scaledExpenses',\n",
        "                                          'encounterEmbedding',\n",
        "                                          'procedureEmbedding',\n",
        "                                          'drugsEmbedding'],\n",
        "                          randomSeed=42,\n",
        "                          concurrency=1,\n",
        "                          writeRelationshipType=\"PATIENT-KNN\",\n",
        "                          writeProperty=\"similarity\"\n",
        ")\n"
      ],
      "metadata": {
        "colab": {
          "base_uri": "https://localhost:8080/",
          "height": 49,
          "referenced_widgets": [
            "bed0a6845f854b5baa7e5cff4dab52a7",
            "75475f941bca47979cfa95d9ed09e141",
            "66826e9391ee463f856a5b410020b97b",
            "6e6eb870eb3d4056a9b0af3803255811",
            "313e2991928b4218a6fc5bf03506a6cd",
            "1dedabad6a0247f1b1a38ffe0f833ab6",
            "b0a75ec084f44e698a0dfa34c08737d5",
            "40ebf3a13c8745baa457c717b62eb242",
            "379049972d4843e58c1bbe63199e4480",
            "7e4efda217c64624b38fed49d69e91a9",
            "151f4bb6e0594663a9e5cd32f7eab48f"
          ]
        },
        "id": "9xjStjKDy0tJ",
        "outputId": "866fbf52-f8aa-47bf-c33b-ac2581151b16"
      },
      "id": "9xjStjKDy0tJ",
      "execution_count": 36,
      "outputs": [
        {
          "output_type": "display_data",
          "data": {
            "text/plain": [
              "Knn:   0%|          | 0/100 [00:00<?, ?%/s]"
            ],
            "application/vnd.jupyter.widget-view+json": {
              "version_major": 2,
              "version_minor": 0,
              "model_id": "bed0a6845f854b5baa7e5cff4dab52a7"
            }
          },
          "metadata": {}
        }
      ]
    },
    {
      "cell_type": "code",
      "source": [
        "pd.DataFrame(patientKNN_result)[0]['similarityDistribution']"
      ],
      "metadata": {
        "colab": {
          "base_uri": "https://localhost:8080/"
        },
        "id": "Tt5Pk0Fwy0wA",
        "outputId": "43afbae1-91a8-41ca-a5f0-02d9cc8b04f9"
      },
      "id": "Tt5Pk0Fwy0wA",
      "execution_count": 37,
      "outputs": [
        {
          "output_type": "execute_result",
          "data": {
            "text/plain": [
              "{'p1': 0.5000019073486328,\n",
              " 'max': 1.0000057220458984,\n",
              " 'p5': 0.9115238189697266,\n",
              " 'p90': 0.9966716766357422,\n",
              " 'p50': 0.9810276031494141,\n",
              " 'p95': 0.9979228973388672,\n",
              " 'p10': 0.9425792694091797,\n",
              " 'p75': 0.9922046661376953,\n",
              " 'p99': 0.9990291595458984,\n",
              " 'p25': 0.9656085968017578,\n",
              " 'p100': 1.0000057220458984,\n",
              " 'min': 0.4926319122314453,\n",
              " 'mean': 0.964299832158506,\n",
              " 'stdDev': 0.06893502697243697}"
            ]
          },
          "metadata": {},
          "execution_count": 37
        }
      ]
    },
    {
      "cell_type": "code",
      "source": [
        "_ = g.drop()"
      ],
      "metadata": {
        "id": "uhUaiCoYy0y-"
      },
      "id": "uhUaiCoYy0y-",
      "execution_count": 38,
      "outputs": []
    },
    {
      "cell_type": "markdown",
      "source": [
        "## Create New Projection with Undirected Relationships"
      ],
      "metadata": {
        "id": "nuI_iG2_3KjW"
      },
      "id": "nuI_iG2_3KjW"
    },
    {
      "cell_type": "code",
      "source": [
        "g, _ = gds.graph.project(\n",
        "    graph_name = 'patient-knn-undirected', \n",
        "    node_spec = ['Patient'], \n",
        "    relationship_spec = {'PATIENT-KNN': {'orientation': 'UNDIRECTED'}},\n",
        "    relationshipProperties = ['similarity'] \n",
        ")"
      ],
      "metadata": {
        "id": "Qww4uq_b3KjW"
      },
      "execution_count": 40,
      "outputs": [],
      "id": "Qww4uq_b3KjW"
    },
    {
      "cell_type": "markdown",
      "source": [
        "## Identify Communities via Label Propagation"
      ],
      "metadata": {
        "id": "WVMgjHi33KjW"
      },
      "id": "WVMgjHi33KjW"
    },
    {
      "cell_type": "code",
      "source": [
        "_ = gds.labelPropagation.write(G = g, \n",
        "                          relationshipWeightProperty = 'similarity',\n",
        "                          writeProperty = 'knnCommunity')"
      ],
      "metadata": {
        "id": "_39YyuCg3KjW"
      },
      "execution_count": 42,
      "outputs": [],
      "id": "_39YyuCg3KjW"
    },
    {
      "cell_type": "code",
      "source": [
        "pd.DataFrame(_)[0][['communityCount', 'communityDistribution']]"
      ],
      "metadata": {
        "colab": {
          "base_uri": "https://localhost:8080/"
        },
        "outputId": "7e315e70-9310-4312-98ea-4b05c803ab0e",
        "id": "FiAdr09c3KjX"
      },
      "execution_count": 43,
      "outputs": [
        {
          "output_type": "execute_result",
          "data": {
            "text/plain": [
              "communityCount                                                                                                                                102\n",
              "communityDistribution    {'p99': 310, 'min': 6, 'max': 370, 'mean': 57.69607843137255, 'p90': 117, 'p50': 44, 'p999': 370, 'p95': 132, 'p75': 69}\n",
              "Name: 0, dtype: object"
            ]
          },
          "metadata": {},
          "execution_count": 43
        }
      ],
      "id": "FiAdr09c3KjX"
    },
    {
      "cell_type": "markdown",
      "source": [
        "## Run Weighted Page Rank on Similarity Network"
      ],
      "metadata": {
        "id": "uK7ITtaz3KjX"
      },
      "id": "uK7ITtaz3KjX"
    },
    {
      "cell_type": "code",
      "source": [
        "_ = gds.pageRank.write(G=g, \n",
        "                   relationshipTypes=['PATIENT-KNN'], \n",
        "                   relationshipWeightProperty = 'similarity',\n",
        "                   writeProperty='knnSimilarityPageRank')"
      ],
      "metadata": {
        "id": "d0obVLoG3KjX"
      },
      "execution_count": 44,
      "outputs": [],
      "id": "d0obVLoG3KjX"
    },
    {
      "cell_type": "code",
      "source": [
        "pd.DataFrame(_)[0]['centralityDistribution']"
      ],
      "metadata": {
        "colab": {
          "base_uri": "https://localhost:8080/"
        },
        "outputId": "6e67f0b1-dc10-440f-ebee-d5c9b9177cf2",
        "id": "9XPnjBPM3KjX"
      },
      "execution_count": 45,
      "outputs": [
        {
          "output_type": "execute_result",
          "data": {
            "text/plain": [
              "{'p99': 1.776144027709961,\n",
              " 'min': 0.3652496337890625,\n",
              " 'max': 2.326749801635742,\n",
              " 'mean': 0.9612404213178533,\n",
              " 'p90': 1.3508892059326172,\n",
              " 'p50': 0.9157199859619141,\n",
              " 'p999': 2.058591842651367,\n",
              " 'p95': 1.483968734741211,\n",
              " 'p75': 1.1192607879638672}"
            ]
          },
          "metadata": {},
          "execution_count": 45
        }
      ],
      "id": "9XPnjBPM3KjX"
    },
    {
      "cell_type": "code",
      "source": [],
      "metadata": {
        "id": "XPNXeB323BMU"
      },
      "id": "XPNXeB323BMU",
      "execution_count": null,
      "outputs": []
    }
  ],
  "metadata": {
    "kernelspec": {
      "display_name": "Python 3 (ipykernel)",
      "language": "python",
      "name": "python3"
    },
    "language_info": {
      "codemirror_mode": {
        "name": "ipython",
        "version": 3
      },
      "file_extension": ".py",
      "mimetype": "text/x-python",
      "name": "python",
      "nbconvert_exporter": "python",
      "pygments_lexer": "ipython3",
      "version": "3.10.8"
    },
    "colab": {
      "provenance": [],
      "machine_shape": "hm",
      "toc_visible": true,
      "include_colab_link": true
    },
    "gpuClass": "standard",
    "widgets": {
      "application/vnd.jupyter.widget-state+json": {
        "06f6a00edbbf443cb9eda8f96b0e76fc": {
          "model_module": "@jupyter-widgets/controls",
          "model_name": "HBoxModel",
          "model_module_version": "1.5.0",
          "state": {
            "_dom_classes": [],
            "_model_module": "@jupyter-widgets/controls",
            "_model_module_version": "1.5.0",
            "_model_name": "HBoxModel",
            "_view_count": null,
            "_view_module": "@jupyter-widgets/controls",
            "_view_module_version": "1.5.0",
            "_view_name": "HBoxView",
            "box_style": "",
            "children": [
              "IPY_MODEL_42cd9b3fe48b466c9f4955c99f5aec49",
              "IPY_MODEL_c1ea8a73d4c541058dd380ab32e81ef6",
              "IPY_MODEL_720cd4dcc7834e0e95dfc4233af1820d"
            ],
            "layout": "IPY_MODEL_d19fd823887041beb66c9c7f15cf9e2e"
          }
        },
        "42cd9b3fe48b466c9f4955c99f5aec49": {
          "model_module": "@jupyter-widgets/controls",
          "model_name": "HTMLModel",
          "model_module_version": "1.5.0",
          "state": {
            "_dom_classes": [],
            "_model_module": "@jupyter-widgets/controls",
            "_model_module_version": "1.5.0",
            "_model_name": "HTMLModel",
            "_view_count": null,
            "_view_module": "@jupyter-widgets/controls",
            "_view_module_version": "1.5.0",
            "_view_name": "HTMLView",
            "description": "",
            "description_tooltip": null,
            "layout": "IPY_MODEL_9a94b5435a674046bd46995bd78797a1",
            "placeholder": "​",
            "style": "IPY_MODEL_84c1b49d5628403498f70e32b6d6dd5f",
            "value": "Loading: 100%"
          }
        },
        "c1ea8a73d4c541058dd380ab32e81ef6": {
          "model_module": "@jupyter-widgets/controls",
          "model_name": "FloatProgressModel",
          "model_module_version": "1.5.0",
          "state": {
            "_dom_classes": [],
            "_model_module": "@jupyter-widgets/controls",
            "_model_module_version": "1.5.0",
            "_model_name": "FloatProgressModel",
            "_view_count": null,
            "_view_module": "@jupyter-widgets/controls",
            "_view_module_version": "1.5.0",
            "_view_name": "ProgressView",
            "bar_style": "",
            "description": "",
            "description_tooltip": null,
            "layout": "IPY_MODEL_38147fc28f3d41be8ad941d465e8a01a",
            "max": 100,
            "min": 0,
            "orientation": "horizontal",
            "style": "IPY_MODEL_4f9b58e8dbb74cbf9d466baf0e8e5b8b",
            "value": 100
          }
        },
        "720cd4dcc7834e0e95dfc4233af1820d": {
          "model_module": "@jupyter-widgets/controls",
          "model_name": "HTMLModel",
          "model_module_version": "1.5.0",
          "state": {
            "_dom_classes": [],
            "_model_module": "@jupyter-widgets/controls",
            "_model_module_version": "1.5.0",
            "_model_name": "HTMLModel",
            "_view_count": null,
            "_view_module": "@jupyter-widgets/controls",
            "_view_module_version": "1.5.0",
            "_view_name": "HTMLView",
            "description": "",
            "description_tooltip": null,
            "layout": "IPY_MODEL_392bcacf691743baa34e6729e235dbd2",
            "placeholder": "​",
            "style": "IPY_MODEL_240350cd2e9247f2a6a5461b2cc970e6",
            "value": " 100.0/100 [00:20&lt;00:00, 284.03%/s]"
          }
        },
        "d19fd823887041beb66c9c7f15cf9e2e": {
          "model_module": "@jupyter-widgets/base",
          "model_name": "LayoutModel",
          "model_module_version": "1.2.0",
          "state": {
            "_model_module": "@jupyter-widgets/base",
            "_model_module_version": "1.2.0",
            "_model_name": "LayoutModel",
            "_view_count": null,
            "_view_module": "@jupyter-widgets/base",
            "_view_module_version": "1.2.0",
            "_view_name": "LayoutView",
            "align_content": null,
            "align_items": null,
            "align_self": null,
            "border": null,
            "bottom": null,
            "display": null,
            "flex": null,
            "flex_flow": null,
            "grid_area": null,
            "grid_auto_columns": null,
            "grid_auto_flow": null,
            "grid_auto_rows": null,
            "grid_column": null,
            "grid_gap": null,
            "grid_row": null,
            "grid_template_areas": null,
            "grid_template_columns": null,
            "grid_template_rows": null,
            "height": null,
            "justify_content": null,
            "justify_items": null,
            "left": null,
            "margin": null,
            "max_height": null,
            "max_width": null,
            "min_height": null,
            "min_width": null,
            "object_fit": null,
            "object_position": null,
            "order": null,
            "overflow": null,
            "overflow_x": null,
            "overflow_y": null,
            "padding": null,
            "right": null,
            "top": null,
            "visibility": null,
            "width": null
          }
        },
        "9a94b5435a674046bd46995bd78797a1": {
          "model_module": "@jupyter-widgets/base",
          "model_name": "LayoutModel",
          "model_module_version": "1.2.0",
          "state": {
            "_model_module": "@jupyter-widgets/base",
            "_model_module_version": "1.2.0",
            "_model_name": "LayoutModel",
            "_view_count": null,
            "_view_module": "@jupyter-widgets/base",
            "_view_module_version": "1.2.0",
            "_view_name": "LayoutView",
            "align_content": null,
            "align_items": null,
            "align_self": null,
            "border": null,
            "bottom": null,
            "display": null,
            "flex": null,
            "flex_flow": null,
            "grid_area": null,
            "grid_auto_columns": null,
            "grid_auto_flow": null,
            "grid_auto_rows": null,
            "grid_column": null,
            "grid_gap": null,
            "grid_row": null,
            "grid_template_areas": null,
            "grid_template_columns": null,
            "grid_template_rows": null,
            "height": null,
            "justify_content": null,
            "justify_items": null,
            "left": null,
            "margin": null,
            "max_height": null,
            "max_width": null,
            "min_height": null,
            "min_width": null,
            "object_fit": null,
            "object_position": null,
            "order": null,
            "overflow": null,
            "overflow_x": null,
            "overflow_y": null,
            "padding": null,
            "right": null,
            "top": null,
            "visibility": null,
            "width": null
          }
        },
        "84c1b49d5628403498f70e32b6d6dd5f": {
          "model_module": "@jupyter-widgets/controls",
          "model_name": "DescriptionStyleModel",
          "model_module_version": "1.5.0",
          "state": {
            "_model_module": "@jupyter-widgets/controls",
            "_model_module_version": "1.5.0",
            "_model_name": "DescriptionStyleModel",
            "_view_count": null,
            "_view_module": "@jupyter-widgets/base",
            "_view_module_version": "1.2.0",
            "_view_name": "StyleView",
            "description_width": ""
          }
        },
        "38147fc28f3d41be8ad941d465e8a01a": {
          "model_module": "@jupyter-widgets/base",
          "model_name": "LayoutModel",
          "model_module_version": "1.2.0",
          "state": {
            "_model_module": "@jupyter-widgets/base",
            "_model_module_version": "1.2.0",
            "_model_name": "LayoutModel",
            "_view_count": null,
            "_view_module": "@jupyter-widgets/base",
            "_view_module_version": "1.2.0",
            "_view_name": "LayoutView",
            "align_content": null,
            "align_items": null,
            "align_self": null,
            "border": null,
            "bottom": null,
            "display": null,
            "flex": null,
            "flex_flow": null,
            "grid_area": null,
            "grid_auto_columns": null,
            "grid_auto_flow": null,
            "grid_auto_rows": null,
            "grid_column": null,
            "grid_gap": null,
            "grid_row": null,
            "grid_template_areas": null,
            "grid_template_columns": null,
            "grid_template_rows": null,
            "height": null,
            "justify_content": null,
            "justify_items": null,
            "left": null,
            "margin": null,
            "max_height": null,
            "max_width": null,
            "min_height": null,
            "min_width": null,
            "object_fit": null,
            "object_position": null,
            "order": null,
            "overflow": null,
            "overflow_x": null,
            "overflow_y": null,
            "padding": null,
            "right": null,
            "top": null,
            "visibility": null,
            "width": null
          }
        },
        "4f9b58e8dbb74cbf9d466baf0e8e5b8b": {
          "model_module": "@jupyter-widgets/controls",
          "model_name": "ProgressStyleModel",
          "model_module_version": "1.5.0",
          "state": {
            "_model_module": "@jupyter-widgets/controls",
            "_model_module_version": "1.5.0",
            "_model_name": "ProgressStyleModel",
            "_view_count": null,
            "_view_module": "@jupyter-widgets/base",
            "_view_module_version": "1.2.0",
            "_view_name": "StyleView",
            "bar_color": null,
            "description_width": ""
          }
        },
        "392bcacf691743baa34e6729e235dbd2": {
          "model_module": "@jupyter-widgets/base",
          "model_name": "LayoutModel",
          "model_module_version": "1.2.0",
          "state": {
            "_model_module": "@jupyter-widgets/base",
            "_model_module_version": "1.2.0",
            "_model_name": "LayoutModel",
            "_view_count": null,
            "_view_module": "@jupyter-widgets/base",
            "_view_module_version": "1.2.0",
            "_view_name": "LayoutView",
            "align_content": null,
            "align_items": null,
            "align_self": null,
            "border": null,
            "bottom": null,
            "display": null,
            "flex": null,
            "flex_flow": null,
            "grid_area": null,
            "grid_auto_columns": null,
            "grid_auto_flow": null,
            "grid_auto_rows": null,
            "grid_column": null,
            "grid_gap": null,
            "grid_row": null,
            "grid_template_areas": null,
            "grid_template_columns": null,
            "grid_template_rows": null,
            "height": null,
            "justify_content": null,
            "justify_items": null,
            "left": null,
            "margin": null,
            "max_height": null,
            "max_width": null,
            "min_height": null,
            "min_width": null,
            "object_fit": null,
            "object_position": null,
            "order": null,
            "overflow": null,
            "overflow_x": null,
            "overflow_y": null,
            "padding": null,
            "right": null,
            "top": null,
            "visibility": null,
            "width": null
          }
        },
        "240350cd2e9247f2a6a5461b2cc970e6": {
          "model_module": "@jupyter-widgets/controls",
          "model_name": "DescriptionStyleModel",
          "model_module_version": "1.5.0",
          "state": {
            "_model_module": "@jupyter-widgets/controls",
            "_model_module_version": "1.5.0",
            "_model_name": "DescriptionStyleModel",
            "_view_count": null,
            "_view_module": "@jupyter-widgets/base",
            "_view_module_version": "1.2.0",
            "_view_name": "StyleView",
            "description_width": ""
          }
        },
        "5026ede842c84265a89f4594526ae91c": {
          "model_module": "@jupyter-widgets/controls",
          "model_name": "HBoxModel",
          "model_module_version": "1.5.0",
          "state": {
            "_dom_classes": [],
            "_model_module": "@jupyter-widgets/controls",
            "_model_module_version": "1.5.0",
            "_model_name": "HBoxModel",
            "_view_count": null,
            "_view_module": "@jupyter-widgets/controls",
            "_view_module_version": "1.5.0",
            "_view_name": "HBoxView",
            "box_style": "",
            "children": [
              "IPY_MODEL_48d6f56654f04ee288a273cc4f5b46a7",
              "IPY_MODEL_ca13ca3c82564e28ac892fc7e05664c4",
              "IPY_MODEL_aef50e9f795c400cb35dfc255e5d75ab"
            ],
            "layout": "IPY_MODEL_5d47b5c395b6430488943aa81cfc4ebf"
          }
        },
        "48d6f56654f04ee288a273cc4f5b46a7": {
          "model_module": "@jupyter-widgets/controls",
          "model_name": "HTMLModel",
          "model_module_version": "1.5.0",
          "state": {
            "_dom_classes": [],
            "_model_module": "@jupyter-widgets/controls",
            "_model_module_version": "1.5.0",
            "_model_name": "HTMLModel",
            "_view_count": null,
            "_view_module": "@jupyter-widgets/controls",
            "_view_module_version": "1.5.0",
            "_view_name": "HTMLView",
            "description": "",
            "description_tooltip": null,
            "layout": "IPY_MODEL_43b72767ede6422d8348b3310ef7b8a4",
            "placeholder": "​",
            "style": "IPY_MODEL_ff496e7a6e7c451bb1969afa4479b759",
            "value": "Loading:   0%"
          }
        },
        "ca13ca3c82564e28ac892fc7e05664c4": {
          "model_module": "@jupyter-widgets/controls",
          "model_name": "FloatProgressModel",
          "model_module_version": "1.5.0",
          "state": {
            "_dom_classes": [],
            "_model_module": "@jupyter-widgets/controls",
            "_model_module_version": "1.5.0",
            "_model_name": "FloatProgressModel",
            "_view_count": null,
            "_view_module": "@jupyter-widgets/controls",
            "_view_module_version": "1.5.0",
            "_view_name": "ProgressView",
            "bar_style": "",
            "description": "",
            "description_tooltip": null,
            "layout": "IPY_MODEL_0b1fb0918fa04a378482968840715469",
            "max": 100,
            "min": 0,
            "orientation": "horizontal",
            "style": "IPY_MODEL_2e274d43e0d6472bb377ca6a26b5cfe4",
            "value": 0
          }
        },
        "aef50e9f795c400cb35dfc255e5d75ab": {
          "model_module": "@jupyter-widgets/controls",
          "model_name": "HTMLModel",
          "model_module_version": "1.5.0",
          "state": {
            "_dom_classes": [],
            "_model_module": "@jupyter-widgets/controls",
            "_model_module_version": "1.5.0",
            "_model_name": "HTMLModel",
            "_view_count": null,
            "_view_module": "@jupyter-widgets/controls",
            "_view_module_version": "1.5.0",
            "_view_name": "HTMLView",
            "description": "",
            "description_tooltip": null,
            "layout": "IPY_MODEL_ed7923afd5fe4ccfb5997c4ae3693d79",
            "placeholder": "​",
            "style": "IPY_MODEL_f1b9c9ab05334861a3184b1b1e7713c7",
            "value": " 0/100 [00:00&lt;?, ?%/s]"
          }
        },
        "5d47b5c395b6430488943aa81cfc4ebf": {
          "model_module": "@jupyter-widgets/base",
          "model_name": "LayoutModel",
          "model_module_version": "1.2.0",
          "state": {
            "_model_module": "@jupyter-widgets/base",
            "_model_module_version": "1.2.0",
            "_model_name": "LayoutModel",
            "_view_count": null,
            "_view_module": "@jupyter-widgets/base",
            "_view_module_version": "1.2.0",
            "_view_name": "LayoutView",
            "align_content": null,
            "align_items": null,
            "align_self": null,
            "border": null,
            "bottom": null,
            "display": null,
            "flex": null,
            "flex_flow": null,
            "grid_area": null,
            "grid_auto_columns": null,
            "grid_auto_flow": null,
            "grid_auto_rows": null,
            "grid_column": null,
            "grid_gap": null,
            "grid_row": null,
            "grid_template_areas": null,
            "grid_template_columns": null,
            "grid_template_rows": null,
            "height": null,
            "justify_content": null,
            "justify_items": null,
            "left": null,
            "margin": null,
            "max_height": null,
            "max_width": null,
            "min_height": null,
            "min_width": null,
            "object_fit": null,
            "object_position": null,
            "order": null,
            "overflow": null,
            "overflow_x": null,
            "overflow_y": null,
            "padding": null,
            "right": null,
            "top": null,
            "visibility": null,
            "width": null
          }
        },
        "43b72767ede6422d8348b3310ef7b8a4": {
          "model_module": "@jupyter-widgets/base",
          "model_name": "LayoutModel",
          "model_module_version": "1.2.0",
          "state": {
            "_model_module": "@jupyter-widgets/base",
            "_model_module_version": "1.2.0",
            "_model_name": "LayoutModel",
            "_view_count": null,
            "_view_module": "@jupyter-widgets/base",
            "_view_module_version": "1.2.0",
            "_view_name": "LayoutView",
            "align_content": null,
            "align_items": null,
            "align_self": null,
            "border": null,
            "bottom": null,
            "display": null,
            "flex": null,
            "flex_flow": null,
            "grid_area": null,
            "grid_auto_columns": null,
            "grid_auto_flow": null,
            "grid_auto_rows": null,
            "grid_column": null,
            "grid_gap": null,
            "grid_row": null,
            "grid_template_areas": null,
            "grid_template_columns": null,
            "grid_template_rows": null,
            "height": null,
            "justify_content": null,
            "justify_items": null,
            "left": null,
            "margin": null,
            "max_height": null,
            "max_width": null,
            "min_height": null,
            "min_width": null,
            "object_fit": null,
            "object_position": null,
            "order": null,
            "overflow": null,
            "overflow_x": null,
            "overflow_y": null,
            "padding": null,
            "right": null,
            "top": null,
            "visibility": null,
            "width": null
          }
        },
        "ff496e7a6e7c451bb1969afa4479b759": {
          "model_module": "@jupyter-widgets/controls",
          "model_name": "DescriptionStyleModel",
          "model_module_version": "1.5.0",
          "state": {
            "_model_module": "@jupyter-widgets/controls",
            "_model_module_version": "1.5.0",
            "_model_name": "DescriptionStyleModel",
            "_view_count": null,
            "_view_module": "@jupyter-widgets/base",
            "_view_module_version": "1.2.0",
            "_view_name": "StyleView",
            "description_width": ""
          }
        },
        "0b1fb0918fa04a378482968840715469": {
          "model_module": "@jupyter-widgets/base",
          "model_name": "LayoutModel",
          "model_module_version": "1.2.0",
          "state": {
            "_model_module": "@jupyter-widgets/base",
            "_model_module_version": "1.2.0",
            "_model_name": "LayoutModel",
            "_view_count": null,
            "_view_module": "@jupyter-widgets/base",
            "_view_module_version": "1.2.0",
            "_view_name": "LayoutView",
            "align_content": null,
            "align_items": null,
            "align_self": null,
            "border": null,
            "bottom": null,
            "display": null,
            "flex": null,
            "flex_flow": null,
            "grid_area": null,
            "grid_auto_columns": null,
            "grid_auto_flow": null,
            "grid_auto_rows": null,
            "grid_column": null,
            "grid_gap": null,
            "grid_row": null,
            "grid_template_areas": null,
            "grid_template_columns": null,
            "grid_template_rows": null,
            "height": null,
            "justify_content": null,
            "justify_items": null,
            "left": null,
            "margin": null,
            "max_height": null,
            "max_width": null,
            "min_height": null,
            "min_width": null,
            "object_fit": null,
            "object_position": null,
            "order": null,
            "overflow": null,
            "overflow_x": null,
            "overflow_y": null,
            "padding": null,
            "right": null,
            "top": null,
            "visibility": null,
            "width": null
          }
        },
        "2e274d43e0d6472bb377ca6a26b5cfe4": {
          "model_module": "@jupyter-widgets/controls",
          "model_name": "ProgressStyleModel",
          "model_module_version": "1.5.0",
          "state": {
            "_model_module": "@jupyter-widgets/controls",
            "_model_module_version": "1.5.0",
            "_model_name": "ProgressStyleModel",
            "_view_count": null,
            "_view_module": "@jupyter-widgets/base",
            "_view_module_version": "1.2.0",
            "_view_name": "StyleView",
            "bar_color": null,
            "description_width": ""
          }
        },
        "ed7923afd5fe4ccfb5997c4ae3693d79": {
          "model_module": "@jupyter-widgets/base",
          "model_name": "LayoutModel",
          "model_module_version": "1.2.0",
          "state": {
            "_model_module": "@jupyter-widgets/base",
            "_model_module_version": "1.2.0",
            "_model_name": "LayoutModel",
            "_view_count": null,
            "_view_module": "@jupyter-widgets/base",
            "_view_module_version": "1.2.0",
            "_view_name": "LayoutView",
            "align_content": null,
            "align_items": null,
            "align_self": null,
            "border": null,
            "bottom": null,
            "display": null,
            "flex": null,
            "flex_flow": null,
            "grid_area": null,
            "grid_auto_columns": null,
            "grid_auto_flow": null,
            "grid_auto_rows": null,
            "grid_column": null,
            "grid_gap": null,
            "grid_row": null,
            "grid_template_areas": null,
            "grid_template_columns": null,
            "grid_template_rows": null,
            "height": null,
            "justify_content": null,
            "justify_items": null,
            "left": null,
            "margin": null,
            "max_height": null,
            "max_width": null,
            "min_height": null,
            "min_width": null,
            "object_fit": null,
            "object_position": null,
            "order": null,
            "overflow": null,
            "overflow_x": null,
            "overflow_y": null,
            "padding": null,
            "right": null,
            "top": null,
            "visibility": null,
            "width": null
          }
        },
        "f1b9c9ab05334861a3184b1b1e7713c7": {
          "model_module": "@jupyter-widgets/controls",
          "model_name": "DescriptionStyleModel",
          "model_module_version": "1.5.0",
          "state": {
            "_model_module": "@jupyter-widgets/controls",
            "_model_module_version": "1.5.0",
            "_model_name": "DescriptionStyleModel",
            "_view_count": null,
            "_view_module": "@jupyter-widgets/base",
            "_view_module_version": "1.2.0",
            "_view_name": "StyleView",
            "description_width": ""
          }
        },
        "bed0a6845f854b5baa7e5cff4dab52a7": {
          "model_module": "@jupyter-widgets/controls",
          "model_name": "HBoxModel",
          "model_module_version": "1.5.0",
          "state": {
            "_dom_classes": [],
            "_model_module": "@jupyter-widgets/controls",
            "_model_module_version": "1.5.0",
            "_model_name": "HBoxModel",
            "_view_count": null,
            "_view_module": "@jupyter-widgets/controls",
            "_view_module_version": "1.5.0",
            "_view_name": "HBoxView",
            "box_style": "",
            "children": [
              "IPY_MODEL_75475f941bca47979cfa95d9ed09e141",
              "IPY_MODEL_66826e9391ee463f856a5b410020b97b",
              "IPY_MODEL_6e6eb870eb3d4056a9b0af3803255811"
            ],
            "layout": "IPY_MODEL_313e2991928b4218a6fc5bf03506a6cd"
          }
        },
        "75475f941bca47979cfa95d9ed09e141": {
          "model_module": "@jupyter-widgets/controls",
          "model_name": "HTMLModel",
          "model_module_version": "1.5.0",
          "state": {
            "_dom_classes": [],
            "_model_module": "@jupyter-widgets/controls",
            "_model_module_version": "1.5.0",
            "_model_name": "HTMLModel",
            "_view_count": null,
            "_view_module": "@jupyter-widgets/controls",
            "_view_module_version": "1.5.0",
            "_view_name": "HTMLView",
            "description": "",
            "description_tooltip": null,
            "layout": "IPY_MODEL_1dedabad6a0247f1b1a38ffe0f833ab6",
            "placeholder": "​",
            "style": "IPY_MODEL_b0a75ec084f44e698a0dfa34c08737d5",
            "value": "Knn: 100%"
          }
        },
        "66826e9391ee463f856a5b410020b97b": {
          "model_module": "@jupyter-widgets/controls",
          "model_name": "FloatProgressModel",
          "model_module_version": "1.5.0",
          "state": {
            "_dom_classes": [],
            "_model_module": "@jupyter-widgets/controls",
            "_model_module_version": "1.5.0",
            "_model_name": "FloatProgressModel",
            "_view_count": null,
            "_view_module": "@jupyter-widgets/controls",
            "_view_module_version": "1.5.0",
            "_view_name": "ProgressView",
            "bar_style": "",
            "description": "",
            "description_tooltip": null,
            "layout": "IPY_MODEL_40ebf3a13c8745baa457c717b62eb242",
            "max": 100,
            "min": 0,
            "orientation": "horizontal",
            "style": "IPY_MODEL_379049972d4843e58c1bbe63199e4480",
            "value": 100
          }
        },
        "6e6eb870eb3d4056a9b0af3803255811": {
          "model_module": "@jupyter-widgets/controls",
          "model_name": "HTMLModel",
          "model_module_version": "1.5.0",
          "state": {
            "_dom_classes": [],
            "_model_module": "@jupyter-widgets/controls",
            "_model_module_version": "1.5.0",
            "_model_name": "HTMLModel",
            "_view_count": null,
            "_view_module": "@jupyter-widgets/controls",
            "_view_module_version": "1.5.0",
            "_view_name": "HTMLView",
            "description": "",
            "description_tooltip": null,
            "layout": "IPY_MODEL_7e4efda217c64624b38fed49d69e91a9",
            "placeholder": "​",
            "style": "IPY_MODEL_151f4bb6e0594663a9e5cd32f7eab48f",
            "value": " 100.0/100 [00:13&lt;00:00, 11.11%/s]"
          }
        },
        "313e2991928b4218a6fc5bf03506a6cd": {
          "model_module": "@jupyter-widgets/base",
          "model_name": "LayoutModel",
          "model_module_version": "1.2.0",
          "state": {
            "_model_module": "@jupyter-widgets/base",
            "_model_module_version": "1.2.0",
            "_model_name": "LayoutModel",
            "_view_count": null,
            "_view_module": "@jupyter-widgets/base",
            "_view_module_version": "1.2.0",
            "_view_name": "LayoutView",
            "align_content": null,
            "align_items": null,
            "align_self": null,
            "border": null,
            "bottom": null,
            "display": null,
            "flex": null,
            "flex_flow": null,
            "grid_area": null,
            "grid_auto_columns": null,
            "grid_auto_flow": null,
            "grid_auto_rows": null,
            "grid_column": null,
            "grid_gap": null,
            "grid_row": null,
            "grid_template_areas": null,
            "grid_template_columns": null,
            "grid_template_rows": null,
            "height": null,
            "justify_content": null,
            "justify_items": null,
            "left": null,
            "margin": null,
            "max_height": null,
            "max_width": null,
            "min_height": null,
            "min_width": null,
            "object_fit": null,
            "object_position": null,
            "order": null,
            "overflow": null,
            "overflow_x": null,
            "overflow_y": null,
            "padding": null,
            "right": null,
            "top": null,
            "visibility": null,
            "width": null
          }
        },
        "1dedabad6a0247f1b1a38ffe0f833ab6": {
          "model_module": "@jupyter-widgets/base",
          "model_name": "LayoutModel",
          "model_module_version": "1.2.0",
          "state": {
            "_model_module": "@jupyter-widgets/base",
            "_model_module_version": "1.2.0",
            "_model_name": "LayoutModel",
            "_view_count": null,
            "_view_module": "@jupyter-widgets/base",
            "_view_module_version": "1.2.0",
            "_view_name": "LayoutView",
            "align_content": null,
            "align_items": null,
            "align_self": null,
            "border": null,
            "bottom": null,
            "display": null,
            "flex": null,
            "flex_flow": null,
            "grid_area": null,
            "grid_auto_columns": null,
            "grid_auto_flow": null,
            "grid_auto_rows": null,
            "grid_column": null,
            "grid_gap": null,
            "grid_row": null,
            "grid_template_areas": null,
            "grid_template_columns": null,
            "grid_template_rows": null,
            "height": null,
            "justify_content": null,
            "justify_items": null,
            "left": null,
            "margin": null,
            "max_height": null,
            "max_width": null,
            "min_height": null,
            "min_width": null,
            "object_fit": null,
            "object_position": null,
            "order": null,
            "overflow": null,
            "overflow_x": null,
            "overflow_y": null,
            "padding": null,
            "right": null,
            "top": null,
            "visibility": null,
            "width": null
          }
        },
        "b0a75ec084f44e698a0dfa34c08737d5": {
          "model_module": "@jupyter-widgets/controls",
          "model_name": "DescriptionStyleModel",
          "model_module_version": "1.5.0",
          "state": {
            "_model_module": "@jupyter-widgets/controls",
            "_model_module_version": "1.5.0",
            "_model_name": "DescriptionStyleModel",
            "_view_count": null,
            "_view_module": "@jupyter-widgets/base",
            "_view_module_version": "1.2.0",
            "_view_name": "StyleView",
            "description_width": ""
          }
        },
        "40ebf3a13c8745baa457c717b62eb242": {
          "model_module": "@jupyter-widgets/base",
          "model_name": "LayoutModel",
          "model_module_version": "1.2.0",
          "state": {
            "_model_module": "@jupyter-widgets/base",
            "_model_module_version": "1.2.0",
            "_model_name": "LayoutModel",
            "_view_count": null,
            "_view_module": "@jupyter-widgets/base",
            "_view_module_version": "1.2.0",
            "_view_name": "LayoutView",
            "align_content": null,
            "align_items": null,
            "align_self": null,
            "border": null,
            "bottom": null,
            "display": null,
            "flex": null,
            "flex_flow": null,
            "grid_area": null,
            "grid_auto_columns": null,
            "grid_auto_flow": null,
            "grid_auto_rows": null,
            "grid_column": null,
            "grid_gap": null,
            "grid_row": null,
            "grid_template_areas": null,
            "grid_template_columns": null,
            "grid_template_rows": null,
            "height": null,
            "justify_content": null,
            "justify_items": null,
            "left": null,
            "margin": null,
            "max_height": null,
            "max_width": null,
            "min_height": null,
            "min_width": null,
            "object_fit": null,
            "object_position": null,
            "order": null,
            "overflow": null,
            "overflow_x": null,
            "overflow_y": null,
            "padding": null,
            "right": null,
            "top": null,
            "visibility": null,
            "width": null
          }
        },
        "379049972d4843e58c1bbe63199e4480": {
          "model_module": "@jupyter-widgets/controls",
          "model_name": "ProgressStyleModel",
          "model_module_version": "1.5.0",
          "state": {
            "_model_module": "@jupyter-widgets/controls",
            "_model_module_version": "1.5.0",
            "_model_name": "ProgressStyleModel",
            "_view_count": null,
            "_view_module": "@jupyter-widgets/base",
            "_view_module_version": "1.2.0",
            "_view_name": "StyleView",
            "bar_color": null,
            "description_width": ""
          }
        },
        "7e4efda217c64624b38fed49d69e91a9": {
          "model_module": "@jupyter-widgets/base",
          "model_name": "LayoutModel",
          "model_module_version": "1.2.0",
          "state": {
            "_model_module": "@jupyter-widgets/base",
            "_model_module_version": "1.2.0",
            "_model_name": "LayoutModel",
            "_view_count": null,
            "_view_module": "@jupyter-widgets/base",
            "_view_module_version": "1.2.0",
            "_view_name": "LayoutView",
            "align_content": null,
            "align_items": null,
            "align_self": null,
            "border": null,
            "bottom": null,
            "display": null,
            "flex": null,
            "flex_flow": null,
            "grid_area": null,
            "grid_auto_columns": null,
            "grid_auto_flow": null,
            "grid_auto_rows": null,
            "grid_column": null,
            "grid_gap": null,
            "grid_row": null,
            "grid_template_areas": null,
            "grid_template_columns": null,
            "grid_template_rows": null,
            "height": null,
            "justify_content": null,
            "justify_items": null,
            "left": null,
            "margin": null,
            "max_height": null,
            "max_width": null,
            "min_height": null,
            "min_width": null,
            "object_fit": null,
            "object_position": null,
            "order": null,
            "overflow": null,
            "overflow_x": null,
            "overflow_y": null,
            "padding": null,
            "right": null,
            "top": null,
            "visibility": null,
            "width": null
          }
        },
        "151f4bb6e0594663a9e5cd32f7eab48f": {
          "model_module": "@jupyter-widgets/controls",
          "model_name": "DescriptionStyleModel",
          "model_module_version": "1.5.0",
          "state": {
            "_model_module": "@jupyter-widgets/controls",
            "_model_module_version": "1.5.0",
            "_model_name": "DescriptionStyleModel",
            "_view_count": null,
            "_view_module": "@jupyter-widgets/base",
            "_view_module_version": "1.2.0",
            "_view_name": "StyleView",
            "description_width": ""
          }
        }
      }
    }
  },
  "nbformat": 4,
  "nbformat_minor": 5
}