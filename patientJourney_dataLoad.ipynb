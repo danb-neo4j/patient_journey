{
  "cells": [
    {
      "cell_type": "markdown",
      "metadata": {
        "id": "view-in-github",
        "colab_type": "text"
      },
      "source": [
        "<a href=\"https://colab.research.google.com/github/danb-neo4j/patient_journey/blob/main/patientJourney_dataLoad.ipynb\" target=\"_parent\"><img src=\"https://colab.research.google.com/assets/colab-badge.svg\" alt=\"Open In Colab\"/></a>"
      ]
    },
    {
      "cell_type": "markdown",
      "id": "ba5c31ff-8572-47d9-9b4a-22ac74d9de05",
      "metadata": {
        "id": "ba5c31ff-8572-47d9-9b4a-22ac74d9de05"
      },
      "source": [
        "# Neo4j GDS Patient Journey Demo: Data Loading\n",
        "This notebook walks through the process of loading [Synthea](https://synthea.mitre.org/) data into Neo4j. The code and data are based upon those referenced in [Graph Data Processing with Cypher](https://github.com/PacktPublishing/Cypher-Querying). \n",
        "\n",
        "*Last updated: 23 March 2023*"
      ]
    },
    {
      "cell_type": "markdown",
      "id": "9bf92bc2-67fd-43e6-b953-e92a1454bc01",
      "metadata": {
        "id": "9bf92bc2-67fd-43e6-b953-e92a1454bc01"
      },
      "source": [
        "# Import Libraries"
      ]
    },
    {
      "cell_type": "code",
      "execution_count": 1,
      "id": "88bee118-e1b1-4d65-a6c3-8ebe1d5c879c",
      "metadata": {
        "id": "88bee118-e1b1-4d65-a6c3-8ebe1d5c879c"
      },
      "outputs": [],
      "source": [
        "import pandas as pd\n",
        "pd.set_option('display.max_columns', None)\n",
        "pd.set_option('display.max_rows', None)\n",
        "pd.set_option('display.max_colwidth', None)\n",
        "\n",
        "import matplotlib.pyplot as plt \n",
        "import seaborn as sns\n",
        "sns.set_style('darkgrid')\n",
        "sns.set_palette(\"colorblind\")\n",
        "sns.set(rc={'figure.figsize':(12,7)})\n",
        "\n",
        "import os\n",
        "import configparser\n",
        "from IPython.display import Image"
      ]
    },
    {
      "cell_type": "code",
      "execution_count": 2,
      "id": "1fa80139-9ff7-4e00-bc3e-900749f96b69",
      "metadata": {
        "colab": {
          "base_uri": "https://localhost:8080/"
        },
        "id": "1fa80139-9ff7-4e00-bc3e-900749f96b69",
        "outputId": "1d553bb2-56ab-4075-eb5b-afefa6752d1c"
      },
      "outputs": [
        {
          "output_type": "stream",
          "name": "stdout",
          "text": [
            "Successfully imported GraphDataScience\n"
          ]
        }
      ],
      "source": [
        "# install or import Neo4j GraphDataScience library\n",
        "try: \n",
        "  from graphdatascience import GraphDataScience\n",
        "  print('Successfully imported GraphDataScience')\n",
        "except ModuleNotFoundError:\n",
        "  !pip install graphdatascience\n",
        "  from graphdatascience import GraphDataScience\n",
        "  print('installed and imported GraphDataScience')"
      ]
    },
    {
      "cell_type": "markdown",
      "source": [
        "# Mount Google Drive"
      ],
      "metadata": {
        "id": "0UooBw9zyxJD"
      },
      "id": "0UooBw9zyxJD"
    },
    {
      "cell_type": "code",
      "source": [
        "from google.colab import drive \n",
        "drive.mount('/content/drive')"
      ],
      "metadata": {
        "colab": {
          "base_uri": "https://localhost:8080/"
        },
        "id": "kcbBDEkeyzQZ",
        "outputId": "b6ba51f5-d201-4536-eb66-a8525cd3cd15"
      },
      "id": "kcbBDEkeyzQZ",
      "execution_count": 3,
      "outputs": [
        {
          "output_type": "stream",
          "name": "stdout",
          "text": [
            "Drive already mounted at /content/drive; to attempt to forcibly remount, call drive.mount(\"/content/drive\", force_remount=True).\n"
          ]
        }
      ]
    },
    {
      "cell_type": "markdown",
      "id": "7119b6f0-01cd-4e74-99f6-92b68b353f0c",
      "metadata": {
        "id": "7119b6f0-01cd-4e74-99f6-92b68b353f0c"
      },
      "source": [
        "# Connect to Neo4j Database"
      ]
    },
    {
      "cell_type": "code",
      "source": [
        "# change directory\n",
        "os.chdir('drive/MyDrive/Colab Notebooks/gds_demos/patient_journey/')"
      ],
      "metadata": {
        "id": "WgC7ZN8LzDCW"
      },
      "id": "WgC7ZN8LzDCW",
      "execution_count": 4,
      "outputs": []
    },
    {
      "cell_type": "code",
      "source": [
        "# set data directory\n",
        "DATA_DIRECTORY = 'data/'"
      ],
      "metadata": {
        "id": "zBR7R-_Qfxmu"
      },
      "id": "zBR7R-_Qfxmu",
      "execution_count": 5,
      "outputs": []
    },
    {
      "cell_type": "code",
      "execution_count": 6,
      "id": "829646a2-da52-4c19-aafe-cc3d7a2409b1",
      "metadata": {
        "id": "829646a2-da52-4c19-aafe-cc3d7a2409b1"
      },
      "outputs": [],
      "source": [
        "# import utility function to connect to Neo4j DB\n",
        "from neoUtils import read_neo4j_properties"
      ]
    },
    {
      "cell_type": "code",
      "execution_count": 7,
      "id": "f6566c2f-d7a4-436b-96c3-5874f010764c",
      "metadata": {
        "colab": {
          "base_uri": "https://localhost:8080/"
        },
        "id": "f6566c2f-d7a4-436b-96c3-5874f010764c",
        "outputId": "7c80b47a-f866-48c7-c798-c46614e272c0"
      },
      "outputs": [
        {
          "output_type": "stream",
          "name": "stdout",
          "text": [
            "Using HOST, USERNAME, PASSWORD from .ini file\n"
          ]
        }
      ],
      "source": [
        "# read in Neo4j host and authentication \n",
        "NEO4J_PROPERTIES_FILE = 'auth/patientJourney_auth.ini'\n",
        "HOST, USERNAME, PASSWORD = read_neo4j_properties(NEO4J_PROPERTIES_FILE=NEO4J_PROPERTIES_FILE)"
      ]
    },
    {
      "cell_type": "code",
      "execution_count": 8,
      "id": "7326078c-fde8-41ed-baf7-cdc9a9b9e315",
      "metadata": {
        "colab": {
          "base_uri": "https://localhost:8080/"
        },
        "id": "7326078c-fde8-41ed-baf7-cdc9a9b9e315",
        "outputId": "bac08198-1bd0-47a2-f5d3-42851bf1bbdb"
      },
      "outputs": [
        {
          "output_type": "stream",
          "name": "stdout",
          "text": [
            "Neo4j GDS Version: 2.3.2+14\n"
          ]
        }
      ],
      "source": [
        "# connect to and instantiate GDS\n",
        "gds = GraphDataScience(HOST, auth=(USERNAME, PASSWORD), aura_ds=True)\n",
        "\n",
        "# confirm connection with gds version \n",
        "print('Neo4j GDS Version:', gds.version())"
      ]
    },
    {
      "cell_type": "code",
      "source": [
        "# code to delete database, if necessary\n",
        "gds.run_cypher('''\n",
        "MATCH (n) \n",
        "CALL { WITH n \n",
        "DETACH DELETE n \n",
        "} IN TRANSACTIONS OF 50000 ROWS\n",
        "''')"
      ],
      "metadata": {
        "id": "vrqVfuDFMuvY"
      },
      "id": "vrqVfuDFMuvY",
      "execution_count": null,
      "outputs": []
    },
    {
      "cell_type": "markdown",
      "id": "1866279a-21f3-41ff-a253-f8a1c660db72",
      "metadata": {
        "id": "1866279a-21f3-41ff-a253-f8a1c660db72"
      },
      "source": [
        "# Load Patient Data"
      ]
    },
    {
      "cell_type": "code",
      "execution_count": null,
      "metadata": {
        "id": "9c2bccd6-0a6d-43ba-a32e-e0e224a5e374"
      },
      "outputs": [],
      "source": [
        "patient_df = pd.read_csv(DATA_DIRECTORY + 'patients.csv')\n",
        "patient_df.shape"
      ],
      "id": "9c2bccd6-0a6d-43ba-a32e-e0e224a5e374"
    },
    {
      "cell_type": "markdown",
      "id": "6a115e6f-f9a1-44b9-ae85-f6dd23eca48e",
      "metadata": {
        "tags": [],
        "id": "6a115e6f-f9a1-44b9-ae85-f6dd23eca48e"
      },
      "source": [
        "## Patient Constraints"
      ]
    },
    {
      "cell_type": "code",
      "execution_count": null,
      "id": "dad7eb4c-cba9-4d1a-859c-b6bd0b33d380",
      "metadata": {
        "id": "dad7eb4c-cba9-4d1a-859c-b6bd0b33d380"
      },
      "outputs": [],
      "source": [
        "# source file patient_indexes.cql\n",
        "gds.run_cypher('''CREATE CONSTRAINT patient_id IF NOT EXISTS FOR (n:Patient) REQUIRE n.id IS UNIQUE''')\n",
        "gds.run_cypher('''CREATE CONSTRAINT zipcode_id IF NOT EXISTS FOR (n:ZipCode) REQUIRE n.zip IS UNIQUE''')\n",
        "gds.run_cypher('''CREATE CONSTRAINT race_id IF NOT EXISTS FOR (n:Race) REQUIRE n.type IS UNIQUE''')\n",
        "gds.run_cypher('''CREATE CONSTRAINT ethnicity_id IF NOT EXISTS FOR (n:Ethnicity) REQUIRE n.type IS UNIQUE''')"
      ]
    },
    {
      "cell_type": "markdown",
      "id": "78b96c08-fd54-4840-80c0-9b691b44df5d",
      "metadata": {
        "id": "78b96c08-fd54-4840-80c0-9b691b44df5d"
      },
      "source": [
        "## Patient Data and Relationships"
      ]
    },
    {
      "cell_type": "code",
      "execution_count": null,
      "id": "7fbb1b6d-e0a8-4d76-8885-548c6e4bbeb4",
      "metadata": {
        "id": "7fbb1b6d-e0a8-4d76-8885-548c6e4bbeb4"
      },
      "outputs": [],
      "source": [
        "gds.run_cypher('''\n",
        "CYPHER runtime=slotted\n",
        "UNWIND $patient_data AS row\n",
        "\n",
        "CALL {\n",
        "WITH row\n",
        "MERGE (p:Patient {id: row.Id})\n",
        "SET\n",
        "    p.marital = row.MARITAL,\n",
        "    p.ssn = row.SSN,\n",
        "    p.firstName = row.FIRST,\n",
        "    p.lastName = row.LAST,\n",
        "    p.suffix = row.SUFFIX,\n",
        "    p.prefix = row.PREFIX,\n",
        "    p.city = row.CITY,\n",
        "    p.county = row.COUNTY,\n",
        "    p.location = POINT({latitude:toFloat(row.LAT), longitude:toFloat(row.LON)}),\n",
        "    p.drivers = row.DRIVERS,\n",
        "    p.birthDate = DATE(row.BIRTHDATE),\n",
        "    p.expenses = row.HEALTHCARE_EXPENSES,\n",
        "    p.coverage = row.HEALTHCARE_COVERAGE\n",
        "\n",
        "WITH row, p\n",
        "MERGE (r:Race {type: row.RACE})\n",
        "MERGE (p)-[:HAS_RACE]->(r)\n",
        "\n",
        "WITH row, p\n",
        "MERGE (e:Ethnicity {type: row.ETHNICITY})\n",
        "MERGE (p)-[:HAS_ETHNICITY]->(e)\n",
        "\n",
        "WITH row, p\n",
        "WHERE row.ZIP IS NOT NULL\n",
        "MERGE (z:ZipCode {zip: row.ZIP})\n",
        "MERGE (p)-[:HAS_ZIPCODE]->(z)\n",
        "} IN TRANSACTIONS OF 1000 ROWS\n",
        "''', {'patient_data': patient_df.to_dict('records')})"
      ]
    },
    {
      "cell_type": "markdown",
      "id": "ccfbdd07-9d83-4525-ab83-493d95c8e252",
      "metadata": {
        "id": "ccfbdd07-9d83-4525-ab83-493d95c8e252"
      },
      "source": [
        "# Load Encounters Data"
      ]
    },
    {
      "cell_type": "code",
      "source": [
        "encounters_df = pd.read_csv(DATA_DIRECTORY + 'encounters.csv')\n",
        "encounters_df.shape"
      ],
      "metadata": {
        "id": "kCYIyRn51FhJ"
      },
      "id": "kCYIyRn51FhJ",
      "execution_count": null,
      "outputs": []
    },
    {
      "cell_type": "code",
      "source": [
        "encounters_df.info()"
      ],
      "metadata": {
        "id": "o8D07KCj89YV"
      },
      "id": "o8D07KCj89YV",
      "execution_count": null,
      "outputs": []
    },
    {
      "cell_type": "markdown",
      "id": "694e84b1-181a-4fa6-8706-776a50f613e0",
      "metadata": {
        "id": "694e84b1-181a-4fa6-8706-776a50f613e0"
      },
      "source": [
        "## Create Encounter Index"
      ]
    },
    {
      "cell_type": "code",
      "execution_count": null,
      "id": "e0d665b5-a263-4508-b935-c96133e562ee",
      "metadata": {
        "id": "e0d665b5-a263-4508-b935-c96133e562ee"
      },
      "outputs": [],
      "source": [
        "gds.run_cypher('''CREATE INDEX encounter_id IF NOT EXISTS FOR (n:Encounter) ON n.id''')"
      ]
    },
    {
      "cell_type": "markdown",
      "id": "888cadec-61c2-4257-82e4-16202e36dd71",
      "metadata": {
        "id": "888cadec-61c2-4257-82e4-16202e36dd71"
      },
      "source": [
        "## Create Encounter Constraints"
      ]
    },
    {
      "cell_type": "code",
      "execution_count": null,
      "id": "6376873d-dd00-41a0-ab97-ad58ffc7d9e5",
      "metadata": {
        "id": "6376873d-dd00-41a0-ab97-ad58ffc7d9e5"
      },
      "outputs": [],
      "source": [
        "gds.run_cypher('''CREATE CONSTRAINT snomed_id IF NOT EXISTS FOR (n:SNOMED_CT) REQUIRE n.code IS UNIQUE''')\n",
        "gds.run_cypher('''CREATE CONSTRAINT provider_id IF NOT EXISTS FOR (n:Provider) REQUIRE n.id IS UNIQUE''')\n",
        "gds.run_cypher('''CREATE CONSTRAINT organization_id IF NOT EXISTS FOR (n:Organization) REQUIRE n.id IS UNIQUE''')"
      ]
    },
    {
      "cell_type": "markdown",
      "id": "437767f6-8e71-460c-8ed2-ecd3f2538921",
      "metadata": {
        "id": "437767f6-8e71-460c-8ed2-ecd3f2538921"
      },
      "source": [
        "## Encounter Data and Relationships"
      ]
    },
    {
      "cell_type": "code",
      "execution_count": null,
      "id": "2165556b-ab5e-4f94-b46a-f19407618102",
      "metadata": {
        "id": "2165556b-ab5e-4f94-b46a-f19407618102"
      },
      "outputs": [],
      "source": [
        "gds.run_cypher('''\n",
        "CYPHER runtime=slotted\n",
        "\n",
        "UNWIND $encounters_data AS row\n",
        "CALL {\n",
        "WITH row\n",
        "MERGE(e:Encounter {id: row.Id})\n",
        "SET\n",
        "    e.date=datetime(row.START),\n",
        "    e.description=row.DESCRIPTION,\n",
        "    e.isEnd = false,\n",
        "    e.totalCost = row.TOTAL_CLAIM_COST\n",
        "\n",
        "FOREACH (ignore in CASE WHEN row.STOP IS NOT NULL AND row.STOP <> '' THEN [1] ELSE [] END |\n",
        "      SET e.end=datetime(row.STOP)\n",
        "    )\n",
        "FOREACH (ignore in CASE WHEN row.CODE IS NOT NULL AND row.CODE <> '' THEN [1] ELSE [] END |\n",
        "      MERGE(s:SNOMED_CT {code:row.CODE})\n",
        "      MERGE(e)-[:OF_TYPE]->(s)\n",
        "    )\n",
        "WITH row,e\n",
        "// CALL apoc.create.setLabels( e, [ 'Encounter', row.ENCOUNTERCLASS ] ) YIELD node\n",
        "CALL apoc.create.setLabels( e, [ 'Encounter', toUpper(left(row.ENCOUNTERCLASS, 1)) + right(row.ENCOUNTERCLASS, size(row.ENCOUNTERCLASS) - 1) ] ) \n",
        "YIELD node\n",
        "    \n",
        "WITH row,e\n",
        "MERGE(p:Patient {id: row.PATIENT})\n",
        "MERGE (p)-[:HAS_ENCOUNTER]->(e)\n",
        "\n",
        "WITH row,e\n",
        "MERGE (provider:Provider {id:row.PROVIDER})\n",
        "MERGE(e)-[:HAS_PROVIDER]->(provider)\n",
        "FOREACH (ignore in CASE WHEN row.ORGANIZATION IS NOT\n",
        "    NULL AND row.ORGANIZATION <> '' THEN [1] ELSE [] END |\n",
        "      MERGE (o:Organization {id: row.ORGANIZATION})\n",
        "      MERGE (e)-[:HAS_ORGANIZATION]->(o))\n",
        "} IN TRANSACTIONS OF 1000 ROWS\n",
        "''', {'encounters_data': encounters_df.to_dict('records')})"
      ]
    },
    {
      "cell_type": "markdown",
      "id": "fe4a1b0d-1172-4597-a44d-589781628f7b",
      "metadata": {
        "id": "fe4a1b0d-1172-4597-a44d-589781628f7b"
      },
      "source": [
        "# Load Provider Data"
      ]
    },
    {
      "cell_type": "code",
      "execution_count": null,
      "id": "22ecdd81-36ab-46a7-9464-ccef2e9d53f8",
      "metadata": {
        "id": "22ecdd81-36ab-46a7-9464-ccef2e9d53f8"
      },
      "outputs": [],
      "source": [
        "provider_df = pd.read_csv(DATA_DIRECTORY + 'providers.csv')\n",
        "provider_df.shape"
      ]
    },
    {
      "cell_type": "markdown",
      "id": "1d390b2c-cc30-44ee-b372-cd616bcd6d12",
      "metadata": {
        "id": "1d390b2c-cc30-44ee-b372-cd616bcd6d12"
      },
      "source": [
        "## Create Provider Constraint"
      ]
    },
    {
      "cell_type": "code",
      "execution_count": null,
      "id": "e260a0ff-e05f-44a6-95da-0d2de7fc8593",
      "metadata": {
        "id": "e260a0ff-e05f-44a6-95da-0d2de7fc8593"
      },
      "outputs": [],
      "source": [
        "gds.run_cypher('''CREATE CONSTRAINT specialty_id IF NOT EXISTS FOR (n:Specialty) REQUIRE n.name IS UNIQUE''')"
      ]
    },
    {
      "cell_type": "markdown",
      "id": "c9c363a1-89d4-4808-b9c8-d7db367db87f",
      "metadata": {
        "id": "c9c363a1-89d4-4808-b9c8-d7db367db87f"
      },
      "source": [
        "## Load Provider Data"
      ]
    },
    {
      "cell_type": "code",
      "execution_count": null,
      "id": "d726758c-760a-475c-903a-00744658df02",
      "metadata": {
        "id": "d726758c-760a-475c-903a-00744658df02"
      },
      "outputs": [],
      "source": [
        "gds.run_cypher('''\n",
        "CYPHER runtime=slotted\n",
        "\n",
        "UNWIND $provider_data AS row\n",
        "CALL {\n",
        "WITH row\n",
        "MERGE (p:Provider {id: row.Id})\n",
        "SET \n",
        "    p.name=row.NAME,\n",
        "    p.gender=row.GENDER,\n",
        "    p.address = row.ADDRESS,\n",
        "    p.state = row.STATE,\n",
        "    p.location = point({latitude:toFloat(row.LAT),\n",
        "                        longitude:toFloat(row.LON)})\n",
        "WITH row, p\n",
        "MERGE (o:Organization {id: row.ORGANIZATION})\n",
        "MERGE(p)-[:BELONGS_TO]->(o)\n",
        "\n",
        "WITH row, p\n",
        "MERGE (s:Specialty {name: row.SPECIALITY})\n",
        "MERGE (p)-[:HAS_SPECIALTY]->(s)\n",
        "\n",
        "WITH row, p\n",
        "WHERE row.ZIP IS NOT NULL\n",
        "MERGE (z:ZipCode {zip: row.ZIP})\n",
        "MERGE (p)-[:HAS_ZIPCODE]->(z)\n",
        "\n",
        "} IN TRANSACTIONS OF 1000 ROWS\n",
        "''', {'provider_data': provider_df.to_dict('records')})"
      ]
    },
    {
      "cell_type": "markdown",
      "id": "1969732c-df78-418e-b336-233b2cef160c",
      "metadata": {
        "id": "1969732c-df78-418e-b336-233b2cef160c"
      },
      "source": [
        "# Load Organization Data"
      ]
    },
    {
      "cell_type": "code",
      "execution_count": null,
      "id": "96ae7d1f-ec64-4861-b1b4-0842b226a99c",
      "metadata": {
        "id": "96ae7d1f-ec64-4861-b1b4-0842b226a99c"
      },
      "outputs": [],
      "source": [
        "organization_df = pd.read_csv(DATA_DIRECTORY + 'organizations.csv')"
      ]
    },
    {
      "cell_type": "markdown",
      "id": "8a7e9600-2aeb-41d1-8e3e-bd967e50d1d7",
      "metadata": {
        "id": "8a7e9600-2aeb-41d1-8e3e-bd967e50d1d7"
      },
      "source": [
        "## Load Organization Data"
      ]
    },
    {
      "cell_type": "code",
      "execution_count": null,
      "id": "e7a43e30-d408-4c46-8ff0-c622c1cc9795",
      "metadata": {
        "id": "e7a43e30-d408-4c46-8ff0-c622c1cc9795"
      },
      "outputs": [],
      "source": [
        "gds.run_cypher('''\n",
        "CYPHER runtime=slotted\n",
        "\n",
        "UNWIND $organization_data AS row\n",
        "CALL {\n",
        "WITH row\n",
        "MERGE (o:Organization {id: row.Id})\n",
        "SET\n",
        "    o.name = row.NAME,\n",
        "    o.address = row.ADDRESS,\n",
        "    o.state = row.STATE,\n",
        "    o.location = point({latitude:toFloat(row.LAT),\n",
        "                        longitude:toFLoat(row.LON)})\n",
        "\n",
        "WITH row, o\n",
        "WHERE row.ZIP IS NOT NULL\n",
        "MERGE (z:ZipCode {zip: row.ZIP})\n",
        "MERGE (o)-[:HAS_ZIPCODE]->(z)\n",
        "} IN TRANSACTIONS OF 1000 ROWS\n",
        "''', {'organization_data': organization_df.to_dict('records')})"
      ]
    },
    {
      "cell_type": "markdown",
      "id": "5f0920fa-4512-4065-b9f5-6ca3424c2441",
      "metadata": {
        "id": "5f0920fa-4512-4065-b9f5-6ca3424c2441"
      },
      "source": [
        "# Load Medications Data"
      ]
    },
    {
      "cell_type": "code",
      "execution_count": null,
      "id": "02f48b7d",
      "metadata": {
        "id": "02f48b7d"
      },
      "outputs": [],
      "source": [
        "medications_df = pd.read_csv(DATA_DIRECTORY + 'medications.csv')\n",
        "medications_df = medications_df.fillna('')\n",
        "medications_df.shape"
      ]
    },
    {
      "cell_type": "code",
      "execution_count": null,
      "id": "d6e2ab67-0f8b-406f-bcbd-42ad1f08ef33",
      "metadata": {
        "id": "d6e2ab67-0f8b-406f-bcbd-42ad1f08ef33"
      },
      "outputs": [],
      "source": [
        "gds.run_cypher('''\n",
        "CYPHER runtime=slotted\n",
        "\n",
        "UNWIND $medications_data AS row\n",
        "CALL {\n",
        "WITH row\n",
        "MERGE (p:Patient {id: row.PATIENT})\n",
        "MERGE (d:Drug {code: row.CODE})\n",
        "    SET d.description = row.DESCRIPTION\n",
        "MERGE (ps:Encounter {id: row.ENCOUNTER, isEnd: false})\n",
        "MERGE (ps)-[:HAS_DRUG]->(d)\n",
        "MERGE (p)-[:HAS_ENCOUNTER]->(ps)\n",
        "\n",
        "FOREACH (ignore in CASE WHEN \n",
        "                        row.REASONCODE IS NOT NULL AND\n",
        "                        row.REASONCODE <> '' THEN [1] ELSE [] END | \n",
        "        MERGE (s:SNOMED_CT {code: row.CODE})\n",
        "        SET s:Diagnosis, s.description = row.REASONDESCRIPTION\n",
        "        MERGE (ps)-[:HAS_DIAGNOSIS]->(s)\n",
        ")\n",
        "\n",
        "WITH row, ps, p\n",
        "  WHERE row.STOP IS NOT NULL and row.STOP <> ''\n",
        "CREATE (pe:Encounter {id:row.ENCOUNTER, date:datetime(row.STOP)})\n",
        "SET pe.isEnd=true\n",
        "CREATE (p)-[:HAS_ENCOUNTER]->(pe)\n",
        "CREATE (pe)-[:HAS_DRUG]->(d)\n",
        "CREATE (ps)-[:HAS_END]->(pe)\n",
        "} IN TRANSACTIONS OF 1000 ROWS\n",
        "''', {'medications_data': medications_df.to_dict('records')})"
      ]
    },
    {
      "cell_type": "markdown",
      "id": "4732b3e0-9cbc-4aba-8776-beffd535313e",
      "metadata": {
        "id": "4732b3e0-9cbc-4aba-8776-beffd535313e"
      },
      "source": [
        "# Load Conditions Data"
      ]
    },
    {
      "cell_type": "code",
      "execution_count": null,
      "id": "d0a965a7",
      "metadata": {
        "id": "d0a965a7"
      },
      "outputs": [],
      "source": [
        "conditions_df = pd.read_csv(DATA_DIRECTORY + 'conditions.csv')\n",
        "conditions_df = conditions_df.fillna('')\n",
        "conditions_df.shape"
      ]
    },
    {
      "cell_type": "code",
      "execution_count": null,
      "id": "1ce965b8-779c-4280-beeb-c1901cf81584",
      "metadata": {
        "id": "1ce965b8-779c-4280-beeb-c1901cf81584"
      },
      "outputs": [],
      "source": [
        "gds.run_cypher('''\n",
        "CYPHER runtime=slotted\n",
        "\n",
        "UNWIND $conditions_data AS row\n",
        "CALL {\n",
        "WITH row\n",
        "MATCH (p:Patient {id:row.PATIENT})\n",
        "MERGE (c:SNOMED_CT {code:row.CODE})\n",
        "    SET c.description=row.DESCRIPTION, c:Condition\n",
        "\n",
        "MERGE (cs:Encounter {id:row.ENCOUNTER, isEnd: false})\n",
        "  ON CREATE\n",
        "  SET cs.date=datetime(row.START)\n",
        "\n",
        "MERGE (p)-[:HAS_ENCOUNTER]->(cs)\n",
        "MERGE (cs)-[:HAS_CONDITION]->(c)\n",
        "\n",
        "WITH p,c,cs,row\n",
        "WHERE row.STOP IS NOT NULL and row.STOP <> ''\n",
        "MERGE (ce:Encounter {id:row.ENCOUNTER,\n",
        "                     date:datetime(row.STOP)})\n",
        "    SET ce.isEnd=true\n",
        "\n",
        "MERGE (p)-[:HAS_ENCOUNTER]->(ce)\n",
        "MERGE (ce)-[:HAS_CONDITION]->(c)\n",
        "MERGE (cs)-[:HAS_END]->(ce)\n",
        "} IN TRANSACTIONS OF 1000 ROWS\n",
        "''', {'conditions_data': conditions_df.to_dict('records')})"
      ]
    },
    {
      "cell_type": "markdown",
      "id": "b0f7ab10-25c7-4093-8e2c-b8627328632d",
      "metadata": {
        "id": "b0f7ab10-25c7-4093-8e2c-b8627328632d"
      },
      "source": [
        "# Load Procedures Data"
      ]
    },
    {
      "cell_type": "code",
      "execution_count": null,
      "id": "91fa4489",
      "metadata": {
        "id": "91fa4489"
      },
      "outputs": [],
      "source": [
        "procedures_df = pd.read_csv(DATA_DIRECTORY + 'procedures.csv')\n",
        "procedures_df=conditions_df.fillna('')\n",
        "procedures_df.shape"
      ]
    },
    {
      "cell_type": "code",
      "execution_count": null,
      "id": "0052cc2e-4cdd-402c-8134-8e7a86878543",
      "metadata": {
        "id": "0052cc2e-4cdd-402c-8134-8e7a86878543"
      },
      "outputs": [],
      "source": [
        "gds.run_cypher('''\n",
        "CYPHER runtime=slotted\n",
        "\n",
        "UNWIND $procedures_data AS row\n",
        "CALL {\n",
        "WITH row\n",
        "MATCH (p:Patient {id:row.PATIENT})\n",
        "MERGE (c:SNOMED_CT {code:row.CODE})\n",
        "    SET c.description=row.DESCRIPTION, c:Procedure\n",
        "\n",
        "MERGE (cs:Encounter {id:row.ENCOUNTER, isEnd: false})\n",
        "  ON CREATE\n",
        "  SET cs.date=datetime(row.START)\n",
        "\n",
        "MERGE (p)-[:HAS_ENCOUNTER]->(cs)\n",
        "MERGE (cs)-[:HAS_PROCEDURE]->(c)\n",
        "} IN TRANSACTIONS OF 1000 ROWS\n",
        "''', {'procedures_data': procedures_df.to_dict('records')})"
      ]
    },
    {
      "cell_type": "markdown",
      "id": "8268cb21-03ff-4d96-b7ca-c6a817145f39",
      "metadata": {
        "id": "8268cb21-03ff-4d96-b7ca-c6a817145f39"
      },
      "source": [
        "# Load Allergies Data"
      ]
    },
    {
      "cell_type": "code",
      "execution_count": null,
      "id": "0768d3c7",
      "metadata": {
        "id": "0768d3c7"
      },
      "outputs": [],
      "source": [
        "allergies_df = pd.read_csv(DATA_DIRECTORY + 'allergies.csv')\n",
        "allergies_df = allergies_df.fillna('')\n",
        "allergies_df.shape"
      ]
    },
    {
      "cell_type": "code",
      "execution_count": null,
      "id": "716a3f67-994e-4498-aca2-f915a6260e6c",
      "metadata": {
        "id": "716a3f67-994e-4498-aca2-f915a6260e6c"
      },
      "outputs": [],
      "source": [
        "gds.run_cypher('''\n",
        "CYPHER runtime=slotted\n",
        "\n",
        "UNWIND $allergies_data AS row\n",
        "CALL {\n",
        "WITH row\n",
        "MATCH (p:Patient {id:row.PATIENT})\n",
        "MERGE (c:SNOMED_CT {code:row.CODE})\n",
        "    SET c.description=row.DESCRIPTION, c:Allergy\n",
        "\n",
        "MERGE (cs:Encounter {id:row.ENCOUNTER, isEnd: false})\n",
        "  ON CREATE\n",
        "  SET cs.date=datetime(row.START)\n",
        "\n",
        "MERGE (p)-[:HAS_ENCOUNTER]->(cs)\n",
        "MERGE (cs)-[:ALLERGY_STARTED]->(c)\n",
        "\n",
        "WITH p,c,cs,row\n",
        "  WHERE row.STOP IS NOT NULL and row.STOP <> ''\n",
        "MERGE (ce:Encounter {id:row.ENCOUNTER,\n",
        "                     date:datetime(row.STOP)})\n",
        "    SET ce.isEnd=true\n",
        "\n",
        "MERGE (p)-[:HAS_ENCOUNTER]->(ce)\n",
        "MERGE (ce)-[:ALLERGY_ENDED]->(c)\n",
        "MERGE (cs)-[:HAS_END]->(ce)\n",
        "} IN TRANSACTIONS OF 1000 ROWS\n",
        "''', {'allergies_data': allergies_df.to_dict('records')})"
      ]
    },
    {
      "cell_type": "markdown",
      "id": "3245fbee-f4d8-4ce6-b140-ea82b12f067a",
      "metadata": {
        "id": "3245fbee-f4d8-4ce6-b140-ea82b12f067a"
      },
      "source": [
        "# Load Care Plan Data"
      ]
    },
    {
      "cell_type": "code",
      "execution_count": null,
      "id": "59fd70b8",
      "metadata": {
        "id": "59fd70b8"
      },
      "outputs": [],
      "source": [
        "careplans_df = pd.read_csv(DATA_DIRECTORY + 'careplans.csv')\n",
        "careplans_df=careplans_df.fillna('')\n",
        "careplans_df.shape"
      ]
    },
    {
      "cell_type": "code",
      "execution_count": null,
      "id": "63319d1e-f1a7-4415-b7ce-a907b8cbddbf",
      "metadata": {
        "id": "63319d1e-f1a7-4415-b7ce-a907b8cbddbf"
      },
      "outputs": [],
      "source": [
        "gds.run_cypher('''\n",
        "CYPHER runtime=slotted\n",
        "\n",
        "UNWIND $careplans_data AS row\n",
        "CALL {\n",
        "WITH row\n",
        "MATCH (p:Patient {id:row.PATIENT})\n",
        "MERGE (cp:CarePlan {code:row.Id})\n",
        "MERGE (c:SNOMED_CT {code:row.CODE})\n",
        "  SET c.description=row.DESCRIPTION, c:Care\n",
        "\n",
        "MERGE (cp)-[:HAS_CARE_TYPE]->(c)\n",
        "MERGE (cs:Encounter {id:row.ENCOUNTER, isEnd: false})\n",
        "  ON CREATE\n",
        "  SET cs.date=datetime(row.START)\n",
        "\n",
        "MERGE (cs)-[:HAS_CARE_TYPE]->(c)\n",
        "MERGE (p)-[:HAS_ENCOUNTER]->(cs)\n",
        "MERGE (cs)-[:CARE_PLAN_START]->(cp)\n",
        "\n",
        "WITH p,cp,cs,row\n",
        "  WHERE row.STOP IS NOT NULL and row.STOP <> ''\n",
        "CREATE (ce:Encounter {id:row.ENCOUNTER, date:datetime(row.STOP)})\n",
        "  SET ce.code=row.CODE, ce.isEnd=true\n",
        "\n",
        "MERGE (p)-[:HAS_ENCOUNTER]->(ce)\n",
        "MERGE (ce)-[:CARE_PLAN_END]->(cp)\n",
        "MERGE (cs)-[:HAS_END]->(ce)\n",
        "} IN TRANSACTIONS OF 1000 ROWS\n",
        "''', {'careplans_data': careplans_df.to_dict('records')})"
      ]
    },
    {
      "cell_type": "code",
      "source": [],
      "metadata": {
        "id": "NHWdgJVUKblS"
      },
      "id": "NHWdgJVUKblS",
      "execution_count": null,
      "outputs": []
    }
  ],
  "metadata": {
    "kernelspec": {
      "display_name": "Python 3 (ipykernel)",
      "language": "python",
      "name": "python3"
    },
    "language_info": {
      "codemirror_mode": {
        "name": "ipython",
        "version": 3
      },
      "file_extension": ".py",
      "mimetype": "text/x-python",
      "name": "python",
      "nbconvert_exporter": "python",
      "pygments_lexer": "ipython3",
      "version": "3.10.8"
    },
    "colab": {
      "provenance": [],
      "toc_visible": true,
      "machine_shape": "hm",
      "include_colab_link": true
    },
    "gpuClass": "standard"
  },
  "nbformat": 4,
  "nbformat_minor": 5
}