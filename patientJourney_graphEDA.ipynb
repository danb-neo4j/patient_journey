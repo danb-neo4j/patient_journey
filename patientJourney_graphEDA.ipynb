{
  "cells": [
    {
      "attachments": {},
      "cell_type": "markdown",
      "id": "ba5c31ff-8572-47d9-9b4a-22ac74d9de05",
      "metadata": {
        "id": "ba5c31ff-8572-47d9-9b4a-22ac74d9de05"
      },
      "source": [
        "# Neo4j Graph Data Science Workshop: In-Depth Graph Exploratory Data Analysis \n",
        "This notebook is part of an overall Neo4j Graph Data Science (GDS) [Patient Journey series of demonstration notebooks](https://github.com/danb-neo4j/patient_journey/blob/main/README.md). Existing notebooks currently address:\n",
        "* [Tabular Exploratory Data Analysis (EDA)](https://github.com/danb-neo4j/patient_journey/blob/main/patientJourney_tabularEDA.ipynb), \n",
        "* [Graph Data Loading](https://github.com/danb-neo4j/patient_journey/blob/main/patientJourney_dataLoad.ipynb), and \n",
        "* [Patient Community Analysis](https://github.com/danb-neo4j/patient_journey/blob/main/patientJourney_nodeSimilarity.ipynb). \n",
        "\n",
        "This notebook fills an important gap in that series by demonstrating an in-depth approach to [Graph EDA](https://github.com/danb-neo4j/gds-guide/blob/main/graph-eda.md). "
      ]
    },
    {
      "attachments": {},
      "cell_type": "markdown",
      "id": "9bf92bc2-67fd-43e6-b953-e92a1454bc01",
      "metadata": {
        "id": "9bf92bc2-67fd-43e6-b953-e92a1454bc01"
      },
      "source": [
        "# Import Libraries"
      ]
    },
    {
      "cell_type": "code",
      "execution_count": 87,
      "id": "88bee118-e1b1-4d65-a6c3-8ebe1d5c879c",
      "metadata": {
        "id": "88bee118-e1b1-4d65-a6c3-8ebe1d5c879c"
      },
      "outputs": [],
      "source": [
        "import numpy as np\n",
        "import pandas as pd\n",
        "pd.set_option('display.max_columns', None)\n",
        "pd.set_option('display.max_rows', None)\n",
        "pd.set_option('display.max_colwidth', None)\n",
        "\n",
        "import matplotlib.pyplot as plt \n",
        "import seaborn as sns\n",
        "sns.set_style('darkgrid')\n",
        "sns.set_palette(\"colorblind\")\n",
        "sns.set(rc={'figure.figsize':(12,7)})\n",
        "\n",
        "import os\n",
        "import subprocess\n",
        "import sys\n",
        "import importlib\n",
        "import configparser\n",
        "from IPython.display import Image"
      ]
    },
    {
      "cell_type": "code",
      "execution_count": 2,
      "id": "1fa80139-9ff7-4e00-bc3e-900749f96b69",
      "metadata": {
        "colab": {
          "base_uri": "https://localhost:8080/"
        },
        "id": "1fa80139-9ff7-4e00-bc3e-900749f96b69",
        "outputId": "594a507c-723b-4e0d-af0d-5deb59de6885"
      },
      "outputs": [
        {
          "name": "stdout",
          "output_type": "stream",
          "text": [
            "Successfully imported GraphDataScience\n"
          ]
        }
      ],
      "source": [
        "# install or import Neo4j GraphDataScience library\n",
        "try: \n",
        "  from graphdatascience import GraphDataScience\n",
        "  print('Successfully imported GraphDataScience')\n",
        "except ModuleNotFoundError:\n",
        "  !pip install graphdatascience\n",
        "  from graphdatascience import GraphDataScience\n",
        "  print('installed and imported GraphDataScience')"
      ]
    },
    {
      "cell_type": "code",
      "execution_count": 3,
      "id": "f243935b",
      "metadata": {},
      "outputs": [],
      "source": [
        "# set local working directory\n",
        "os.chdir('/Users/danielbukowski/Documents/GDS/patient_journey')"
      ]
    },
    {
      "attachments": {},
      "cell_type": "markdown",
      "id": "7119b6f0-01cd-4e74-99f6-92b68b353f0c",
      "metadata": {
        "id": "7119b6f0-01cd-4e74-99f6-92b68b353f0c"
      },
      "source": [
        "# Connect to Neo4j Database\n",
        "We will use the [neoUtils](https://github.com/danb-neo4j/patient_journey/blob/main/neoUtils.py) module to read-in autentication credentials and connect the GDS library to our AuraDS instance."
      ]
    },
    {
      "cell_type": "code",
      "execution_count": 4,
      "id": "829646a2-da52-4c19-aafe-cc3d7a2409b1",
      "metadata": {
        "id": "829646a2-da52-4c19-aafe-cc3d7a2409b1"
      },
      "outputs": [],
      "source": [
        "# import utility function to connect to Neo4j DB\n",
        "from neoUtils import read_neo4j_properties"
      ]
    },
    {
      "cell_type": "code",
      "execution_count": 5,
      "id": "f6566c2f-d7a4-436b-96c3-5874f010764c",
      "metadata": {
        "colab": {
          "base_uri": "https://localhost:8080/"
        },
        "id": "f6566c2f-d7a4-436b-96c3-5874f010764c",
        "outputId": "cb9bbc54-a1c1-4a09-c3a8-0091e811a552"
      },
      "outputs": [
        {
          "name": "stdout",
          "output_type": "stream",
          "text": [
            "Using HOST, USERNAME, PASSWORD from .ini file\n"
          ]
        }
      ],
      "source": [
        "# read in Neo4j host and authentication \n",
        "NEO4J_PROPERTIES_FILE = 'auth/patientJourney_auth.ini'\n",
        "# NEO4J_PROPERTIES_FILE = 'patientJourney_auth.ini'\n",
        "HOST, USERNAME, PASSWORD = read_neo4j_properties(NEO4J_PROPERTIES_FILE=NEO4J_PROPERTIES_FILE)"
      ]
    },
    {
      "cell_type": "code",
      "execution_count": 6,
      "id": "7326078c-fde8-41ed-baf7-cdc9a9b9e315",
      "metadata": {
        "colab": {
          "base_uri": "https://localhost:8080/"
        },
        "id": "7326078c-fde8-41ed-baf7-cdc9a9b9e315",
        "outputId": "eb487dec-2bc4-4092-9a5d-0e85f02e0da1"
      },
      "outputs": [
        {
          "name": "stdout",
          "output_type": "stream",
          "text": [
            "Neo4j GDS Version: 2.4.2+26\n"
          ]
        }
      ],
      "source": [
        "# instantiate GDS and connect to database \n",
        "gds = GraphDataScience(HOST, auth=(USERNAME, PASSWORD), aura_ds=True)\n",
        "\n",
        "# confirm connection with gds version \n",
        "print('Neo4j GDS Version:', gds.version())"
      ]
    },
    {
      "attachments": {},
      "cell_type": "markdown",
      "id": "1FAke2HHhBJO",
      "metadata": {
        "id": "1FAke2HHhBJO"
      },
      "source": [
        "# Preliminary GraphEDA\n",
        "The Synthea Patient Data used in this notebook is a larger version of the same data used in [Graph Data Processing with Cypher](https://github.com/PacktPublishing/Cypher-Querying). The data was [loaded into the database](https://github.com/danb-neo4j/patient_journey/blob/main/patientJourney_dataLoad.ipynb) using scripts from this text. "
      ]
    },
    {
      "attachments": {},
      "cell_type": "markdown",
      "id": "75501947",
      "metadata": {},
      "source": [
        "## Graph Schema\n",
        "The first thing we always want to do is view the graph schema as the database understands it. To do so we can use the `CALL db.schema.visualization()` Cypher procedure. However, you will need to do so via the Neo4j Browser or Bloom, as the output is an interactive visualization that we canno visualize via the GDS Python client."
      ]
    },
    {
      "attachments": {},
      "cell_type": "markdown",
      "id": "4d111c2a",
      "metadata": {},
      "source": [
        "## Initial Data Quality Issues"
      ]
    },
    {
      "attachments": {},
      "cell_type": "markdown",
      "id": "2b059885",
      "metadata": {},
      "source": [
        "### Identify Unconnected Nodes\n",
        "Unconnected nodes often indicate a data quality issue, outliers in the data, or an issue loading the data into the graph. It is generally recommend to explore the root cause of their occurrence before deciding how to handle them."
      ]
    },
    {
      "cell_type": "code",
      "execution_count": 7,
      "id": "0bfa26e3",
      "metadata": {},
      "outputs": [
        {
          "name": "stdout",
          "output_type": "stream",
          "text": [
            "Count of nodes that do not have relationships:\n"
          ]
        },
        {
          "data": {
            "text/html": [
              "<div>\n",
              "<style scoped>\n",
              "    .dataframe tbody tr th:only-of-type {\n",
              "        vertical-align: middle;\n",
              "    }\n",
              "\n",
              "    .dataframe tbody tr th {\n",
              "        vertical-align: top;\n",
              "    }\n",
              "\n",
              "    .dataframe thead th {\n",
              "        text-align: right;\n",
              "    }\n",
              "</style>\n",
              "<table border=\"1\" class=\"dataframe\">\n",
              "  <thead>\n",
              "    <tr style=\"text-align: right;\">\n",
              "      <th></th>\n",
              "      <th>nodeCount</th>\n",
              "    </tr>\n",
              "  </thead>\n",
              "  <tbody>\n",
              "    <tr>\n",
              "      <th>0</th>\n",
              "      <td>0</td>\n",
              "    </tr>\n",
              "  </tbody>\n",
              "</table>\n",
              "</div>"
            ],
            "text/plain": [
              "   nodeCount\n",
              "0          0"
            ]
          },
          "execution_count": 7,
          "metadata": {},
          "output_type": "execute_result"
        }
      ],
      "source": [
        "print('Count of nodes that do not have relationships:') \n",
        "gds.run_cypher('''\n",
        "MATCH (n)\n",
        "WHERE NOT (n)--()\n",
        "RETURN COUNT(n) as nodeCount\n",
        "''')"
      ]
    },
    {
      "attachments": {},
      "cell_type": "markdown",
      "id": "47448578",
      "metadata": {},
      "source": [
        "### Identify Unlabeled Nodes\n",
        "Unlabeled nodes are also a potential issue to address early in the Graph EDA process. They also typically occur for two reasons:\n",
        "* Data quality issue\n",
        "* Data ingestion issue \n",
        "\n",
        "It is recommended to identify the root causes of a graph containing unlabeled nodes before determing how to address them. "
      ]
    },
    {
      "cell_type": "code",
      "execution_count": 8,
      "id": "c84c86d4",
      "metadata": {},
      "outputs": [
        {
          "name": "stdout",
          "output_type": "stream",
          "text": [
            "Count of unlabeled nodes: 586915\n"
          ]
        }
      ],
      "source": [
        "unlabeled_node_ct = gds.run_cypher(\"\"\"\n",
        "MATCH (n)\n",
        "WHERE labels(n) = []\n",
        "RETURN COUNT(n) AS count\n",
        "\"\"\")\n",
        "\n",
        "print('Count of unlabeled nodes:', unlabeled_node_ct['count'][0])"
      ]
    },
    {
      "attachments": {},
      "cell_type": "markdown",
      "id": "c3a0a1ff",
      "metadata": {},
      "source": [
        "*Analysis:* Running the following Cypher code in the Neo4j Browser will return ten of the unlabeled nodes.\n",
        "```\n",
        "MATCH (n)\n",
        "    WHERE labels(n) = []\n",
        "RETURN n\n",
        "LIMIT 10\n",
        "```\n",
        "Upon examination, these appear to be unlabeled `Drug` nodes with a single in-degree `HAS_DRUG` relationship from an `Encounter` node that has an end-date. \n",
        "\n",
        "Issues like this highlight the importance of GraphEDA and feature creation for detecting potential data quality or data load issues when the data is converted from tabular to graph."
      ]
    },
    {
      "attachments": {},
      "cell_type": "markdown",
      "id": "bc47f9fd",
      "metadata": {},
      "source": [
        "### Delete Unlabeled Nodes\n",
        "Based on the analysis above we will remove the unlabeled nodes and their relationships from the graph. There appears to be a minor issue in the ingestion script and deleting the unlabled nodes will not impact our overall analysis."
      ]
    },
    {
      "cell_type": "code",
      "execution_count": 9,
      "id": "59fa3570",
      "metadata": {},
      "outputs": [
        {
          "data": {
            "text/html": [
              "<div>\n",
              "<style scoped>\n",
              "    .dataframe tbody tr th:only-of-type {\n",
              "        vertical-align: middle;\n",
              "    }\n",
              "\n",
              "    .dataframe tbody tr th {\n",
              "        vertical-align: top;\n",
              "    }\n",
              "\n",
              "    .dataframe thead th {\n",
              "        text-align: right;\n",
              "    }\n",
              "</style>\n",
              "<table border=\"1\" class=\"dataframe\">\n",
              "  <thead>\n",
              "    <tr style=\"text-align: right;\">\n",
              "      <th></th>\n",
              "    </tr>\n",
              "  </thead>\n",
              "  <tbody>\n",
              "  </tbody>\n",
              "</table>\n",
              "</div>"
            ],
            "text/plain": [
              "Empty DataFrame\n",
              "Columns: []\n",
              "Index: []"
            ]
          },
          "execution_count": 9,
          "metadata": {},
          "output_type": "execute_result"
        }
      ],
      "source": [
        "gds.run_cypher('''\n",
        "MATCH (n) \n",
        "    WHERE labels(n) = []\n",
        "CALL { WITH n \n",
        "DETACH DELETE n \n",
        "} IN TRANSACTIONS OF 50000 ROWS\n",
        "''')"
      ]
    },
    {
      "cell_type": "code",
      "execution_count": 10,
      "id": "5f133123",
      "metadata": {},
      "outputs": [
        {
          "name": "stdout",
          "output_type": "stream",
          "text": [
            "UPDATED Count of unlabeled nodes: 0\n"
          ]
        }
      ],
      "source": [
        "# update count of unlabeled nodes\n",
        "unlabeled_node_ct = gds.run_cypher(\"\"\"\n",
        "MATCH (n)\n",
        "WHERE labels(n) = []\n",
        "RETURN COUNT(n) AS count\n",
        "\"\"\")\n",
        "\n",
        "print('UPDATED Count of unlabeled nodes:', unlabeled_node_ct['count'][0])"
      ]
    },
    {
      "attachments": {},
      "cell_type": "markdown",
      "id": "a8709e01",
      "metadata": {},
      "source": [
        "## Graph Overview\n",
        "We will call `apoc.meta.stats()` to get a high-level overview of the graph. This will return a JSON object that will be converted automatically to a pandas DataFrame."
      ]
    },
    {
      "cell_type": "code",
      "execution_count": 11,
      "id": "25ebd0da",
      "metadata": {},
      "outputs": [],
      "source": [
        "# call apoc.meta.stats() to get a summary of the graph\n",
        "apoc_stats = gds.run_cypher(\"CALL apoc.meta.stats()\")"
      ]
    },
    {
      "cell_type": "code",
      "execution_count": 12,
      "id": "1d683692",
      "metadata": {},
      "outputs": [
        {
          "data": {
            "text/html": [
              "<div>\n",
              "<style scoped>\n",
              "    .dataframe tbody tr th:only-of-type {\n",
              "        vertical-align: middle;\n",
              "    }\n",
              "\n",
              "    .dataframe tbody tr th {\n",
              "        vertical-align: top;\n",
              "    }\n",
              "\n",
              "    .dataframe thead th {\n",
              "        text-align: right;\n",
              "    }\n",
              "</style>\n",
              "<table border=\"1\" class=\"dataframe\">\n",
              "  <thead>\n",
              "    <tr style=\"text-align: right;\">\n",
              "      <th></th>\n",
              "      <th>labelCount</th>\n",
              "      <th>relTypeCount</th>\n",
              "      <th>propertyKeyCount</th>\n",
              "      <th>nodeCount</th>\n",
              "      <th>relCount</th>\n",
              "      <th>labels</th>\n",
              "      <th>relTypes</th>\n",
              "      <th>relTypesCount</th>\n",
              "      <th>stats</th>\n",
              "    </tr>\n",
              "  </thead>\n",
              "  <tbody>\n",
              "    <tr>\n",
              "      <th>0</th>\n",
              "      <td>26</td>\n",
              "      <td>18</td>\n",
              "      <td>26</td>\n",
              "      <td>1307205</td>\n",
              "      <td>5445753</td>\n",
              "      <td>{'Allergy': 21, 'Organization': 1088, 'Wellness': 118041, 'Snf': 828, 'SNOMED_CT': 524, 'CarePlan': 22293, 'Race': 6, 'Encounter': 1274720, 'Procedure': 271, 'Outpatient': 74710, 'Ambulatory': 237163, 'Diagnosis': 137, 'Home': 1861, 'Drug': 326, 'Condition': 271, 'Urgentcare': 38239, 'ZipCode': 1272, 'Patient': 5885, 'Virtual': 450, 'Care': 40, 'Provider': 1088, 'Specialty': 1, 'Ethnicity': 2, 'Hospice': 996, 'Inpatient': 6480, 'Emergency': 18647}</td>\n",
              "      <td>{'()-[:ALLERGY_STARTED]-&gt;(:SNOMED_CT)': 4062, '(:Hospice)-[:HAS_END]-&gt;()': 26, '(:Inpatient)-[:HAS_CARE_TYPE]-&gt;()': 1308, '(:Outpatient)-[:CARE_PLAN_START]-&gt;()': 1104, '(:Snf)-[:HAS_PROCEDURE]-&gt;()': 1, '()-[:HAS_CARE_TYPE]-&gt;(:Care)': 44191, '()-[:HAS_SPECIALTY]-&gt;()': 1088, '()-[:HAS_DIAGNOSIS]-&gt;(:SNOMED_CT)': 517612, '(:Outpatient)-[:HAS_PROVIDER]-&gt;()': 74710, '(:Outpatient)-[:HAS_CONDITION]-&gt;()': 49556, '()-[:HAS_CARE_TYPE]-&gt;(:SNOMED_CT)': 44191, '()-[:OF_TYPE]-&gt;(:Condition)': 20, '(:Snf)-[:OF_TYPE]-&gt;()': 828, '()-[:HAS_DIAGNOSIS]-&gt;(:Diagnosis)': 517612, '(:Home)-[:HAS_DIAGNOSIS]-&gt;()': 2, '()-[:HAS_PROVIDER]-&gt;(:Provider)': 497415, '()-[:HAS_CARE_TYPE]-&gt;()': 44191, '(:Wellness)-[:OF_TYPE]-&gt;()': 118041, '(:Inpatient)-[:HAS_CONDITION]-&gt;()': 2540, '(:Emergency)-[:HAS_DRUG]-&gt;()': 31671, '(:Encounter)-[:HAS_CARE_TYPE]-&gt;()': 21898, '(:Encounter)-[:HAS_PROVIDER]-&gt;()': 497415, '(:Ambulatory)-[:HAS_DRUG]-&gt;()': 129842, '(:Ambulatory)-[:ALLERGY_STARTED]-&gt;()': 4062, '(:Encounter)-[:HAS_ORGANIZATION]-&gt;()': 497415, '(:Home)-[:OF_TYPE]-&gt;()': 1861, '()-[:HAS_DRUG]-&gt;()': 569538, '(:Snf)-[:HAS_DRUG]-&gt;()': 10, '(:Urgentcare)-[:CARE_PLAN_START]-&gt;()': 206, '(:Provider)-[:HAS_SPECIALTY]-&gt;()': 1088, '(:Ambulatory)-[:OF_TYPE]-&gt;()': 237163, '(:Outpatient)-[:HAS_PROCEDURE]-&gt;()': 49556, '()-[:HAS_PROCEDURE]-&gt;(:Procedure)': 254432, '(:Urgentcare)-[:OF_TYPE]-&gt;()': 38239, '()-[:ALLERGY_STARTED]-&gt;()': 4062, '()-[:HAS_PROCEDURE]-&gt;(:SNOMED_CT)': 254432, '(:Virtual)-[:OF_TYPE]-&gt;()': 450, '(:Provider)-[:HAS_ZIPCODE]-&gt;()': 1088, '(:Ambulatory)-[:HAS_PROVIDER]-&gt;()': 237163, '()-[:HAS_CONDITION]-&gt;()': 455938, '(:Outpatient)-[:HAS_CARE_TYPE]-&gt;()': 1104, '(:Home)-[:HAS_ORGANIZATION]-&gt;()': 1861, '(:Emergency)-[:HAS_DIAGNOSIS]-&gt;()': 24698, '(:Outpatient)-[:HAS_ORGANIZATION]-&gt;()': 74710, '(:Snf)-[:HAS_DIAGNOSIS]-&gt;()': 9, '()-[:OF_TYPE]-&gt;(:SNOMED_CT)': 497415, '(:Patient)-[:HAS_ZIPCODE]-&gt;()': 5885, '(:Wellness)-[:HAS_DRUG]-&gt;()': 146920, '()-[:HAS_CONDITION]-&gt;(:Condition)': 455938, '(:Urgentcare)-[:HAS_DRUG]-&gt;()': 111535, '(:Home)-[:HAS_DRUG]-&gt;()': 2, '()-[:HAS_END]-&gt;(:Encounter)': 777305, '(:Home)-[:HAS_END]-&gt;()': 2, '(:Urgentcare)-[:HAS_PROCEDURE]-&gt;()': 30105, '(:Inpatient)-[:HAS_PROVIDER]-&gt;()': 6480, '()-[:HAS_CONDITION]-&gt;(:Procedure)': 455938, '(:Wellness)-[:HAS_DIAGNOSIS]-&gt;()': 131590, '()-[:CARE_PLAN_END]-&gt;(:CarePlan)': 11410, '(:Encounter)-[:OF_TYPE]-&gt;()': 497415, '(:Inpatient)-[:HAS_ORGANIZATION]-&gt;()': 6480, '(:Inpatient)-[:HAS_DRUG]-&gt;()': 8755, '()-[:CARE_PLAN_START]-&gt;()': 22293, '()-[:HAS_ENCOUNTER]-&gt;(:Home)': 1861, '(:Wellness)-[:HAS_PROCEDURE]-&gt;()': 131390, '(:Urgentcare)-[:HAS_DIAGNOSIS]-&gt;()': 105028, '(:Ambulatory)-[:HAS_ORGANIZATION]-&gt;()': 237163, '(:Hospice)-[:HAS_DRUG]-&gt;()': 37, '(:Virtual)-[:HAS_END]-&gt;()': 64, '()-[:HAS_CONDITION]-&gt;(:SNOMED_CT)': 455938, '()-[:HAS_RACE]-&gt;()': 5885, '(:Patient)-[:HAS_ENCOUNTER]-&gt;()': 1274720, '(:Emergency)-[:HAS_ORGANIZATION]-&gt;()': 18647, '()-[:HAS_ENCOUNTER]-&gt;(:Ambulatory)': 237163, '(:Ambulatory)-[:HAS_DIAGNOSIS]-&gt;()': 125514, '(:Virtual)-[:HAS_DRUG]-&gt;()': 56, '()-[:HAS_ENCOUNTER]-&gt;()': 1274720, '()-[:BELONGS_TO]-&gt;()': 1088, '(:Inpatient)-[:HAS_PROCEDURE]-&gt;()': 2540, '(:Virtual)-[:HAS_PROVIDER]-&gt;()': 450, '(:Hospice)-[:HAS_DIAGNOSIS]-&gt;()': 26, '(:Inpatient)-[:HAS_DIAGNOSIS]-&gt;()': 6035, '(:Encounter)-[:HAS_CONDITION]-&gt;()': 455938, '()-[:HAS_ENCOUNTER]-&gt;(:Inpatient)': 6480, '(:Hospice)-[:HAS_PROCEDURE]-&gt;()': 51, '(:Wellness)-[:HAS_END]-&gt;()': 228532, '(:Snf)-[:HAS_END]-&gt;()': 10, '(:Outpatient)-[:HAS_DRUG]-&gt;()': 140710, '(:Patient)-[:HAS_RACE]-&gt;()': 5885, '(:Urgentcare)-[:HAS_CARE_TYPE]-&gt;()': 206, '()-[:OF_TYPE]-&gt;(:Procedure)': 20, '(:Urgentcare)-[:HAS_CONDITION]-&gt;()': 30105, '(:Hospice)-[:HAS_ORGANIZATION]-&gt;()': 996, '(:Patient)-[:HAS_ETHNICITY]-&gt;()': 5885, '(:Urgentcare)-[:HAS_END]-&gt;()': 135730, '(:Wellness)-[:HAS_CARE_TYPE]-&gt;()': 4699, '(:Ambulatory)-[:HAS_PROCEDURE]-&gt;()': 28502, '(:Virtual)-[:HAS_ORGANIZATION]-&gt;()': 450, '()-[:HAS_DIAGNOSIS]-&gt;()': 517612, '(:Hospice)-[:OF_TYPE]-&gt;()': 996, '()-[:HAS_ORGANIZATION]-&gt;()': 497415, ...}</td>\n",
              "      <td>{'HAS_DIAGNOSIS': 517612, 'HAS_ENCOUNTER': 1274720, 'HAS_PROCEDURE': 254432, 'CARE_PLAN_END': 11410, 'OF_TYPE': 497415, 'HAS_DRUG': 569538, 'ALLERGY_STARTED': 4062, 'HAS_ZIPCODE': 8061, 'HAS_CONDITION': 455938, 'HAS_PROVIDER': 497415, 'HAS_CARE_TYPE': 44191, 'HAS_ETHNICITY': 5885, 'BELONGS_TO': 1088, 'HAS_SPECIALTY': 1088, 'HAS_RACE': 5885, 'CARE_PLAN_START': 22293, 'HAS_ORGANIZATION': 497415, 'HAS_END': 777305}</td>\n",
              "      <td>{'relTypeCount': 18, 'propertyKeyCount': 26, 'labelCount': 26, 'nodeCount': 1307205, 'relCount': 5445753, 'labels': {'Allergy': 21, 'Organization': 1088, 'Wellness': 118041, 'Snf': 828, 'SNOMED_CT': 524, 'CarePlan': 22293, 'Race': 6, 'Encounter': 1274720, 'Procedure': 271, 'Outpatient': 74710, 'Ambulatory': 237163, 'Diagnosis': 137, 'Home': 1861, 'Drug': 326, 'Condition': 271, 'Urgentcare': 38239, 'ZipCode': 1272, 'Patient': 5885, 'Virtual': 450, 'Care': 40, 'Provider': 1088, 'Specialty': 1, 'Ethnicity': 2, 'Hospice': 996, 'Inpatient': 6480, 'Emergency': 18647}, 'relTypes': {'()-[:ALLERGY_STARTED]-&gt;(:SNOMED_CT)': 4062, '(:Hospice)-[:HAS_END]-&gt;()': 26, '(:Inpatient)-[:HAS_CARE_TYPE]-&gt;()': 1308, '(:Outpatient)-[:CARE_PLAN_START]-&gt;()': 1104, '(:Snf)-[:HAS_PROCEDURE]-&gt;()': 1, '()-[:HAS_CARE_TYPE]-&gt;(:Care)': 44191, '()-[:HAS_SPECIALTY]-&gt;()': 1088, '()-[:HAS_DIAGNOSIS]-&gt;(:SNOMED_CT)': 517612, '(:Outpatient)-[:HAS_PROVIDER]-&gt;()': 74710, '(:Outpatient)-[:HAS_CONDITION]-&gt;()': 49556, '()-[:HAS_CARE_TYPE]-&gt;(:SNOMED_CT)': 44191, '()-[:OF_TYPE]-&gt;(:Condition)': 20, '(:Snf)-[:OF_TYPE]-&gt;()': 828, '()-[:HAS_DIAGNOSIS]-&gt;(:Diagnosis)': 517612, '(:Home)-[:HAS_DIAGNOSIS]-&gt;()': 2, '()-[:HAS_PROVIDER]-&gt;(:Provider)': 497415, '()-[:HAS_CARE_TYPE]-&gt;()': 44191, '(:Wellness)-[:OF_TYPE]-&gt;()': 118041, '(:Inpatient)-[:HAS_CONDITION]-&gt;()': 2540, '(:Emergency)-[:HAS_DRUG]-&gt;()': 31671, '(:Encounter)-[:HAS_CARE_TYPE]-&gt;()': 21898, '(:Encounter)-[:HAS_PROVIDER]-&gt;()': 497415, '(:Ambulatory)-[:HAS_DRUG]-&gt;()': 129842, '(:Ambulatory)-[:ALLERGY_STARTED]-&gt;()': 4062, '(:Encounter)-[:HAS_ORGANIZATION]-&gt;()': 497415, '(:Home)-[:OF_TYPE]-&gt;()': 1861, '()-[:HAS_DRUG]-&gt;()': 569538, '(:Snf)-[:HAS_DRUG]-&gt;()': 10, '(:Urgentcare)-[:CARE_PLAN_START]-&gt;()': 206, '(:Provider)-[:HAS_SPECIALTY]-&gt;()': 1088, '(:Ambulatory)-[:OF_TYPE]-&gt;()': 237163, '(:Outpatient)-[:HAS_PROCEDURE]-&gt;()': 49556, '()-[:HAS_PROCEDURE]-&gt;(:Procedure)': 254432, '(:Urgentcare)-[:OF_TYPE]-&gt;()': 38239, '()-[:ALLERGY_STARTED]-&gt;()': 4062, '()-[:HAS_PROCEDURE]-&gt;(:SNOMED_CT)': 254432, '(:Virtual)-[:OF_TYPE]-&gt;()': 450, '(:Provider)-[:HAS_ZIPCODE]-&gt;()': 1088, '(:Ambulatory)-[:HAS_PROVIDER]-&gt;()': 237163, '()-[:HAS_CONDITION]-&gt;()': 455938, '(:Outpatient)-[:HAS_CARE_TYPE]-&gt;()': 1104, '(:Home)-[:HAS_ORGANIZATION]-&gt;()': 1861, '(:Emergency)-[:HAS_DIAGNOSIS]-&gt;()': 24698, '(:Outpatient)-[:HAS_ORGANIZATION]-&gt;()': 74710, '(:Snf)-[:HAS_DIAGNOSIS]-&gt;()': 9, '()-[:OF_TYPE]-&gt;(:SNOMED_CT)': 497415, '(:Patient)-[:HAS_ZIPCODE]-&gt;()': 5885, '(:Wellness)-[:HAS_DRUG]-&gt;()': 146920, '()-[:HAS_CONDITION]-&gt;(:Condition)': 455938, '(:Urgentcare)-[:HAS_DRUG]-&gt;()': 111535, '(:Home)-[:HAS_DRUG]-&gt;()': 2, '()-[:HAS_END]-&gt;(:Encounter)': 777305, '(:Home)-[:HAS_END]-&gt;()': 2, '(:Urgentcare)-[:HAS_PROCEDURE]-&gt;()': 30105, '(:Inpatient)-[:HAS_PROVIDER]-&gt;()': 6480, '()-[:HAS_CONDITION]-&gt;(:Procedure)': 455938, '(:Wellness)-[:HAS_DIAGNOSIS]-&gt;()': 131590, '()-[:CARE_PLAN_END]-&gt;(:CarePlan)': 11410, '(:Encounter)-[:OF_TYPE]-&gt;()': 497415, '(:Inpatient)-[:HAS_ORGANIZATION]-&gt;()': 6480, '(:Inpatient)-[:HAS_DRUG]-&gt;()': 8755, '()-[:CARE_PLAN_START]-&gt;()': 22293, '()-[:HAS_ENCOUNTER]-&gt;(:Home)': 1861, '(:Wellness)-[:HAS_PROCEDURE]-&gt;()': 131390, '(:Urgentcare)-[:HAS_DIAGNOSIS]-&gt;()': 105028, '(:Ambulatory)-[:HAS_ORGANIZATION]-&gt;()': 237163, '(:Hospice)-[:HAS_DRUG]-&gt;()': 37, '(:Virtual)-[:HAS_END]-&gt;()': 64, '()-[:HAS_CONDITION]-&gt;(:SNOMED_CT)': 455938, '()-[:HAS_RACE]-&gt;()': 5885, '(:Patient)-[:HAS_ENCOUNTER]-&gt;()': 1274720, '(:Emergency)-[:HAS_ORGANIZATION]-&gt;()': 18647, '()-[:HAS_ENCOUNTER]-&gt;(:Ambulatory)': 237163, '(:Ambulatory)-[:HAS_DIAGNOSIS]-&gt;()': 125514, '(:Virtual)-[:HAS_DRUG]-&gt;()': 56, '()-[:HAS_ENCOUNTER]-&gt;()': 1274720, '()-[:BELONGS_TO]-&gt;()': 1088, '(:Inpatient)-[:HAS_PROCEDURE]-&gt;()': 2540, '(:Virtual)-[:HAS_PROVIDER]-&gt;()': 450, '(:Hospice)-[:HAS_DIAGNOSIS]-&gt;()': 26, '(:Inpatient)-[:HAS_DIAGNOSIS]-&gt;()': 6035, '(:Encounter)-[:HAS_CONDITION]-&gt;()': 455938, '()-[:HAS_ENCOUNTER]-&gt;(:Inpatient)': 6480, '(:Hospice)-[:HAS_PROCEDURE]-&gt;()': 51, '(:Wellness)-[:HAS_END]-&gt;()': 228532, '(:Snf)-[:HAS_END]-&gt;()': 10, '(:Outpatient)-[:HAS_DRUG]-&gt;()': 140710, '(:Patient)-[:HAS_RACE]-&gt;()': 5885, '(:Urgentcare)-[:HAS_CARE_TYPE]-&gt;()': 206, '()-[:OF_TYPE]-&gt;(:Procedure)': 20, '(:Urgentcare)-[:HAS_CONDITION]-&gt;()': 30105, '(:Hospice)-[:HAS_ORGANIZATION]-&gt;()': 996, '(:Patient)-[:HAS_ETHNICITY]-&gt;()': 5885, '(:Urgentcare)-[:HAS_END]-&gt;()': 135730, '(:Wellness)-[:HAS_CARE_TYPE]-&gt;()': 4699, '(:Ambulatory)-[:HAS_PROCEDURE]-&gt;()': 28502, '(:Virtual)-[:HAS_ORGANIZATION]-&gt;()': 450, '()-[:HAS_DIAGNOSIS]-&gt;()': 517612, '(:Hospice)-[:OF_TYPE]-&gt;()': 996, '()-[:HAS_ORGANIZATION]-&gt;()': 497415, ...}}</td>\n",
              "    </tr>\n",
              "  </tbody>\n",
              "</table>\n",
              "</div>"
            ],
            "text/plain": [
              "   labelCount  relTypeCount  propertyKeyCount  nodeCount  relCount  \\\n",
              "0          26            18                26    1307205   5445753   \n",
              "\n",
              "                                                                                                                                                                                                                                                                                                                                                                                                                                                                labels  \\\n",
              "0  {'Allergy': 21, 'Organization': 1088, 'Wellness': 118041, 'Snf': 828, 'SNOMED_CT': 524, 'CarePlan': 22293, 'Race': 6, 'Encounter': 1274720, 'Procedure': 271, 'Outpatient': 74710, 'Ambulatory': 237163, 'Diagnosis': 137, 'Home': 1861, 'Drug': 326, 'Condition': 271, 'Urgentcare': 38239, 'ZipCode': 1272, 'Patient': 5885, 'Virtual': 450, 'Care': 40, 'Provider': 1088, 'Specialty': 1, 'Ethnicity': 2, 'Hospice': 996, 'Inpatient': 6480, 'Emergency': 18647}   \n",
              "\n",
              "                                                                                                                                                                                                                                                                                                                                                                                                                                                                                                                                                                                                                                                                                                                                                                                                                                                                                                                                                                                                                                                                                                                                                                                                                                                                                                                                                                                                                                                                                                                                                                                                                                                                                                                                                                                                                                                                                                                                                                                                                                                                                                                                                                                                                                                                                                                                                                                                                                                                                                                                                                                                                                                                                                                                                                                                                                                                                                                                                                                                                                                                                                                                                                                                                                                                                                                                                                                                                                                                                                                                                                                                                                                                                                                                                                                                                                                                                                                                                                                                                                                                                                                                                                       relTypes  \\\n",
              "0  {'()-[:ALLERGY_STARTED]->(:SNOMED_CT)': 4062, '(:Hospice)-[:HAS_END]->()': 26, '(:Inpatient)-[:HAS_CARE_TYPE]->()': 1308, '(:Outpatient)-[:CARE_PLAN_START]->()': 1104, '(:Snf)-[:HAS_PROCEDURE]->()': 1, '()-[:HAS_CARE_TYPE]->(:Care)': 44191, '()-[:HAS_SPECIALTY]->()': 1088, '()-[:HAS_DIAGNOSIS]->(:SNOMED_CT)': 517612, '(:Outpatient)-[:HAS_PROVIDER]->()': 74710, '(:Outpatient)-[:HAS_CONDITION]->()': 49556, '()-[:HAS_CARE_TYPE]->(:SNOMED_CT)': 44191, '()-[:OF_TYPE]->(:Condition)': 20, '(:Snf)-[:OF_TYPE]->()': 828, '()-[:HAS_DIAGNOSIS]->(:Diagnosis)': 517612, '(:Home)-[:HAS_DIAGNOSIS]->()': 2, '()-[:HAS_PROVIDER]->(:Provider)': 497415, '()-[:HAS_CARE_TYPE]->()': 44191, '(:Wellness)-[:OF_TYPE]->()': 118041, '(:Inpatient)-[:HAS_CONDITION]->()': 2540, '(:Emergency)-[:HAS_DRUG]->()': 31671, '(:Encounter)-[:HAS_CARE_TYPE]->()': 21898, '(:Encounter)-[:HAS_PROVIDER]->()': 497415, '(:Ambulatory)-[:HAS_DRUG]->()': 129842, '(:Ambulatory)-[:ALLERGY_STARTED]->()': 4062, '(:Encounter)-[:HAS_ORGANIZATION]->()': 497415, '(:Home)-[:OF_TYPE]->()': 1861, '()-[:HAS_DRUG]->()': 569538, '(:Snf)-[:HAS_DRUG]->()': 10, '(:Urgentcare)-[:CARE_PLAN_START]->()': 206, '(:Provider)-[:HAS_SPECIALTY]->()': 1088, '(:Ambulatory)-[:OF_TYPE]->()': 237163, '(:Outpatient)-[:HAS_PROCEDURE]->()': 49556, '()-[:HAS_PROCEDURE]->(:Procedure)': 254432, '(:Urgentcare)-[:OF_TYPE]->()': 38239, '()-[:ALLERGY_STARTED]->()': 4062, '()-[:HAS_PROCEDURE]->(:SNOMED_CT)': 254432, '(:Virtual)-[:OF_TYPE]->()': 450, '(:Provider)-[:HAS_ZIPCODE]->()': 1088, '(:Ambulatory)-[:HAS_PROVIDER]->()': 237163, '()-[:HAS_CONDITION]->()': 455938, '(:Outpatient)-[:HAS_CARE_TYPE]->()': 1104, '(:Home)-[:HAS_ORGANIZATION]->()': 1861, '(:Emergency)-[:HAS_DIAGNOSIS]->()': 24698, '(:Outpatient)-[:HAS_ORGANIZATION]->()': 74710, '(:Snf)-[:HAS_DIAGNOSIS]->()': 9, '()-[:OF_TYPE]->(:SNOMED_CT)': 497415, '(:Patient)-[:HAS_ZIPCODE]->()': 5885, '(:Wellness)-[:HAS_DRUG]->()': 146920, '()-[:HAS_CONDITION]->(:Condition)': 455938, '(:Urgentcare)-[:HAS_DRUG]->()': 111535, '(:Home)-[:HAS_DRUG]->()': 2, '()-[:HAS_END]->(:Encounter)': 777305, '(:Home)-[:HAS_END]->()': 2, '(:Urgentcare)-[:HAS_PROCEDURE]->()': 30105, '(:Inpatient)-[:HAS_PROVIDER]->()': 6480, '()-[:HAS_CONDITION]->(:Procedure)': 455938, '(:Wellness)-[:HAS_DIAGNOSIS]->()': 131590, '()-[:CARE_PLAN_END]->(:CarePlan)': 11410, '(:Encounter)-[:OF_TYPE]->()': 497415, '(:Inpatient)-[:HAS_ORGANIZATION]->()': 6480, '(:Inpatient)-[:HAS_DRUG]->()': 8755, '()-[:CARE_PLAN_START]->()': 22293, '()-[:HAS_ENCOUNTER]->(:Home)': 1861, '(:Wellness)-[:HAS_PROCEDURE]->()': 131390, '(:Urgentcare)-[:HAS_DIAGNOSIS]->()': 105028, '(:Ambulatory)-[:HAS_ORGANIZATION]->()': 237163, '(:Hospice)-[:HAS_DRUG]->()': 37, '(:Virtual)-[:HAS_END]->()': 64, '()-[:HAS_CONDITION]->(:SNOMED_CT)': 455938, '()-[:HAS_RACE]->()': 5885, '(:Patient)-[:HAS_ENCOUNTER]->()': 1274720, '(:Emergency)-[:HAS_ORGANIZATION]->()': 18647, '()-[:HAS_ENCOUNTER]->(:Ambulatory)': 237163, '(:Ambulatory)-[:HAS_DIAGNOSIS]->()': 125514, '(:Virtual)-[:HAS_DRUG]->()': 56, '()-[:HAS_ENCOUNTER]->()': 1274720, '()-[:BELONGS_TO]->()': 1088, '(:Inpatient)-[:HAS_PROCEDURE]->()': 2540, '(:Virtual)-[:HAS_PROVIDER]->()': 450, '(:Hospice)-[:HAS_DIAGNOSIS]->()': 26, '(:Inpatient)-[:HAS_DIAGNOSIS]->()': 6035, '(:Encounter)-[:HAS_CONDITION]->()': 455938, '()-[:HAS_ENCOUNTER]->(:Inpatient)': 6480, '(:Hospice)-[:HAS_PROCEDURE]->()': 51, '(:Wellness)-[:HAS_END]->()': 228532, '(:Snf)-[:HAS_END]->()': 10, '(:Outpatient)-[:HAS_DRUG]->()': 140710, '(:Patient)-[:HAS_RACE]->()': 5885, '(:Urgentcare)-[:HAS_CARE_TYPE]->()': 206, '()-[:OF_TYPE]->(:Procedure)': 20, '(:Urgentcare)-[:HAS_CONDITION]->()': 30105, '(:Hospice)-[:HAS_ORGANIZATION]->()': 996, '(:Patient)-[:HAS_ETHNICITY]->()': 5885, '(:Urgentcare)-[:HAS_END]->()': 135730, '(:Wellness)-[:HAS_CARE_TYPE]->()': 4699, '(:Ambulatory)-[:HAS_PROCEDURE]->()': 28502, '(:Virtual)-[:HAS_ORGANIZATION]->()': 450, '()-[:HAS_DIAGNOSIS]->()': 517612, '(:Hospice)-[:OF_TYPE]->()': 996, '()-[:HAS_ORGANIZATION]->()': 497415, ...}   \n",
              "\n",
              "                                                                                                                                                                                                                                                                                                                                                                                                                     relTypesCount  \\\n",
              "0  {'HAS_DIAGNOSIS': 517612, 'HAS_ENCOUNTER': 1274720, 'HAS_PROCEDURE': 254432, 'CARE_PLAN_END': 11410, 'OF_TYPE': 497415, 'HAS_DRUG': 569538, 'ALLERGY_STARTED': 4062, 'HAS_ZIPCODE': 8061, 'HAS_CONDITION': 455938, 'HAS_PROVIDER': 497415, 'HAS_CARE_TYPE': 44191, 'HAS_ETHNICITY': 5885, 'BELONGS_TO': 1088, 'HAS_SPECIALTY': 1088, 'HAS_RACE': 5885, 'CARE_PLAN_START': 22293, 'HAS_ORGANIZATION': 497415, 'HAS_END': 777305}   \n",
              "\n",
              "                                                                                                                                                                                                                                                                                                                                                                                                                                                                                                                                                                                                                                                                                                                                                                                                                                                                                                                                                                                                                                                                                                                                                                                                                                                                                                                                                                                                                                                                                                                                                                                                                                                                                                                                                                                                                                                                                                                                                                                                                                                                                                                                                                                                                                                                                                                                                                                                                                                                                                                                                                                                                                                                                                                                                                                                                                                                                                                                                                                                                                                                                                                                                                                                                                                                                                                                                                                                                                                                                                                                                                                                                                                                                                                                                                                                                                                                                                                                                                                                                                                                                                                                                                                                                                                                                                                                                                                                                                                                                                                                                                                                                                                                                                                                                                                stats  \n",
              "0  {'relTypeCount': 18, 'propertyKeyCount': 26, 'labelCount': 26, 'nodeCount': 1307205, 'relCount': 5445753, 'labels': {'Allergy': 21, 'Organization': 1088, 'Wellness': 118041, 'Snf': 828, 'SNOMED_CT': 524, 'CarePlan': 22293, 'Race': 6, 'Encounter': 1274720, 'Procedure': 271, 'Outpatient': 74710, 'Ambulatory': 237163, 'Diagnosis': 137, 'Home': 1861, 'Drug': 326, 'Condition': 271, 'Urgentcare': 38239, 'ZipCode': 1272, 'Patient': 5885, 'Virtual': 450, 'Care': 40, 'Provider': 1088, 'Specialty': 1, 'Ethnicity': 2, 'Hospice': 996, 'Inpatient': 6480, 'Emergency': 18647}, 'relTypes': {'()-[:ALLERGY_STARTED]->(:SNOMED_CT)': 4062, '(:Hospice)-[:HAS_END]->()': 26, '(:Inpatient)-[:HAS_CARE_TYPE]->()': 1308, '(:Outpatient)-[:CARE_PLAN_START]->()': 1104, '(:Snf)-[:HAS_PROCEDURE]->()': 1, '()-[:HAS_CARE_TYPE]->(:Care)': 44191, '()-[:HAS_SPECIALTY]->()': 1088, '()-[:HAS_DIAGNOSIS]->(:SNOMED_CT)': 517612, '(:Outpatient)-[:HAS_PROVIDER]->()': 74710, '(:Outpatient)-[:HAS_CONDITION]->()': 49556, '()-[:HAS_CARE_TYPE]->(:SNOMED_CT)': 44191, '()-[:OF_TYPE]->(:Condition)': 20, '(:Snf)-[:OF_TYPE]->()': 828, '()-[:HAS_DIAGNOSIS]->(:Diagnosis)': 517612, '(:Home)-[:HAS_DIAGNOSIS]->()': 2, '()-[:HAS_PROVIDER]->(:Provider)': 497415, '()-[:HAS_CARE_TYPE]->()': 44191, '(:Wellness)-[:OF_TYPE]->()': 118041, '(:Inpatient)-[:HAS_CONDITION]->()': 2540, '(:Emergency)-[:HAS_DRUG]->()': 31671, '(:Encounter)-[:HAS_CARE_TYPE]->()': 21898, '(:Encounter)-[:HAS_PROVIDER]->()': 497415, '(:Ambulatory)-[:HAS_DRUG]->()': 129842, '(:Ambulatory)-[:ALLERGY_STARTED]->()': 4062, '(:Encounter)-[:HAS_ORGANIZATION]->()': 497415, '(:Home)-[:OF_TYPE]->()': 1861, '()-[:HAS_DRUG]->()': 569538, '(:Snf)-[:HAS_DRUG]->()': 10, '(:Urgentcare)-[:CARE_PLAN_START]->()': 206, '(:Provider)-[:HAS_SPECIALTY]->()': 1088, '(:Ambulatory)-[:OF_TYPE]->()': 237163, '(:Outpatient)-[:HAS_PROCEDURE]->()': 49556, '()-[:HAS_PROCEDURE]->(:Procedure)': 254432, '(:Urgentcare)-[:OF_TYPE]->()': 38239, '()-[:ALLERGY_STARTED]->()': 4062, '()-[:HAS_PROCEDURE]->(:SNOMED_CT)': 254432, '(:Virtual)-[:OF_TYPE]->()': 450, '(:Provider)-[:HAS_ZIPCODE]->()': 1088, '(:Ambulatory)-[:HAS_PROVIDER]->()': 237163, '()-[:HAS_CONDITION]->()': 455938, '(:Outpatient)-[:HAS_CARE_TYPE]->()': 1104, '(:Home)-[:HAS_ORGANIZATION]->()': 1861, '(:Emergency)-[:HAS_DIAGNOSIS]->()': 24698, '(:Outpatient)-[:HAS_ORGANIZATION]->()': 74710, '(:Snf)-[:HAS_DIAGNOSIS]->()': 9, '()-[:OF_TYPE]->(:SNOMED_CT)': 497415, '(:Patient)-[:HAS_ZIPCODE]->()': 5885, '(:Wellness)-[:HAS_DRUG]->()': 146920, '()-[:HAS_CONDITION]->(:Condition)': 455938, '(:Urgentcare)-[:HAS_DRUG]->()': 111535, '(:Home)-[:HAS_DRUG]->()': 2, '()-[:HAS_END]->(:Encounter)': 777305, '(:Home)-[:HAS_END]->()': 2, '(:Urgentcare)-[:HAS_PROCEDURE]->()': 30105, '(:Inpatient)-[:HAS_PROVIDER]->()': 6480, '()-[:HAS_CONDITION]->(:Procedure)': 455938, '(:Wellness)-[:HAS_DIAGNOSIS]->()': 131590, '()-[:CARE_PLAN_END]->(:CarePlan)': 11410, '(:Encounter)-[:OF_TYPE]->()': 497415, '(:Inpatient)-[:HAS_ORGANIZATION]->()': 6480, '(:Inpatient)-[:HAS_DRUG]->()': 8755, '()-[:CARE_PLAN_START]->()': 22293, '()-[:HAS_ENCOUNTER]->(:Home)': 1861, '(:Wellness)-[:HAS_PROCEDURE]->()': 131390, '(:Urgentcare)-[:HAS_DIAGNOSIS]->()': 105028, '(:Ambulatory)-[:HAS_ORGANIZATION]->()': 237163, '(:Hospice)-[:HAS_DRUG]->()': 37, '(:Virtual)-[:HAS_END]->()': 64, '()-[:HAS_CONDITION]->(:SNOMED_CT)': 455938, '()-[:HAS_RACE]->()': 5885, '(:Patient)-[:HAS_ENCOUNTER]->()': 1274720, '(:Emergency)-[:HAS_ORGANIZATION]->()': 18647, '()-[:HAS_ENCOUNTER]->(:Ambulatory)': 237163, '(:Ambulatory)-[:HAS_DIAGNOSIS]->()': 125514, '(:Virtual)-[:HAS_DRUG]->()': 56, '()-[:HAS_ENCOUNTER]->()': 1274720, '()-[:BELONGS_TO]->()': 1088, '(:Inpatient)-[:HAS_PROCEDURE]->()': 2540, '(:Virtual)-[:HAS_PROVIDER]->()': 450, '(:Hospice)-[:HAS_DIAGNOSIS]->()': 26, '(:Inpatient)-[:HAS_DIAGNOSIS]->()': 6035, '(:Encounter)-[:HAS_CONDITION]->()': 455938, '()-[:HAS_ENCOUNTER]->(:Inpatient)': 6480, '(:Hospice)-[:HAS_PROCEDURE]->()': 51, '(:Wellness)-[:HAS_END]->()': 228532, '(:Snf)-[:HAS_END]->()': 10, '(:Outpatient)-[:HAS_DRUG]->()': 140710, '(:Patient)-[:HAS_RACE]->()': 5885, '(:Urgentcare)-[:HAS_CARE_TYPE]->()': 206, '()-[:OF_TYPE]->(:Procedure)': 20, '(:Urgentcare)-[:HAS_CONDITION]->()': 30105, '(:Hospice)-[:HAS_ORGANIZATION]->()': 996, '(:Patient)-[:HAS_ETHNICITY]->()': 5885, '(:Urgentcare)-[:HAS_END]->()': 135730, '(:Wellness)-[:HAS_CARE_TYPE]->()': 4699, '(:Ambulatory)-[:HAS_PROCEDURE]->()': 28502, '(:Virtual)-[:HAS_ORGANIZATION]->()': 450, '()-[:HAS_DIAGNOSIS]->()': 517612, '(:Hospice)-[:OF_TYPE]->()': 996, '()-[:HAS_ORGANIZATION]->()': 497415, ...}}  "
            ]
          },
          "execution_count": 12,
          "metadata": {},
          "output_type": "execute_result"
        }
      ],
      "source": [
        "# # view full dataframe \n",
        "apoc_stats"
      ]
    },
    {
      "cell_type": "code",
      "execution_count": 14,
      "id": "da9edfa7",
      "metadata": {},
      "outputs": [
        {
          "data": {
            "text/html": [
              "<div>\n",
              "<style scoped>\n",
              "    .dataframe tbody tr th:only-of-type {\n",
              "        vertical-align: middle;\n",
              "    }\n",
              "\n",
              "    .dataframe tbody tr th {\n",
              "        vertical-align: top;\n",
              "    }\n",
              "\n",
              "    .dataframe thead th {\n",
              "        text-align: right;\n",
              "    }\n",
              "</style>\n",
              "<table border=\"1\" class=\"dataframe\">\n",
              "  <thead>\n",
              "    <tr style=\"text-align: right;\">\n",
              "      <th></th>\n",
              "      <th>nodeCount</th>\n",
              "      <th>labelCount</th>\n",
              "      <th>relCount</th>\n",
              "      <th>relTypeCount</th>\n",
              "    </tr>\n",
              "  </thead>\n",
              "  <tbody>\n",
              "    <tr>\n",
              "      <th>0</th>\n",
              "      <td>1307205</td>\n",
              "      <td>26</td>\n",
              "      <td>5445753</td>\n",
              "      <td>18</td>\n",
              "    </tr>\n",
              "  </tbody>\n",
              "</table>\n",
              "</div>"
            ],
            "text/plain": [
              "   nodeCount  labelCount  relCount  relTypeCount\n",
              "0    1307205          26   5445753            18"
            ]
          },
          "execution_count": 14,
          "metadata": {},
          "output_type": "execute_result"
        }
      ],
      "source": [
        "# view sleceted fields\n",
        "apoc_stats[['nodeCount', 'labelCount', 'relCount', 'relTypeCount']]"
      ]
    },
    {
      "attachments": {},
      "cell_type": "markdown",
      "id": "wDYP1hC93kkN",
      "metadata": {
        "id": "wDYP1hC93kkN"
      },
      "source": [
        "# Nodes"
      ]
    },
    {
      "attachments": {},
      "cell_type": "markdown",
      "id": "a4e9c6e0",
      "metadata": {},
      "source": [
        "## Node Label Counts"
      ]
    },
    {
      "cell_type": "code",
      "execution_count": 13,
      "id": "82403135",
      "metadata": {},
      "outputs": [
        {
          "name": "stdout",
          "output_type": "stream",
          "text": [
            "total node count: 1805360\n"
          ]
        }
      ],
      "source": [
        "# parse nodetype and count into dataframe \n",
        "nodeType_counts = pd.DataFrame(apoc_stats['labels'][0].items(), columns=['nodeType', 'count']).sort_values(by='count', ascending=False)\n",
        "print('total node count:', nodeType_counts['count'].sum())"
      ]
    },
    {
      "cell_type": "code",
      "execution_count": 17,
      "id": "d6756e61",
      "metadata": {},
      "outputs": [
        {
          "data": {
            "text/html": [
              "<div>\n",
              "<style scoped>\n",
              "    .dataframe tbody tr th:only-of-type {\n",
              "        vertical-align: middle;\n",
              "    }\n",
              "\n",
              "    .dataframe tbody tr th {\n",
              "        vertical-align: top;\n",
              "    }\n",
              "\n",
              "    .dataframe thead th {\n",
              "        text-align: right;\n",
              "    }\n",
              "</style>\n",
              "<table border=\"1\" class=\"dataframe\">\n",
              "  <thead>\n",
              "    <tr style=\"text-align: right;\">\n",
              "      <th></th>\n",
              "      <th>nodeType</th>\n",
              "      <th>count</th>\n",
              "    </tr>\n",
              "  </thead>\n",
              "  <tbody>\n",
              "    <tr>\n",
              "      <th>7</th>\n",
              "      <td>Encounter</td>\n",
              "      <td>1274720</td>\n",
              "    </tr>\n",
              "    <tr>\n",
              "      <th>10</th>\n",
              "      <td>Ambulatory</td>\n",
              "      <td>237163</td>\n",
              "    </tr>\n",
              "    <tr>\n",
              "      <th>2</th>\n",
              "      <td>Wellness</td>\n",
              "      <td>118041</td>\n",
              "    </tr>\n",
              "    <tr>\n",
              "      <th>9</th>\n",
              "      <td>Outpatient</td>\n",
              "      <td>74710</td>\n",
              "    </tr>\n",
              "    <tr>\n",
              "      <th>15</th>\n",
              "      <td>Urgentcare</td>\n",
              "      <td>38239</td>\n",
              "    </tr>\n",
              "    <tr>\n",
              "      <th>5</th>\n",
              "      <td>CarePlan</td>\n",
              "      <td>22293</td>\n",
              "    </tr>\n",
              "    <tr>\n",
              "      <th>25</th>\n",
              "      <td>Emergency</td>\n",
              "      <td>18647</td>\n",
              "    </tr>\n",
              "    <tr>\n",
              "      <th>24</th>\n",
              "      <td>Inpatient</td>\n",
              "      <td>6480</td>\n",
              "    </tr>\n",
              "    <tr>\n",
              "      <th>17</th>\n",
              "      <td>Patient</td>\n",
              "      <td>5885</td>\n",
              "    </tr>\n",
              "    <tr>\n",
              "      <th>12</th>\n",
              "      <td>Home</td>\n",
              "      <td>1861</td>\n",
              "    </tr>\n",
              "    <tr>\n",
              "      <th>16</th>\n",
              "      <td>ZipCode</td>\n",
              "      <td>1272</td>\n",
              "    </tr>\n",
              "    <tr>\n",
              "      <th>20</th>\n",
              "      <td>Provider</td>\n",
              "      <td>1088</td>\n",
              "    </tr>\n",
              "    <tr>\n",
              "      <th>1</th>\n",
              "      <td>Organization</td>\n",
              "      <td>1088</td>\n",
              "    </tr>\n",
              "    <tr>\n",
              "      <th>23</th>\n",
              "      <td>Hospice</td>\n",
              "      <td>996</td>\n",
              "    </tr>\n",
              "    <tr>\n",
              "      <th>3</th>\n",
              "      <td>Snf</td>\n",
              "      <td>828</td>\n",
              "    </tr>\n",
              "    <tr>\n",
              "      <th>4</th>\n",
              "      <td>SNOMED_CT</td>\n",
              "      <td>524</td>\n",
              "    </tr>\n",
              "    <tr>\n",
              "      <th>18</th>\n",
              "      <td>Virtual</td>\n",
              "      <td>450</td>\n",
              "    </tr>\n",
              "    <tr>\n",
              "      <th>13</th>\n",
              "      <td>Drug</td>\n",
              "      <td>326</td>\n",
              "    </tr>\n",
              "    <tr>\n",
              "      <th>14</th>\n",
              "      <td>Condition</td>\n",
              "      <td>271</td>\n",
              "    </tr>\n",
              "    <tr>\n",
              "      <th>8</th>\n",
              "      <td>Procedure</td>\n",
              "      <td>271</td>\n",
              "    </tr>\n",
              "    <tr>\n",
              "      <th>11</th>\n",
              "      <td>Diagnosis</td>\n",
              "      <td>137</td>\n",
              "    </tr>\n",
              "    <tr>\n",
              "      <th>19</th>\n",
              "      <td>Care</td>\n",
              "      <td>40</td>\n",
              "    </tr>\n",
              "    <tr>\n",
              "      <th>0</th>\n",
              "      <td>Allergy</td>\n",
              "      <td>21</td>\n",
              "    </tr>\n",
              "    <tr>\n",
              "      <th>6</th>\n",
              "      <td>Race</td>\n",
              "      <td>6</td>\n",
              "    </tr>\n",
              "    <tr>\n",
              "      <th>22</th>\n",
              "      <td>Ethnicity</td>\n",
              "      <td>2</td>\n",
              "    </tr>\n",
              "    <tr>\n",
              "      <th>21</th>\n",
              "      <td>Specialty</td>\n",
              "      <td>1</td>\n",
              "    </tr>\n",
              "  </tbody>\n",
              "</table>\n",
              "</div>"
            ],
            "text/plain": [
              "        nodeType    count\n",
              "7      Encounter  1274720\n",
              "10    Ambulatory   237163\n",
              "2       Wellness   118041\n",
              "9     Outpatient    74710\n",
              "15    Urgentcare    38239\n",
              "5       CarePlan    22293\n",
              "25     Emergency    18647\n",
              "24     Inpatient     6480\n",
              "17       Patient     5885\n",
              "12          Home     1861\n",
              "16       ZipCode     1272\n",
              "20      Provider     1088\n",
              "1   Organization     1088\n",
              "23       Hospice      996\n",
              "3            Snf      828\n",
              "4      SNOMED_CT      524\n",
              "18       Virtual      450\n",
              "13          Drug      326\n",
              "14     Condition      271\n",
              "8      Procedure      271\n",
              "11     Diagnosis      137\n",
              "19          Care       40\n",
              "0        Allergy       21\n",
              "6           Race        6\n",
              "22     Ethnicity        2\n",
              "21     Specialty        1"
            ]
          },
          "execution_count": 17,
          "metadata": {},
          "output_type": "execute_result"
        }
      ],
      "source": [
        "# view full dataframe \n",
        "nodeType_counts"
      ]
    },
    {
      "attachments": {},
      "cell_type": "markdown",
      "id": "c8eb4c77",
      "metadata": {},
      "source": [
        "**Be Careful Counting Node Labels:**\n",
        "\n",
        "*Note: the 'labels' feature of `apoc.meta.stats()` includes each node label individually, even when there are multiple labels on the same node. As shown above, this will provide the count of each label, but if you sum all of the rows it will result in over counting the total nodes in the graph. Therefore, we will need to count nodes by type another way.*"
      ]
    },
    {
      "attachments": {},
      "cell_type": "markdown",
      "id": "q5E9Ftlt3969",
      "metadata": {
        "id": "q5E9Ftlt3969"
      },
      "source": [
        "## Single-Label Nodes\n",
        "Because our database contains nodes with multiple labels, we will want to analyze both single-label and multi-label nodes separately. "
      ]
    },
    {
      "cell_type": "code",
      "execution_count": 14,
      "id": "7XOMTBDO0bZE",
      "metadata": {
        "colab": {
          "base_uri": "https://localhost:8080/"
        },
        "id": "7XOMTBDO0bZE",
        "outputId": "57f389ab-aa66-4ce6-b7b2-e5661068accf"
      },
      "outputs": [
        {
          "name": "stdout",
          "output_type": "stream",
          "text": [
            "Singluar, unique node labels with counts:\n"
          ]
        },
        {
          "data": {
            "text/html": [
              "<div>\n",
              "<style scoped>\n",
              "    .dataframe tbody tr th:only-of-type {\n",
              "        vertical-align: middle;\n",
              "    }\n",
              "\n",
              "    .dataframe tbody tr th {\n",
              "        vertical-align: top;\n",
              "    }\n",
              "\n",
              "    .dataframe thead th {\n",
              "        text-align: right;\n",
              "    }\n",
              "</style>\n",
              "<table border=\"1\" class=\"dataframe\">\n",
              "  <thead>\n",
              "    <tr style=\"text-align: right;\">\n",
              "      <th></th>\n",
              "      <th>uniqueLabels</th>\n",
              "      <th>count</th>\n",
              "    </tr>\n",
              "  </thead>\n",
              "  <tbody>\n",
              "    <tr>\n",
              "      <th>0</th>\n",
              "      <td>Encounter</td>\n",
              "      <td>777305</td>\n",
              "    </tr>\n",
              "    <tr>\n",
              "      <th>1</th>\n",
              "      <td>CarePlan</td>\n",
              "      <td>22293</td>\n",
              "    </tr>\n",
              "    <tr>\n",
              "      <th>2</th>\n",
              "      <td>Patient</td>\n",
              "      <td>5885</td>\n",
              "    </tr>\n",
              "    <tr>\n",
              "      <th>3</th>\n",
              "      <td>ZipCode</td>\n",
              "      <td>1272</td>\n",
              "    </tr>\n",
              "    <tr>\n",
              "      <th>4</th>\n",
              "      <td>Provider</td>\n",
              "      <td>1088</td>\n",
              "    </tr>\n",
              "    <tr>\n",
              "      <th>5</th>\n",
              "      <td>Organization</td>\n",
              "      <td>1088</td>\n",
              "    </tr>\n",
              "    <tr>\n",
              "      <th>6</th>\n",
              "      <td>Drug</td>\n",
              "      <td>326</td>\n",
              "    </tr>\n",
              "    <tr>\n",
              "      <th>7</th>\n",
              "      <td>SNOMED_CT</td>\n",
              "      <td>55</td>\n",
              "    </tr>\n",
              "    <tr>\n",
              "      <th>8</th>\n",
              "      <td>Race</td>\n",
              "      <td>6</td>\n",
              "    </tr>\n",
              "    <tr>\n",
              "      <th>9</th>\n",
              "      <td>Ethnicity</td>\n",
              "      <td>2</td>\n",
              "    </tr>\n",
              "    <tr>\n",
              "      <th>10</th>\n",
              "      <td>Specialty</td>\n",
              "      <td>1</td>\n",
              "    </tr>\n",
              "  </tbody>\n",
              "</table>\n",
              "</div>"
            ],
            "text/plain": [
              "    uniqueLabels   count\n",
              "0      Encounter  777305\n",
              "1       CarePlan   22293\n",
              "2        Patient    5885\n",
              "3        ZipCode    1272\n",
              "4       Provider    1088\n",
              "5   Organization    1088\n",
              "6           Drug     326\n",
              "7      SNOMED_CT      55\n",
              "8           Race       6\n",
              "9      Ethnicity       2\n",
              "10     Specialty       1"
            ]
          },
          "execution_count": 14,
          "metadata": {},
          "output_type": "execute_result"
        }
      ],
      "source": [
        "# query for single-label node labels with counts \n",
        "singleLabels = gds.run_cypher(\"\"\"\n",
        "                              MATCH (n) \n",
        "                              WITH n, labels(n) as node_labels\n",
        "                              WHERE size(node_labels) = 1\n",
        "                              WITH node_labels[0] as uniqueLabels\n",
        "                              RETURN uniqueLabels, count(uniqueLabels) as count\n",
        "                              ORDER BY count DESC\n",
        "                              \"\"\")\n",
        "print('Singluar, unique node labels with counts:')\n",
        "singleLabels "
      ]
    },
    {
      "cell_type": "code",
      "execution_count": 15,
      "id": "62b693d9",
      "metadata": {},
      "outputs": [
        {
          "data": {
            "image/png": "[encoded data removed]",
            "text/plain": [
              "<Figure size 1200x700 with 1 Axes>"
            ]
          },
          "metadata": {},
          "output_type": "display_data"
        }
      ],
      "source": [
        "(\n",
        "    singleLabels\n",
        "    .set_index('uniqueLabels')\n",
        "    .sort_values(by='count', ascending=True)\n",
        "    .plot(kind='barh', title='Singular, Unique Node Labels with Counts, log scale', log=True, legend=None, figsize=(12,7))\n",
        ")\n",
        "plt.show()"
      ]
    },
    {
      "attachments": {},
      "cell_type": "markdown",
      "id": "c4e666c9",
      "metadata": {},
      "source": [
        "## Multi-Label Nodes"
      ]
    },
    {
      "cell_type": "code",
      "execution_count": 16,
      "id": "QJFhuqni3has",
      "metadata": {
        "colab": {
          "base_uri": "https://localhost:8080/",
          "height": 426
        },
        "id": "QJFhuqni3has",
        "outputId": "796acc57-a027-4c2c-e6f6-f1ea24b6ae7c"
      },
      "outputs": [],
      "source": [
        "labelCombinations = gds.run_cypher(\"\"\"\n",
        "                              MATCH (n) \n",
        "                              WITH n, labels(n) as node_labels\n",
        "                              WHERE size(node_labels) > 1\n",
        "                              WITH node_labels as labelCombinations\n",
        "                              RETURN labelCombinations, count(labelCombinations) as nodeCount\n",
        "                              ORDER BY nodeCount DESC\n",
        "                              \"\"\")"
      ]
    },
    {
      "cell_type": "code",
      "execution_count": 17,
      "id": "e2d515b6",
      "metadata": {},
      "outputs": [
        {
          "name": "stdout",
          "output_type": "stream",
          "text": [
            "Multi-label combinations with counts:\n"
          ]
        },
        {
          "data": {
            "text/html": [
              "<div>\n",
              "<style scoped>\n",
              "    .dataframe tbody tr th:only-of-type {\n",
              "        vertical-align: middle;\n",
              "    }\n",
              "\n",
              "    .dataframe tbody tr th {\n",
              "        vertical-align: top;\n",
              "    }\n",
              "\n",
              "    .dataframe thead th {\n",
              "        text-align: right;\n",
              "    }\n",
              "</style>\n",
              "<table border=\"1\" class=\"dataframe\">\n",
              "  <thead>\n",
              "    <tr style=\"text-align: right;\">\n",
              "      <th></th>\n",
              "      <th>labelCombinations</th>\n",
              "      <th>labelCount</th>\n",
              "      <th>nodeCount</th>\n",
              "    </tr>\n",
              "  </thead>\n",
              "  <tbody>\n",
              "    <tr>\n",
              "      <th>10</th>\n",
              "      <td>[SNOMED_CT, Condition, Procedure]</td>\n",
              "      <td>3</td>\n",
              "      <td>271</td>\n",
              "    </tr>\n",
              "    <tr>\n",
              "      <th>0</th>\n",
              "      <td>[Encounter, Ambulatory]</td>\n",
              "      <td>2</td>\n",
              "      <td>237163</td>\n",
              "    </tr>\n",
              "    <tr>\n",
              "      <th>1</th>\n",
              "      <td>[Encounter, Wellness]</td>\n",
              "      <td>2</td>\n",
              "      <td>118041</td>\n",
              "    </tr>\n",
              "    <tr>\n",
              "      <th>2</th>\n",
              "      <td>[Encounter, Outpatient]</td>\n",
              "      <td>2</td>\n",
              "      <td>74710</td>\n",
              "    </tr>\n",
              "    <tr>\n",
              "      <th>3</th>\n",
              "      <td>[Encounter, Urgentcare]</td>\n",
              "      <td>2</td>\n",
              "      <td>38239</td>\n",
              "    </tr>\n",
              "    <tr>\n",
              "      <th>4</th>\n",
              "      <td>[Encounter, Emergency]</td>\n",
              "      <td>2</td>\n",
              "      <td>18647</td>\n",
              "    </tr>\n",
              "    <tr>\n",
              "      <th>5</th>\n",
              "      <td>[Encounter, Inpatient]</td>\n",
              "      <td>2</td>\n",
              "      <td>6480</td>\n",
              "    </tr>\n",
              "    <tr>\n",
              "      <th>6</th>\n",
              "      <td>[Encounter, Home]</td>\n",
              "      <td>2</td>\n",
              "      <td>1861</td>\n",
              "    </tr>\n",
              "    <tr>\n",
              "      <th>7</th>\n",
              "      <td>[Encounter, Hospice]</td>\n",
              "      <td>2</td>\n",
              "      <td>996</td>\n",
              "    </tr>\n",
              "    <tr>\n",
              "      <th>8</th>\n",
              "      <td>[Encounter, Snf]</td>\n",
              "      <td>2</td>\n",
              "      <td>828</td>\n",
              "    </tr>\n",
              "    <tr>\n",
              "      <th>9</th>\n",
              "      <td>[Encounter, Virtual]</td>\n",
              "      <td>2</td>\n",
              "      <td>450</td>\n",
              "    </tr>\n",
              "    <tr>\n",
              "      <th>11</th>\n",
              "      <td>[SNOMED_CT, Diagnosis]</td>\n",
              "      <td>2</td>\n",
              "      <td>137</td>\n",
              "    </tr>\n",
              "    <tr>\n",
              "      <th>12</th>\n",
              "      <td>[SNOMED_CT, Care]</td>\n",
              "      <td>2</td>\n",
              "      <td>40</td>\n",
              "    </tr>\n",
              "    <tr>\n",
              "      <th>13</th>\n",
              "      <td>[SNOMED_CT, Allergy]</td>\n",
              "      <td>2</td>\n",
              "      <td>21</td>\n",
              "    </tr>\n",
              "  </tbody>\n",
              "</table>\n",
              "</div>"
            ],
            "text/plain": [
              "                    labelCombinations  labelCount  nodeCount\n",
              "10  [SNOMED_CT, Condition, Procedure]           3        271\n",
              "0             [Encounter, Ambulatory]           2     237163\n",
              "1               [Encounter, Wellness]           2     118041\n",
              "2             [Encounter, Outpatient]           2      74710\n",
              "3             [Encounter, Urgentcare]           2      38239\n",
              "4              [Encounter, Emergency]           2      18647\n",
              "5              [Encounter, Inpatient]           2       6480\n",
              "6                   [Encounter, Home]           2       1861\n",
              "7                [Encounter, Hospice]           2        996\n",
              "8                    [Encounter, Snf]           2        828\n",
              "9                [Encounter, Virtual]           2        450\n",
              "11             [SNOMED_CT, Diagnosis]           2        137\n",
              "12                  [SNOMED_CT, Care]           2         40\n",
              "13               [SNOMED_CT, Allergy]           2         21"
            ]
          },
          "execution_count": 17,
          "metadata": {},
          "output_type": "execute_result"
        }
      ],
      "source": [
        "# add label count to label combinations\n",
        "labelCombinations['labelCount'] = labelCombinations['labelCombinations'].apply(lambda x: len(x))\n",
        "\n",
        "# reorder dataframe columns\n",
        "labelCombinations = labelCombinations[['labelCombinations', 'labelCount', 'nodeCount']]\n",
        "\n",
        "print('Multi-label combinations with counts:')\n",
        "labelCombinations.sort_values(by='labelCount', ascending=False) \n",
        " "
      ]
    },
    {
      "cell_type": "code",
      "execution_count": 18,
      "id": "39cd21ad",
      "metadata": {},
      "outputs": [
        {
          "data": {
            "image/png": "[encoded data removed]",
            "text/plain": [
              "<Figure size 1200x700 with 1 Axes>"
            ]
          },
          "metadata": {},
          "output_type": "display_data"
        }
      ],
      "source": [
        "(\n",
        "    labelCombinations\n",
        "    .set_index('labelCombinations')\n",
        "    .sort_values(by='nodeCount', ascending=True)\n",
        "    .plot(kind='barh', title='Label Combinations with Counts', log=False, legend=None, figsize=(12,7))\n",
        ")\n",
        "plt.show()"
      ]
    },
    {
      "attachments": {},
      "cell_type": "markdown",
      "id": "c52f655c",
      "metadata": {},
      "source": [
        "## Node Properties \n",
        "We will use `db.schema.nodeTypeProperties()` along with two functions below to retrieve and organize Node Property data."
      ]
    },
    {
      "cell_type": "code",
      "execution_count": 19,
      "id": "fe3ab483",
      "metadata": {},
      "outputs": [],
      "source": [
        "# function to preprocess dataframe\n",
        "def reorder_labels(labels_list) -> list:\n",
        "    \"\"\"Reorder node labels returned from db.schema.nodeTypeProperties()\n",
        "    Inputs:\n",
        "        labels_list: list of strings, the node labels to reorder\n",
        "    Returns:\n",
        "        labels_list: list of strings, the reordered node labels\n",
        "    \"\"\"\n",
        "    if 'SNOMED_CT' in labels_list:\n",
        "        labels_list.remove('SNOMED_CT')\n",
        "        labels_list.insert(0, 'SNOMED_CT')\n",
        "    if 'Encounter' in labels_list:\n",
        "        labels_list.remove('Encounter')\n",
        "        labels_list.insert(0, 'Encounter')\n",
        "    return labels_list"
      ]
    },
    {
      "cell_type": "code",
      "execution_count": 20,
      "id": "2265260c",
      "metadata": {},
      "outputs": [],
      "source": [
        "def gen_nodeLabel_properties() -> pd.DataFrame:\n",
        "  '''calls db.schema.nodeTypeProperties() to return node properties\n",
        "     combines these with node multi-labels and returns as a table\n",
        "     \n",
        "  args:\n",
        "    None\n",
        "\n",
        "  returns:\n",
        "    processed node label dataframe \n",
        "  '''\n",
        "  # query for nodeProperty schema dataframe \n",
        "  raw_labels_df = gds.run_cypher('''CALL db.schema.nodeTypeProperties()''')\n",
        "\n",
        "  # preprocess nodeLabels column\n",
        "  raw_labels_df['nodeLabels'] = raw_labels_df['nodeLabels'].apply(reorder_labels)\n",
        "\n",
        "  # split labels column into multiple columns\n",
        "  node_labels = raw_labels_df['nodeLabels'].apply(pd.Series)\n",
        "\n",
        "  # rename columns\n",
        "  node_labels.rename(columns = lambda x : 'label_' + str(x), inplace=True)\n",
        "\n",
        "  # concatenate back to original dataframe\n",
        "  node_properties_df = pd.concat([raw_labels_df, node_labels], axis=1)\n",
        "\n",
        "  # slice and reorder columns \n",
        "  node_properties_df = node_properties_df[['label_0', 'label_1', 'label_2', 'propertyName', 'propertyTypes', 'mandatory']] \n",
        "\n",
        "  # sort values \n",
        "  node_properties_df.sort_values(by=['label_0', 'label_1', 'label_2', 'propertyName'], ascending=[True, True, True, True], inplace=True)\n",
        "\n",
        "  # view dimensions \n",
        "  return node_properties_df"
      ]
    },
    {
      "cell_type": "code",
      "execution_count": 21,
      "id": "8e4f8a18",
      "metadata": {},
      "outputs": [
        {
          "data": {
            "text/plain": [
              "(96, 6)"
            ]
          },
          "execution_count": 21,
          "metadata": {},
          "output_type": "execute_result"
        }
      ],
      "source": [
        "node_properties_df = gen_nodeLabel_properties()\n",
        "node_properties_df.shape"
      ]
    },
    {
      "cell_type": "code",
      "execution_count": 27,
      "id": "f591c3d0",
      "metadata": {},
      "outputs": [
        {
          "data": {
            "text/html": [
              "<div>\n",
              "<style scoped>\n",
              "    .dataframe tbody tr th:only-of-type {\n",
              "        vertical-align: middle;\n",
              "    }\n",
              "\n",
              "    .dataframe tbody tr th {\n",
              "        vertical-align: top;\n",
              "    }\n",
              "\n",
              "    .dataframe thead th {\n",
              "        text-align: right;\n",
              "    }\n",
              "</style>\n",
              "<table border=\"1\" class=\"dataframe\">\n",
              "  <thead>\n",
              "    <tr style=\"text-align: right;\">\n",
              "      <th></th>\n",
              "      <th>label_0</th>\n",
              "      <th>label_1</th>\n",
              "      <th>label_2</th>\n",
              "      <th>propertyName</th>\n",
              "      <th>propertyTypes</th>\n",
              "      <th>mandatory</th>\n",
              "    </tr>\n",
              "  </thead>\n",
              "  <tbody>\n",
              "    <tr>\n",
              "      <th>95</th>\n",
              "      <td>CarePlan</td>\n",
              "      <td>NaN</td>\n",
              "      <td>NaN</td>\n",
              "      <td>code</td>\n",
              "      <td>[String]</td>\n",
              "      <td>True</td>\n",
              "    </tr>\n",
              "    <tr>\n",
              "      <th>89</th>\n",
              "      <td>Drug</td>\n",
              "      <td>NaN</td>\n",
              "      <td>NaN</td>\n",
              "      <td>code</td>\n",
              "      <td>[Long]</td>\n",
              "      <td>True</td>\n",
              "    </tr>\n",
              "    <tr>\n",
              "      <th>90</th>\n",
              "      <td>Drug</td>\n",
              "      <td>NaN</td>\n",
              "      <td>NaN</td>\n",
              "      <td>description</td>\n",
              "      <td>[String]</td>\n",
              "      <td>True</td>\n",
              "    </tr>\n",
              "    <tr>\n",
              "      <th>18</th>\n",
              "      <td>Encounter</td>\n",
              "      <td>Ambulatory</td>\n",
              "      <td>NaN</td>\n",
              "      <td>date</td>\n",
              "      <td>[DateTime]</td>\n",
              "      <td>True</td>\n",
              "    </tr>\n",
              "    <tr>\n",
              "      <th>19</th>\n",
              "      <td>Encounter</td>\n",
              "      <td>Ambulatory</td>\n",
              "      <td>NaN</td>\n",
              "      <td>description</td>\n",
              "      <td>[String]</td>\n",
              "      <td>True</td>\n",
              "    </tr>\n",
              "    <tr>\n",
              "      <th>21</th>\n",
              "      <td>Encounter</td>\n",
              "      <td>Ambulatory</td>\n",
              "      <td>NaN</td>\n",
              "      <td>end</td>\n",
              "      <td>[DateTime]</td>\n",
              "      <td>True</td>\n",
              "    </tr>\n",
              "    <tr>\n",
              "      <th>17</th>\n",
              "      <td>Encounter</td>\n",
              "      <td>Ambulatory</td>\n",
              "      <td>NaN</td>\n",
              "      <td>id</td>\n",
              "      <td>[String]</td>\n",
              "      <td>True</td>\n",
              "    </tr>\n",
              "    <tr>\n",
              "      <th>20</th>\n",
              "      <td>Encounter</td>\n",
              "      <td>Ambulatory</td>\n",
              "      <td>NaN</td>\n",
              "      <td>isEnd</td>\n",
              "      <td>[Boolean]</td>\n",
              "      <td>True</td>\n",
              "    </tr>\n",
              "    <tr>\n",
              "      <th>8</th>\n",
              "      <td>Encounter</td>\n",
              "      <td>Emergency</td>\n",
              "      <td>NaN</td>\n",
              "      <td>date</td>\n",
              "      <td>[DateTime]</td>\n",
              "      <td>True</td>\n",
              "    </tr>\n",
              "    <tr>\n",
              "      <th>9</th>\n",
              "      <td>Encounter</td>\n",
              "      <td>Emergency</td>\n",
              "      <td>NaN</td>\n",
              "      <td>description</td>\n",
              "      <td>[String]</td>\n",
              "      <td>True</td>\n",
              "    </tr>\n",
              "    <tr>\n",
              "      <th>11</th>\n",
              "      <td>Encounter</td>\n",
              "      <td>Emergency</td>\n",
              "      <td>NaN</td>\n",
              "      <td>end</td>\n",
              "      <td>[DateTime]</td>\n",
              "      <td>True</td>\n",
              "    </tr>\n",
              "    <tr>\n",
              "      <th>7</th>\n",
              "      <td>Encounter</td>\n",
              "      <td>Emergency</td>\n",
              "      <td>NaN</td>\n",
              "      <td>id</td>\n",
              "      <td>[String]</td>\n",
              "      <td>True</td>\n",
              "    </tr>\n",
              "    <tr>\n",
              "      <th>10</th>\n",
              "      <td>Encounter</td>\n",
              "      <td>Emergency</td>\n",
              "      <td>NaN</td>\n",
              "      <td>isEnd</td>\n",
              "      <td>[Boolean]</td>\n",
              "      <td>True</td>\n",
              "    </tr>\n",
              "    <tr>\n",
              "      <th>48</th>\n",
              "      <td>Encounter</td>\n",
              "      <td>Home</td>\n",
              "      <td>NaN</td>\n",
              "      <td>date</td>\n",
              "      <td>[DateTime]</td>\n",
              "      <td>True</td>\n",
              "    </tr>\n",
              "    <tr>\n",
              "      <th>49</th>\n",
              "      <td>Encounter</td>\n",
              "      <td>Home</td>\n",
              "      <td>NaN</td>\n",
              "      <td>description</td>\n",
              "      <td>[String]</td>\n",
              "      <td>True</td>\n",
              "    </tr>\n",
              "  </tbody>\n",
              "</table>\n",
              "</div>"
            ],
            "text/plain": [
              "      label_0     label_1 label_2 propertyName propertyTypes  mandatory\n",
              "95   CarePlan         NaN     NaN         code      [String]       True\n",
              "89       Drug         NaN     NaN         code        [Long]       True\n",
              "90       Drug         NaN     NaN  description      [String]       True\n",
              "18  Encounter  Ambulatory     NaN         date    [DateTime]       True\n",
              "19  Encounter  Ambulatory     NaN  description      [String]       True\n",
              "21  Encounter  Ambulatory     NaN          end    [DateTime]       True\n",
              "17  Encounter  Ambulatory     NaN           id      [String]       True\n",
              "20  Encounter  Ambulatory     NaN        isEnd     [Boolean]       True\n",
              "8   Encounter   Emergency     NaN         date    [DateTime]       True\n",
              "9   Encounter   Emergency     NaN  description      [String]       True\n",
              "11  Encounter   Emergency     NaN          end    [DateTime]       True\n",
              "7   Encounter   Emergency     NaN           id      [String]       True\n",
              "10  Encounter   Emergency     NaN        isEnd     [Boolean]       True\n",
              "48  Encounter        Home     NaN         date    [DateTime]       True\n",
              "49  Encounter        Home     NaN  description      [String]       True"
            ]
          },
          "execution_count": 27,
          "metadata": {},
          "output_type": "execute_result"
        }
      ],
      "source": [
        "# view first 15 rows of the dataframe\n",
        "node_properties_df.head(15)"
      ]
    },
    {
      "cell_type": "code",
      "execution_count": 27,
      "id": "a2e6c8d0",
      "metadata": {},
      "outputs": [
        {
          "name": "stdout",
          "output_type": "stream",
          "text": [
            "count of unique node properties: 26\n"
          ]
        }
      ],
      "source": [
        "print('count of unique node properties:', node_properties_df['propertyName'].nunique())"
      ]
    },
    {
      "cell_type": "code",
      "execution_count": 28,
      "id": "a099f4a1",
      "metadata": {},
      "outputs": [
        {
          "data": {
            "text/plain": [
              "True     92\n",
              "False     4\n",
              "Name: mandatory, dtype: int64"
            ]
          },
          "execution_count": 28,
          "metadata": {},
          "output_type": "execute_result"
        }
      ],
      "source": [
        "node_properties_df['mandatory'].value_counts()"
      ]
    },
    {
      "cell_type": "code",
      "execution_count": 29,
      "id": "934606a2",
      "metadata": {},
      "outputs": [
        {
          "data": {
            "text/html": [
              "<div>\n",
              "<style scoped>\n",
              "    .dataframe tbody tr th:only-of-type {\n",
              "        vertical-align: middle;\n",
              "    }\n",
              "\n",
              "    .dataframe tbody tr th {\n",
              "        vertical-align: top;\n",
              "    }\n",
              "\n",
              "    .dataframe thead th {\n",
              "        text-align: right;\n",
              "    }\n",
              "</style>\n",
              "<table border=\"1\" class=\"dataframe\">\n",
              "  <thead>\n",
              "    <tr style=\"text-align: right;\">\n",
              "      <th></th>\n",
              "      <th>label_0</th>\n",
              "      <th>label_1</th>\n",
              "      <th>label_2</th>\n",
              "      <th>propertyName</th>\n",
              "      <th>propertyTypes</th>\n",
              "      <th>mandatory</th>\n",
              "    </tr>\n",
              "  </thead>\n",
              "  <tbody>\n",
              "    <tr>\n",
              "      <th>71</th>\n",
              "      <td>Encounter</td>\n",
              "      <td>NaN</td>\n",
              "      <td>NaN</td>\n",
              "      <td>code</td>\n",
              "      <td>[Long]</td>\n",
              "      <td>False</td>\n",
              "    </tr>\n",
              "    <tr>\n",
              "      <th>64</th>\n",
              "      <td>Patient</td>\n",
              "      <td>NaN</td>\n",
              "      <td>NaN</td>\n",
              "      <td>age</td>\n",
              "      <td>[Double]</td>\n",
              "      <td>False</td>\n",
              "    </tr>\n",
              "    <tr>\n",
              "      <th>65</th>\n",
              "      <td>Patient</td>\n",
              "      <td>NaN</td>\n",
              "      <td>NaN</td>\n",
              "      <td>expenses</td>\n",
              "      <td>[Double]</td>\n",
              "      <td>False</td>\n",
              "    </tr>\n",
              "    <tr>\n",
              "      <th>66</th>\n",
              "      <td>Patient</td>\n",
              "      <td>NaN</td>\n",
              "      <td>NaN</td>\n",
              "      <td>income</td>\n",
              "      <td>[Long]</td>\n",
              "      <td>False</td>\n",
              "    </tr>\n",
              "  </tbody>\n",
              "</table>\n",
              "</div>"
            ],
            "text/plain": [
              "      label_0 label_1 label_2 propertyName propertyTypes  mandatory\n",
              "71  Encounter     NaN     NaN         code        [Long]      False\n",
              "64    Patient     NaN     NaN          age      [Double]      False\n",
              "65    Patient     NaN     NaN     expenses      [Double]      False\n",
              "66    Patient     NaN     NaN       income        [Long]      False"
            ]
          },
          "execution_count": 29,
          "metadata": {},
          "output_type": "execute_result"
        }
      ],
      "source": [
        "node_properties_df[node_properties_df['mandatory'] == False] "
      ]
    },
    {
      "attachments": {},
      "cell_type": "markdown",
      "id": "2651165c",
      "metadata": {},
      "source": [
        "# Relationships"
      ]
    },
    {
      "attachments": {},
      "cell_type": "markdown",
      "id": "22a0d863",
      "metadata": {},
      "source": [
        "## Relationship Type Counts\n",
        "For relationships we can parse the results from the output of our prior `apoc.meta.stats()` call. There are no multi-label relationships, so we do not need to handle them differently like we did with the nodes."
      ]
    },
    {
      "cell_type": "code",
      "execution_count": 30,
      "id": "ab5803fb",
      "metadata": {},
      "outputs": [
        {
          "name": "stdout",
          "output_type": "stream",
          "text": [
            "Total count of relationships with labels: 5445753\n"
          ]
        }
      ],
      "source": [
        "relationshipType_counts = pd.DataFrame(apoc_stats['relTypesCount'][0].items(), columns=['relType', 'count']).sort_values(by='count', ascending=False)\n",
        "relationshipType_counts = relationshipType_counts.set_index(['relType'])\n",
        "\n",
        "print('Total count of relationships with labels:', relationshipType_counts['count'].sum())"
      ]
    },
    {
      "cell_type": "code",
      "execution_count": 31,
      "id": "fdcee253",
      "metadata": {},
      "outputs": [
        {
          "data": {
            "text/html": [
              "<div>\n",
              "<style scoped>\n",
              "    .dataframe tbody tr th:only-of-type {\n",
              "        vertical-align: middle;\n",
              "    }\n",
              "\n",
              "    .dataframe tbody tr th {\n",
              "        vertical-align: top;\n",
              "    }\n",
              "\n",
              "    .dataframe thead th {\n",
              "        text-align: right;\n",
              "    }\n",
              "</style>\n",
              "<table border=\"1\" class=\"dataframe\">\n",
              "  <thead>\n",
              "    <tr style=\"text-align: right;\">\n",
              "      <th></th>\n",
              "      <th>count</th>\n",
              "    </tr>\n",
              "    <tr>\n",
              "      <th>relType</th>\n",
              "      <th></th>\n",
              "    </tr>\n",
              "  </thead>\n",
              "  <tbody>\n",
              "    <tr>\n",
              "      <th>HAS_ENCOUNTER</th>\n",
              "      <td>1274720</td>\n",
              "    </tr>\n",
              "    <tr>\n",
              "      <th>HAS_END</th>\n",
              "      <td>777305</td>\n",
              "    </tr>\n",
              "    <tr>\n",
              "      <th>HAS_DRUG</th>\n",
              "      <td>569538</td>\n",
              "    </tr>\n",
              "    <tr>\n",
              "      <th>HAS_DIAGNOSIS</th>\n",
              "      <td>517612</td>\n",
              "    </tr>\n",
              "    <tr>\n",
              "      <th>OF_TYPE</th>\n",
              "      <td>497415</td>\n",
              "    </tr>\n",
              "    <tr>\n",
              "      <th>HAS_ORGANIZATION</th>\n",
              "      <td>497415</td>\n",
              "    </tr>\n",
              "    <tr>\n",
              "      <th>HAS_PROVIDER</th>\n",
              "      <td>497415</td>\n",
              "    </tr>\n",
              "    <tr>\n",
              "      <th>HAS_CONDITION</th>\n",
              "      <td>455938</td>\n",
              "    </tr>\n",
              "    <tr>\n",
              "      <th>HAS_PROCEDURE</th>\n",
              "      <td>254432</td>\n",
              "    </tr>\n",
              "    <tr>\n",
              "      <th>HAS_CARE_TYPE</th>\n",
              "      <td>44191</td>\n",
              "    </tr>\n",
              "    <tr>\n",
              "      <th>CARE_PLAN_START</th>\n",
              "      <td>22293</td>\n",
              "    </tr>\n",
              "    <tr>\n",
              "      <th>CARE_PLAN_END</th>\n",
              "      <td>11410</td>\n",
              "    </tr>\n",
              "    <tr>\n",
              "      <th>HAS_ZIPCODE</th>\n",
              "      <td>8061</td>\n",
              "    </tr>\n",
              "    <tr>\n",
              "      <th>HAS_ETHNICITY</th>\n",
              "      <td>5885</td>\n",
              "    </tr>\n",
              "    <tr>\n",
              "      <th>HAS_RACE</th>\n",
              "      <td>5885</td>\n",
              "    </tr>\n",
              "    <tr>\n",
              "      <th>ALLERGY_STARTED</th>\n",
              "      <td>4062</td>\n",
              "    </tr>\n",
              "    <tr>\n",
              "      <th>BELONGS_TO</th>\n",
              "      <td>1088</td>\n",
              "    </tr>\n",
              "    <tr>\n",
              "      <th>HAS_SPECIALTY</th>\n",
              "      <td>1088</td>\n",
              "    </tr>\n",
              "  </tbody>\n",
              "</table>\n",
              "</div>"
            ],
            "text/plain": [
              "                    count\n",
              "relType                  \n",
              "HAS_ENCOUNTER     1274720\n",
              "HAS_END            777305\n",
              "HAS_DRUG           569538\n",
              "HAS_DIAGNOSIS      517612\n",
              "OF_TYPE            497415\n",
              "HAS_ORGANIZATION   497415\n",
              "HAS_PROVIDER       497415\n",
              "HAS_CONDITION      455938\n",
              "HAS_PROCEDURE      254432\n",
              "HAS_CARE_TYPE       44191\n",
              "CARE_PLAN_START     22293\n",
              "CARE_PLAN_END       11410\n",
              "HAS_ZIPCODE          8061\n",
              "HAS_ETHNICITY        5885\n",
              "HAS_RACE             5885\n",
              "ALLERGY_STARTED      4062\n",
              "BELONGS_TO           1088\n",
              "HAS_SPECIALTY        1088"
            ]
          },
          "execution_count": 31,
          "metadata": {},
          "output_type": "execute_result"
        }
      ],
      "source": [
        "relationshipType_counts"
      ]
    },
    {
      "cell_type": "code",
      "execution_count": 32,
      "id": "30bd7c65",
      "metadata": {},
      "outputs": [
        {
          "data": {
            "image/png": "[encoded data removed]",
            "text/plain": [
              "<Figure size 1200x700 with 1 Axes>"
            ]
          },
          "metadata": {},
          "output_type": "display_data"
        }
      ],
      "source": [
        "# plot node label counts with bars\n",
        "relationshipType_counts.sort_values(by='count', ascending=True).plot(kind='barh', figsize=(12,7), title='Relationship Type Counts', legend=False)\n",
        "plt.show()"
      ]
    },
    {
      "attachments": {},
      "cell_type": "markdown",
      "id": "9b961663",
      "metadata": {},
      "source": [
        "As with the Node analysis, we could also obtain this information from the following Cypher:\n",
        "```\n",
        "CALL apoc.meta.stats()\n",
        "YIELD relTypesCount\n",
        "UNWIND keys(relTypesCount) AS relationshipType\n",
        "RETURN relationshipType, relTypesCount[relationshipType] AS relationshipCount\n",
        "ORDER BY relationshipCount DESC\n",
        "```"
      ]
    },
    {
      "attachments": {},
      "cell_type": "markdown",
      "id": "66c68615",
      "metadata": {},
      "source": [
        "## Relationship Properties \n",
        "We will use `db.schema.relTypeProperties()` to generate the relationship properties data."
      ]
    },
    {
      "cell_type": "code",
      "execution_count": 32,
      "id": "0e90178d",
      "metadata": {},
      "outputs": [],
      "source": [
        "def gen_relType_properties() -> None:\n",
        "  '''generate and print table of relationship properties\n",
        "  inputs:\n",
        "    None\n",
        "\n",
        "  outputs:\n",
        "    None; prints table to notebook\n",
        "  '''\n",
        "  # query for schema dataframe \n",
        "  rel_properties_df = gds.run_cypher('''CALL db.schema.relTypeProperties()''')\n",
        "\n",
        "  # remove extra text from nodeType column\n",
        "  rel_properties_df['relType'] = rel_properties_df['relType'].str.replace('`', '')\n",
        "  rel_properties_df['relType'] = rel_properties_df['relType'].str.replace(':', '')\n",
        "\n",
        "  # view dimensions \n",
        "  print(rel_properties_df.sort_values(by='relType', ascending=True).set_index(['relType']))"
      ]
    },
    {
      "cell_type": "code",
      "execution_count": 33,
      "id": "103152cc",
      "metadata": {},
      "outputs": [
        {
          "name": "stdout",
          "output_type": "stream",
          "text": [
            "                 propertyName propertyTypes  mandatory\n",
            "relType                                               \n",
            "ALLERGY_STARTED          None          None      False\n",
            "BELONGS_TO               None          None      False\n",
            "CARE_PLAN_END            None          None      False\n",
            "CARE_PLAN_START          None          None      False\n",
            "HAS_CARE_TYPE            None          None      False\n",
            "HAS_CONDITION            None          None      False\n",
            "HAS_DIAGNOSIS            None          None      False\n",
            "HAS_DRUG                 None          None      False\n",
            "HAS_ENCOUNTER            None          None      False\n",
            "HAS_END                  None          None      False\n",
            "HAS_ETHNICITY            None          None      False\n",
            "HAS_ORGANIZATION         None          None      False\n",
            "HAS_PROCEDURE            None          None      False\n",
            "HAS_PROVIDER             None          None      False\n",
            "HAS_RACE                 None          None      False\n",
            "HAS_SPECIALTY            None          None      False\n",
            "HAS_ZIPCODE              None          None      False\n",
            "OF_TYPE                  None          None      False\n"
          ]
        }
      ],
      "source": [
        "gen_relType_properties()"
      ]
    },
    {
      "attachments": {},
      "cell_type": "markdown",
      "id": "1b113ed5",
      "metadata": {},
      "source": [
        "# Node Degree Analysis\n",
        "We will use the [Degree Centrality](https://neo4j.com/docs/graph-data-science/current/algorithms/degree-centrality/) algorithm to identify the most connected nodes in the graph. This will count outgoing nodes from each graph and help us identify the distribution of connections for each type of node in our graph. "
      ]
    },
    {
      "attachments": {},
      "cell_type": "markdown",
      "id": "1e843ebb",
      "metadata": {},
      "source": [
        "## Create Graph Projection\n",
        "For this part of the analysis we will create a projection containing all nodes and all relationships in the graph. This may not always be feasible based upon the size of the graph or the memory available on the machine, for for this graph it is a reasonable approach."
      ]
    },
    {
      "cell_type": "code",
      "execution_count": 34,
      "id": "b3fca1e8",
      "metadata": {},
      "outputs": [
        {
          "data": {
            "application/vnd.jupyter.widget-view+json": {
              "model_id": "5ee0e61dca2344138fdc0dc63261fecb",
              "version_major": 2,
              "version_minor": 0
            },
            "text/plain": [
              "Loading:   0%|          | 0/100 [00:00<?, ?%/s]"
            ]
          },
          "metadata": {},
          "output_type": "display_data"
        }
      ],
      "source": [
        "# create graph projection with all nodes and all relationships\n",
        "g, _ = gds.graph.project(graph_name='patient_journey_graph', \n",
        "                         node_spec='*',\n",
        "                         relationship_spec='*')\n"
      ]
    },
    {
      "attachments": {},
      "cell_type": "markdown",
      "id": "e5da909e",
      "metadata": {},
      "source": [
        "## Inspect the Graph Object\n",
        "The Neo4j GDS Graph Object (created by projections) has several built-in methods that we can use to understand the contents of the projection."
      ]
    },
    {
      "cell_type": "code",
      "execution_count": 36,
      "id": "b259e983",
      "metadata": {},
      "outputs": [
        {
          "name": "stdout",
          "output_type": "stream",
          "text": [
            "Graph projection node count: 1307205\n",
            "Graph projection node labels ['__ALL__']\n",
            "Graph projection relationship count: 5445753\n",
            "Graph projection relationship types: ['__ALL__']\n"
          ]
        }
      ],
      "source": [
        "print('Graph projection node count:', g.node_count())\n",
        "print('Graph projection node labels', g.node_labels())\n",
        "print('Graph projection relationship count:', g.relationship_count())\n",
        "print('Graph projection relationship types:', g.relationship_types())\n"
      ]
    },
    {
      "attachments": {},
      "cell_type": "markdown",
      "id": "d88fbdf9",
      "metadata": {},
      "source": [
        "### Graph Density\n",
        "The `.density()` method returns the graph density. This is calculated as the actual number of edges in the graph divided by the possible maximum number of edges in the graph. It is a measure of how connected the nodes are to each other, across the entire graph, or put another way how dense or sparse the graph is. "
      ]
    },
    {
      "cell_type": "code",
      "execution_count": 40,
      "id": "ff0aafcc",
      "metadata": {},
      "outputs": [
        {
          "data": {
            "text/plain": [
              "3.1869e-06"
            ]
          },
          "execution_count": 40,
          "metadata": {},
          "output_type": "execute_result"
        }
      ],
      "source": [
        "# graph density \n",
        "density = g.density()\n",
        "round(density, 10)"
      ]
    },
    {
      "attachments": {},
      "cell_type": "markdown",
      "id": "3eb4bb83",
      "metadata": {},
      "source": [
        "### Out-Degree Summary Statistics\n",
        "The graph object also has the `.degree_distribution()` method which returns a summary of the node out-degrees. The out degree is also the default for the GDS Degree Centrality Algorithm. We will run it here in the interim before leveraging the GDS algorithm."
      ]
    },
    {
      "cell_type": "code",
      "execution_count": 35,
      "id": "c9f4dd68",
      "metadata": {},
      "outputs": [
        {
          "name": "stdout",
          "output_type": "stream",
          "text": [
            "Degree Distribution of Full Graph\n"
          ]
        },
        {
          "data": {
            "text/html": [
              "<div>\n",
              "<style scoped>\n",
              "    .dataframe tbody tr th:only-of-type {\n",
              "        vertical-align: middle;\n",
              "    }\n",
              "\n",
              "    .dataframe tbody tr th {\n",
              "        vertical-align: top;\n",
              "    }\n",
              "\n",
              "    .dataframe thead th {\n",
              "        text-align: right;\n",
              "    }\n",
              "</style>\n",
              "<table border=\"1\" class=\"dataframe\">\n",
              "  <thead>\n",
              "    <tr style=\"text-align: right;\">\n",
              "      <th></th>\n",
              "      <th>degree</th>\n",
              "    </tr>\n",
              "  </thead>\n",
              "  <tbody>\n",
              "    <tr>\n",
              "      <th>min</th>\n",
              "      <td>0.000</td>\n",
              "    </tr>\n",
              "    <tr>\n",
              "      <th>mean</th>\n",
              "      <td>4.166</td>\n",
              "    </tr>\n",
              "    <tr>\n",
              "      <th>p50</th>\n",
              "      <td>1.000</td>\n",
              "    </tr>\n",
              "    <tr>\n",
              "      <th>p75</th>\n",
              "      <td>6.000</td>\n",
              "    </tr>\n",
              "    <tr>\n",
              "      <th>p90</th>\n",
              "      <td>11.000</td>\n",
              "    </tr>\n",
              "    <tr>\n",
              "      <th>p95</th>\n",
              "      <td>15.000</td>\n",
              "    </tr>\n",
              "    <tr>\n",
              "      <th>p99</th>\n",
              "      <td>23.000</td>\n",
              "    </tr>\n",
              "    <tr>\n",
              "      <th>max</th>\n",
              "      <td>9446.000</td>\n",
              "    </tr>\n",
              "  </tbody>\n",
              "</table>\n",
              "</div>"
            ],
            "text/plain": [
              "        degree\n",
              "min      0.000\n",
              "mean     4.166\n",
              "p50      1.000\n",
              "p75      6.000\n",
              "p90     11.000\n",
              "p95     15.000\n",
              "p99     23.000\n",
              "max   9446.000"
            ]
          },
          "execution_count": 35,
          "metadata": {},
          "output_type": "execute_result"
        }
      ],
      "source": [
        "index_order = ['min', 'mean', 'p50', 'p75', 'p90', 'p95', 'p99', 'max']\n",
        "df = pd.DataFrame(g.degree_distribution(), columns=['degree'])\n",
        "\n",
        "print('Degree Distribution of Full Graph')\n",
        "df.loc[index_order].round(3)"
      ]
    },
    {
      "attachments": {},
      "cell_type": "markdown",
      "id": "5757f345",
      "metadata": {},
      "source": [
        "## Create Degree Centrality Node Properties\n",
        "Here we will run the GDS Degree Centrality algorithm to create new in-degree and out-degree properties for each node in the graph. These node degree properties will help us further analyze the graph, understand its structure, and identify potential issues. "
      ]
    },
    {
      "attachments": {},
      "cell_type": "markdown",
      "id": "8cd8e6fe",
      "metadata": {},
      "source": [
        "### Node Out-Degree"
      ]
    },
    {
      "cell_type": "code",
      "execution_count": 36,
      "id": "4c7b77d8",
      "metadata": {},
      "outputs": [],
      "source": [
        "_ = gds.degree.write(G=g, \n",
        "                     orientation='NATURAL',\n",
        "                     writeProperty='degree_out') "
      ]
    },
    {
      "cell_type": "code",
      "execution_count": 37,
      "id": "52ae9e57",
      "metadata": {},
      "outputs": [],
      "source": [
        "# confirm the proper number of properties are written \n",
        "assert pd.DataFrame(_)[0]['nodePropertiesWritten'] == g.node_count()"
      ]
    },
    {
      "attachments": {},
      "cell_type": "markdown",
      "id": "3a744e42",
      "metadata": {},
      "source": [
        "### Node In-Degree"
      ]
    },
    {
      "cell_type": "code",
      "execution_count": 38,
      "id": "e5cf72a0",
      "metadata": {},
      "outputs": [],
      "source": [
        "_ = gds.degree.write(G=g, \n",
        "                     orientation='REVERSE',\n",
        "                     writeProperty='degree_in') "
      ]
    },
    {
      "cell_type": "code",
      "execution_count": 39,
      "id": "2323ddc6",
      "metadata": {},
      "outputs": [],
      "source": [
        "# confirm the proper number of properties are written \n",
        "assert pd.DataFrame(_)[0]['nodePropertiesWritten'] == g.node_count()"
      ]
    },
    {
      "attachments": {},
      "cell_type": "markdown",
      "id": "c124e744",
      "metadata": {},
      "source": [
        "## Analyze Node Degrees"
      ]
    },
    {
      "attachments": {},
      "cell_type": "markdown",
      "id": "f877122e",
      "metadata": {},
      "source": [
        "## Create Node/Label Degree DataFrame "
      ]
    },
    {
      "attachments": {},
      "cell_type": "markdown",
      "id": "17a21068",
      "metadata": {},
      "source": [
        "First we will create a dataframe of the node id, labels, and degree statistics. This will allow us to easily filter and sort the nodes based on the degree statistics and better understand important nodes within our graph."
      ]
    },
    {
      "cell_type": "code",
      "execution_count": 40,
      "id": "c47c2c61",
      "metadata": {},
      "outputs": [
        {
          "data": {
            "text/plain": [
              "(1307205, 4)"
            ]
          },
          "execution_count": 40,
          "metadata": {},
          "output_type": "execute_result"
        }
      ],
      "source": [
        "node_degree_centrality = gds.run_cypher(\"\"\"\n",
        "MATCH (n)\n",
        "RETURN\n",
        "    id(n) AS id,\n",
        "    labels(n) AS labels,\n",
        "    n.degree_out AS degree_out,\n",
        "    n.degree_in AS degree_in\n",
        "ORDER BY labels ASC, degree_out DESC\n",
        "\"\"\")\n",
        "                                        \n",
        "node_degree_centrality.shape"
      ]
    },
    {
      "cell_type": "code",
      "execution_count": 41,
      "id": "4025f3e7",
      "metadata": {},
      "outputs": [],
      "source": [
        "# lengths = node_degree_centrality['labels'].apply(lambda x: len(x))\n",
        "# node_degree_centrality['label_count'] = lengths \n",
        "\n",
        "node_degree_centrality['label_count'] = node_degree_centrality['labels'].apply(lambda x: len(x))"
      ]
    },
    {
      "cell_type": "code",
      "execution_count": 42,
      "id": "eb284412",
      "metadata": {},
      "outputs": [],
      "source": [
        "# split labels column into multiple columns\n",
        "labels_df = node_degree_centrality['labels'].apply(pd.Series)\n",
        "\n",
        "# rename columns\n",
        "labels_df = labels_df.rename(columns = lambda x : 'label_' + str(x))\n",
        "\n",
        "# concatenate back to original dataframe\n",
        "node_degree_centrality = pd.concat([node_degree_centrality, labels_df], axis=1)"
      ]
    },
    {
      "attachments": {},
      "cell_type": "markdown",
      "id": "b40f5524",
      "metadata": {},
      "source": [
        "## Analyze Node Degrees"
      ]
    },
    {
      "attachments": {},
      "cell_type": "markdown",
      "id": "7f278fea",
      "metadata": {},
      "source": [
        "### Overall Node Degree Distributions"
      ]
    },
    {
      "cell_type": "code",
      "execution_count": 43,
      "id": "4f8e5498",
      "metadata": {},
      "outputs": [
        {
          "data": {
            "text/html": [
              "<div>\n",
              "<style scoped>\n",
              "    .dataframe tbody tr th:only-of-type {\n",
              "        vertical-align: middle;\n",
              "    }\n",
              "\n",
              "    .dataframe tbody tr th {\n",
              "        vertical-align: top;\n",
              "    }\n",
              "\n",
              "    .dataframe thead th {\n",
              "        text-align: right;\n",
              "    }\n",
              "</style>\n",
              "<table border=\"1\" class=\"dataframe\">\n",
              "  <thead>\n",
              "    <tr style=\"text-align: right;\">\n",
              "      <th></th>\n",
              "      <th>degree_out</th>\n",
              "      <th>degree_in</th>\n",
              "    </tr>\n",
              "  </thead>\n",
              "  <tbody>\n",
              "    <tr>\n",
              "      <th>count</th>\n",
              "      <td>1307205.0</td>\n",
              "      <td>1307205.0</td>\n",
              "    </tr>\n",
              "    <tr>\n",
              "      <th>mean</th>\n",
              "      <td>4.0</td>\n",
              "      <td>4.0</td>\n",
              "    </tr>\n",
              "    <tr>\n",
              "      <th>std</th>\n",
              "      <td>35.0</td>\n",
              "      <td>394.0</td>\n",
              "    </tr>\n",
              "    <tr>\n",
              "      <th>min</th>\n",
              "      <td>0.0</td>\n",
              "      <td>0.0</td>\n",
              "    </tr>\n",
              "    <tr>\n",
              "      <th>25%</th>\n",
              "      <td>0.0</td>\n",
              "      <td>1.0</td>\n",
              "    </tr>\n",
              "    <tr>\n",
              "      <th>50%</th>\n",
              "      <td>1.0</td>\n",
              "      <td>2.0</td>\n",
              "    </tr>\n",
              "    <tr>\n",
              "      <th>75%</th>\n",
              "      <td>6.0</td>\n",
              "      <td>2.0</td>\n",
              "    </tr>\n",
              "    <tr>\n",
              "      <th>90%</th>\n",
              "      <td>11.0</td>\n",
              "      <td>2.0</td>\n",
              "    </tr>\n",
              "    <tr>\n",
              "      <th>95%</th>\n",
              "      <td>15.0</td>\n",
              "      <td>2.0</td>\n",
              "    </tr>\n",
              "    <tr>\n",
              "      <th>99%</th>\n",
              "      <td>23.0</td>\n",
              "      <td>2.0</td>\n",
              "    </tr>\n",
              "    <tr>\n",
              "      <th>99.9%</th>\n",
              "      <td>183.0</td>\n",
              "      <td>127.0</td>\n",
              "    </tr>\n",
              "    <tr>\n",
              "      <th>max</th>\n",
              "      <td>9446.0</td>\n",
              "      <td>274366.0</td>\n",
              "    </tr>\n",
              "  </tbody>\n",
              "</table>\n",
              "</div>"
            ],
            "text/plain": [
              "       degree_out  degree_in\n",
              "count   1307205.0  1307205.0\n",
              "mean          4.0        4.0\n",
              "std          35.0      394.0\n",
              "min           0.0        0.0\n",
              "25%           0.0        1.0\n",
              "50%           1.0        2.0\n",
              "75%           6.0        2.0\n",
              "90%          11.0        2.0\n",
              "95%          15.0        2.0\n",
              "99%          23.0        2.0\n",
              "99.9%       183.0      127.0\n",
              "max        9446.0   274366.0"
            ]
          },
          "execution_count": 43,
          "metadata": {},
          "output_type": "execute_result"
        }
      ],
      "source": [
        "totalNode_degree_distrib = node_degree_centrality[['degree_out', 'degree_in']].describe(percentiles=[0.25, 0.5, 0.75, 0.9, 0.95, 0.99, 0.999]).round()  \n",
        "totalNode_degree_distrib"
      ]
    },
    {
      "attachments": {},
      "cell_type": "markdown",
      "id": "096676b6",
      "metadata": {},
      "source": [
        "### Overall Nodes with Highest Out-Degree"
      ]
    },
    {
      "cell_type": "code",
      "execution_count": 44,
      "id": "61910df9",
      "metadata": {},
      "outputs": [
        {
          "data": {
            "text/html": [
              "<div>\n",
              "<style scoped>\n",
              "    .dataframe tbody tr th:only-of-type {\n",
              "        vertical-align: middle;\n",
              "    }\n",
              "\n",
              "    .dataframe tbody tr th {\n",
              "        vertical-align: top;\n",
              "    }\n",
              "\n",
              "    .dataframe thead th {\n",
              "        text-align: right;\n",
              "    }\n",
              "</style>\n",
              "<table border=\"1\" class=\"dataframe\">\n",
              "  <thead>\n",
              "    <tr style=\"text-align: right;\">\n",
              "      <th></th>\n",
              "      <th>id</th>\n",
              "      <th>labels</th>\n",
              "      <th>degree_out</th>\n",
              "      <th>degree_in</th>\n",
              "      <th>label_count</th>\n",
              "      <th>label_0</th>\n",
              "      <th>label_1</th>\n",
              "      <th>label_2</th>\n",
              "    </tr>\n",
              "  </thead>\n",
              "  <tbody>\n",
              "    <tr>\n",
              "      <th>1298429</th>\n",
              "      <td>6126</td>\n",
              "      <td>[Patient]</td>\n",
              "      <td>9446.0</td>\n",
              "      <td>0.0</td>\n",
              "      <td>1</td>\n",
              "      <td>Patient</td>\n",
              "      <td>NaN</td>\n",
              "      <td>NaN</td>\n",
              "    </tr>\n",
              "    <tr>\n",
              "      <th>1298430</th>\n",
              "      <td>5197</td>\n",
              "      <td>[Patient]</td>\n",
              "      <td>8439.0</td>\n",
              "      <td>0.0</td>\n",
              "      <td>1</td>\n",
              "      <td>Patient</td>\n",
              "      <td>NaN</td>\n",
              "      <td>NaN</td>\n",
              "    </tr>\n",
              "    <tr>\n",
              "      <th>1298431</th>\n",
              "      <td>5090</td>\n",
              "      <td>[Patient]</td>\n",
              "      <td>7040.0</td>\n",
              "      <td>0.0</td>\n",
              "      <td>1</td>\n",
              "      <td>Patient</td>\n",
              "      <td>NaN</td>\n",
              "      <td>NaN</td>\n",
              "    </tr>\n",
              "    <tr>\n",
              "      <th>1298432</th>\n",
              "      <td>3892</td>\n",
              "      <td>[Patient]</td>\n",
              "      <td>6451.0</td>\n",
              "      <td>0.0</td>\n",
              "      <td>1</td>\n",
              "      <td>Patient</td>\n",
              "      <td>NaN</td>\n",
              "      <td>NaN</td>\n",
              "    </tr>\n",
              "    <tr>\n",
              "      <th>1298433</th>\n",
              "      <td>1511</td>\n",
              "      <td>[Patient]</td>\n",
              "      <td>6126.0</td>\n",
              "      <td>0.0</td>\n",
              "      <td>1</td>\n",
              "      <td>Patient</td>\n",
              "      <td>NaN</td>\n",
              "      <td>NaN</td>\n",
              "    </tr>\n",
              "    <tr>\n",
              "      <th>1298434</th>\n",
              "      <td>4016</td>\n",
              "      <td>[Patient]</td>\n",
              "      <td>5809.0</td>\n",
              "      <td>0.0</td>\n",
              "      <td>1</td>\n",
              "      <td>Patient</td>\n",
              "      <td>NaN</td>\n",
              "      <td>NaN</td>\n",
              "    </tr>\n",
              "    <tr>\n",
              "      <th>1298435</th>\n",
              "      <td>2573</td>\n",
              "      <td>[Patient]</td>\n",
              "      <td>4788.0</td>\n",
              "      <td>0.0</td>\n",
              "      <td>1</td>\n",
              "      <td>Patient</td>\n",
              "      <td>NaN</td>\n",
              "      <td>NaN</td>\n",
              "    </tr>\n",
              "    <tr>\n",
              "      <th>1298436</th>\n",
              "      <td>1772</td>\n",
              "      <td>[Patient]</td>\n",
              "      <td>4723.0</td>\n",
              "      <td>0.0</td>\n",
              "      <td>1</td>\n",
              "      <td>Patient</td>\n",
              "      <td>NaN</td>\n",
              "      <td>NaN</td>\n",
              "    </tr>\n",
              "    <tr>\n",
              "      <th>1298437</th>\n",
              "      <td>2065</td>\n",
              "      <td>[Patient]</td>\n",
              "      <td>4382.0</td>\n",
              "      <td>0.0</td>\n",
              "      <td>1</td>\n",
              "      <td>Patient</td>\n",
              "      <td>NaN</td>\n",
              "      <td>NaN</td>\n",
              "    </tr>\n",
              "    <tr>\n",
              "      <th>1298438</th>\n",
              "      <td>3467</td>\n",
              "      <td>[Patient]</td>\n",
              "      <td>4197.0</td>\n",
              "      <td>0.0</td>\n",
              "      <td>1</td>\n",
              "      <td>Patient</td>\n",
              "      <td>NaN</td>\n",
              "      <td>NaN</td>\n",
              "    </tr>\n",
              "  </tbody>\n",
              "</table>\n",
              "</div>"
            ],
            "text/plain": [
              "           id     labels  degree_out  degree_in  label_count  label_0 label_1  \\\n",
              "1298429  6126  [Patient]      9446.0        0.0            1  Patient     NaN   \n",
              "1298430  5197  [Patient]      8439.0        0.0            1  Patient     NaN   \n",
              "1298431  5090  [Patient]      7040.0        0.0            1  Patient     NaN   \n",
              "1298432  3892  [Patient]      6451.0        0.0            1  Patient     NaN   \n",
              "1298433  1511  [Patient]      6126.0        0.0            1  Patient     NaN   \n",
              "1298434  4016  [Patient]      5809.0        0.0            1  Patient     NaN   \n",
              "1298435  2573  [Patient]      4788.0        0.0            1  Patient     NaN   \n",
              "1298436  1772  [Patient]      4723.0        0.0            1  Patient     NaN   \n",
              "1298437  2065  [Patient]      4382.0        0.0            1  Patient     NaN   \n",
              "1298438  3467  [Patient]      4197.0        0.0            1  Patient     NaN   \n",
              "\n",
              "        label_2  \n",
              "1298429     NaN  \n",
              "1298430     NaN  \n",
              "1298431     NaN  \n",
              "1298432     NaN  \n",
              "1298433     NaN  \n",
              "1298434     NaN  \n",
              "1298435     NaN  \n",
              "1298436     NaN  \n",
              "1298437     NaN  \n",
              "1298438     NaN  "
            ]
          },
          "execution_count": 44,
          "metadata": {},
          "output_type": "execute_result"
        }
      ],
      "source": [
        "node_degree_centrality.sort_values(by='degree_out', ascending=False).head(10)   "
      ]
    },
    {
      "cell_type": "markdown",
      "id": "03557264",
      "metadata": {},
      "source": [
        "### Overall Nodes with Highest In-Degree"
      ]
    },
    {
      "cell_type": "code",
      "execution_count": 45,
      "id": "aa231fb8",
      "metadata": {},
      "outputs": [
        {
          "data": {
            "text/html": [
              "<div>\n",
              "<style scoped>\n",
              "    .dataframe tbody tr th:only-of-type {\n",
              "        vertical-align: middle;\n",
              "    }\n",
              "\n",
              "    .dataframe tbody tr th {\n",
              "        vertical-align: top;\n",
              "    }\n",
              "\n",
              "    .dataframe thead th {\n",
              "        text-align: right;\n",
              "    }\n",
              "</style>\n",
              "<table border=\"1\" class=\"dataframe\">\n",
              "  <thead>\n",
              "    <tr style=\"text-align: right;\">\n",
              "      <th></th>\n",
              "      <th>id</th>\n",
              "      <th>labels</th>\n",
              "      <th>degree_out</th>\n",
              "      <th>degree_in</th>\n",
              "      <th>label_count</th>\n",
              "      <th>label_0</th>\n",
              "      <th>label_1</th>\n",
              "      <th>label_2</th>\n",
              "    </tr>\n",
              "  </thead>\n",
              "  <tbody>\n",
              "    <tr>\n",
              "      <th>1305552</th>\n",
              "      <td>1681107</td>\n",
              "      <td>[SNOMED_CT, Condition, Procedure]</td>\n",
              "      <td>0.0</td>\n",
              "      <td>274366.0</td>\n",
              "      <td>3</td>\n",
              "      <td>SNOMED_CT</td>\n",
              "      <td>Condition</td>\n",
              "      <td>Procedure</td>\n",
              "    </tr>\n",
              "    <tr>\n",
              "      <th>1305419</th>\n",
              "      <td>6239</td>\n",
              "      <td>[SNOMED_CT]</td>\n",
              "      <td>0.0</td>\n",
              "      <td>160810.0</td>\n",
              "      <td>1</td>\n",
              "      <td>SNOMED_CT</td>\n",
              "      <td>NaN</td>\n",
              "      <td>NaN</td>\n",
              "    </tr>\n",
              "    <tr>\n",
              "      <th>22493</th>\n",
              "      <td>507921</td>\n",
              "      <td>[Drug]</td>\n",
              "      <td>0.0</td>\n",
              "      <td>102295.0</td>\n",
              "      <td>1</td>\n",
              "      <td>Drug</td>\n",
              "      <td>NaN</td>\n",
              "      <td>NaN</td>\n",
              "    </tr>\n",
              "    <tr>\n",
              "      <th>1305810</th>\n",
              "      <td>507922</td>\n",
              "      <td>[SNOMED_CT, Diagnosis]</td>\n",
              "      <td>0.0</td>\n",
              "      <td>102295.0</td>\n",
              "      <td>2</td>\n",
              "      <td>SNOMED_CT</td>\n",
              "      <td>Diagnosis</td>\n",
              "      <td>NaN</td>\n",
              "    </tr>\n",
              "    <tr>\n",
              "      <th>1305555</th>\n",
              "      <td>1681114</td>\n",
              "      <td>[SNOMED_CT, Condition, Procedure]</td>\n",
              "      <td>0.0</td>\n",
              "      <td>99601.0</td>\n",
              "      <td>3</td>\n",
              "      <td>SNOMED_CT</td>\n",
              "      <td>Condition</td>\n",
              "      <td>Procedure</td>\n",
              "    </tr>\n",
              "    <tr>\n",
              "      <th>1305415</th>\n",
              "      <td>6214</td>\n",
              "      <td>[SNOMED_CT]</td>\n",
              "      <td>0.0</td>\n",
              "      <td>96837.0</td>\n",
              "      <td>1</td>\n",
              "      <td>SNOMED_CT</td>\n",
              "      <td>NaN</td>\n",
              "      <td>NaN</td>\n",
              "    </tr>\n",
              "    <tr>\n",
              "      <th>22399</th>\n",
              "      <td>506848</td>\n",
              "      <td>[Drug]</td>\n",
              "      <td>0.0</td>\n",
              "      <td>88255.0</td>\n",
              "      <td>1</td>\n",
              "      <td>Drug</td>\n",
              "      <td>NaN</td>\n",
              "      <td>NaN</td>\n",
              "    </tr>\n",
              "    <tr>\n",
              "      <th>1305903</th>\n",
              "      <td>506849</td>\n",
              "      <td>[SNOMED_CT, Diagnosis]</td>\n",
              "      <td>0.0</td>\n",
              "      <td>88236.0</td>\n",
              "      <td>2</td>\n",
              "      <td>SNOMED_CT</td>\n",
              "      <td>Diagnosis</td>\n",
              "      <td>NaN</td>\n",
              "    </tr>\n",
              "    <tr>\n",
              "      <th>22443</th>\n",
              "      <td>506928</td>\n",
              "      <td>[Drug]</td>\n",
              "      <td>0.0</td>\n",
              "      <td>75114.0</td>\n",
              "      <td>1</td>\n",
              "      <td>Drug</td>\n",
              "      <td>NaN</td>\n",
              "      <td>NaN</td>\n",
              "    </tr>\n",
              "    <tr>\n",
              "      <th>1305795</th>\n",
              "      <td>506929</td>\n",
              "      <td>[SNOMED_CT, Diagnosis]</td>\n",
              "      <td>0.0</td>\n",
              "      <td>75114.0</td>\n",
              "      <td>2</td>\n",
              "      <td>SNOMED_CT</td>\n",
              "      <td>Diagnosis</td>\n",
              "      <td>NaN</td>\n",
              "    </tr>\n",
              "  </tbody>\n",
              "</table>\n",
              "</div>"
            ],
            "text/plain": [
              "              id                             labels  degree_out  degree_in  \\\n",
              "1305552  1681107  [SNOMED_CT, Condition, Procedure]         0.0   274366.0   \n",
              "1305419     6239                        [SNOMED_CT]         0.0   160810.0   \n",
              "22493     507921                             [Drug]         0.0   102295.0   \n",
              "1305810   507922             [SNOMED_CT, Diagnosis]         0.0   102295.0   \n",
              "1305555  1681114  [SNOMED_CT, Condition, Procedure]         0.0    99601.0   \n",
              "1305415     6214                        [SNOMED_CT]         0.0    96837.0   \n",
              "22399     506848                             [Drug]         0.0    88255.0   \n",
              "1305903   506849             [SNOMED_CT, Diagnosis]         0.0    88236.0   \n",
              "22443     506928                             [Drug]         0.0    75114.0   \n",
              "1305795   506929             [SNOMED_CT, Diagnosis]         0.0    75114.0   \n",
              "\n",
              "         label_count    label_0    label_1    label_2  \n",
              "1305552            3  SNOMED_CT  Condition  Procedure  \n",
              "1305419            1  SNOMED_CT        NaN        NaN  \n",
              "22493              1       Drug        NaN        NaN  \n",
              "1305810            2  SNOMED_CT  Diagnosis        NaN  \n",
              "1305555            3  SNOMED_CT  Condition  Procedure  \n",
              "1305415            1  SNOMED_CT        NaN        NaN  \n",
              "22399              1       Drug        NaN        NaN  \n",
              "1305903            2  SNOMED_CT  Diagnosis        NaN  \n",
              "22443              1       Drug        NaN        NaN  \n",
              "1305795            2  SNOMED_CT  Diagnosis        NaN  "
            ]
          },
          "execution_count": 45,
          "metadata": {},
          "output_type": "execute_result"
        }
      ],
      "source": [
        "node_degree_centrality.sort_values(by='degree_in', ascending=False).head(10)   "
      ]
    },
    {
      "attachments": {},
      "cell_type": "markdown",
      "id": "c36fe394",
      "metadata": {},
      "source": [
        "# Node-Relationship-Node Patterns\n",
        "As part of exploring nodes and relationships, we will identify node-relationship-node patterns in our graph to understand what types of relationships exist and how they connect various nodes. "
      ]
    },
    {
      "attachments": {},
      "cell_type": "markdown",
      "id": "d8e9237c",
      "metadata": {},
      "source": [
        "## Query for Relationship Pattern by Count in the Data"
      ]
    },
    {
      "cell_type": "code",
      "execution_count": 46,
      "id": "7d134a34",
      "metadata": {},
      "outputs": [
        {
          "data": {
            "text/plain": [
              "(117, 4)"
            ]
          },
          "execution_count": 46,
          "metadata": {},
          "output_type": "execute_result"
        }
      ],
      "source": [
        "node_rel_patterns = gds.run_cypher(\"\"\"\n",
        "MATCH (n)-[r]->(m)\n",
        "WHERE SIZE(labels(n)) > 0 AND SIZE(labels(m)) > 0\n",
        "RETURN\n",
        "    labels(n) as source_labels, \n",
        "    type(r) as relationships, \n",
        "    labels(m) as target_labels, \n",
        "    count(*) AS count\n",
        "ORDER BY source_labels DESC, relationships ASC, target_labels ASC\n",
        "\"\"\")\n",
        "node_rel_patterns.shape"
      ]
    },
    {
      "cell_type": "code",
      "execution_count": 49,
      "id": "712728c1",
      "metadata": {},
      "outputs": [
        {
          "data": {
            "text/html": [
              "<div>\n",
              "<style scoped>\n",
              "    .dataframe tbody tr th:only-of-type {\n",
              "        vertical-align: middle;\n",
              "    }\n",
              "\n",
              "    .dataframe tbody tr th {\n",
              "        vertical-align: top;\n",
              "    }\n",
              "\n",
              "    .dataframe thead th {\n",
              "        text-align: right;\n",
              "    }\n",
              "</style>\n",
              "<table border=\"1\" class=\"dataframe\">\n",
              "  <thead>\n",
              "    <tr style=\"text-align: right;\">\n",
              "      <th></th>\n",
              "      <th>source_labels</th>\n",
              "      <th>relationships</th>\n",
              "      <th>target_labels</th>\n",
              "      <th>count</th>\n",
              "    </tr>\n",
              "  </thead>\n",
              "  <tbody>\n",
              "    <tr>\n",
              "      <th>0</th>\n",
              "      <td>[Provider]</td>\n",
              "      <td>BELONGS_TO</td>\n",
              "      <td>[Organization]</td>\n",
              "      <td>1088</td>\n",
              "    </tr>\n",
              "    <tr>\n",
              "      <th>1</th>\n",
              "      <td>[Provider]</td>\n",
              "      <td>HAS_SPECIALTY</td>\n",
              "      <td>[Specialty]</td>\n",
              "      <td>1088</td>\n",
              "    </tr>\n",
              "    <tr>\n",
              "      <th>2</th>\n",
              "      <td>[Provider]</td>\n",
              "      <td>HAS_ZIPCODE</td>\n",
              "      <td>[ZipCode]</td>\n",
              "      <td>1088</td>\n",
              "    </tr>\n",
              "    <tr>\n",
              "      <th>3</th>\n",
              "      <td>[Patient]</td>\n",
              "      <td>HAS_ENCOUNTER</td>\n",
              "      <td>[Encounter]</td>\n",
              "      <td>777305</td>\n",
              "    </tr>\n",
              "    <tr>\n",
              "      <th>4</th>\n",
              "      <td>[Patient]</td>\n",
              "      <td>HAS_ENCOUNTER</td>\n",
              "      <td>[Encounter, Ambulatory]</td>\n",
              "      <td>237163</td>\n",
              "    </tr>\n",
              "    <tr>\n",
              "      <th>5</th>\n",
              "      <td>[Patient]</td>\n",
              "      <td>HAS_ENCOUNTER</td>\n",
              "      <td>[Encounter, Emergency]</td>\n",
              "      <td>18647</td>\n",
              "    </tr>\n",
              "    <tr>\n",
              "      <th>6</th>\n",
              "      <td>[Patient]</td>\n",
              "      <td>HAS_ENCOUNTER</td>\n",
              "      <td>[Encounter, Home]</td>\n",
              "      <td>1861</td>\n",
              "    </tr>\n",
              "    <tr>\n",
              "      <th>7</th>\n",
              "      <td>[Patient]</td>\n",
              "      <td>HAS_ENCOUNTER</td>\n",
              "      <td>[Encounter, Hospice]</td>\n",
              "      <td>996</td>\n",
              "    </tr>\n",
              "    <tr>\n",
              "      <th>8</th>\n",
              "      <td>[Patient]</td>\n",
              "      <td>HAS_ENCOUNTER</td>\n",
              "      <td>[Encounter, Inpatient]</td>\n",
              "      <td>6480</td>\n",
              "    </tr>\n",
              "    <tr>\n",
              "      <th>9</th>\n",
              "      <td>[Patient]</td>\n",
              "      <td>HAS_ENCOUNTER</td>\n",
              "      <td>[Encounter, Outpatient]</td>\n",
              "      <td>74710</td>\n",
              "    </tr>\n",
              "    <tr>\n",
              "      <th>10</th>\n",
              "      <td>[Patient]</td>\n",
              "      <td>HAS_ENCOUNTER</td>\n",
              "      <td>[Encounter, Snf]</td>\n",
              "      <td>828</td>\n",
              "    </tr>\n",
              "    <tr>\n",
              "      <th>11</th>\n",
              "      <td>[Patient]</td>\n",
              "      <td>HAS_ENCOUNTER</td>\n",
              "      <td>[Encounter, Urgentcare]</td>\n",
              "      <td>38239</td>\n",
              "    </tr>\n",
              "    <tr>\n",
              "      <th>12</th>\n",
              "      <td>[Patient]</td>\n",
              "      <td>HAS_ENCOUNTER</td>\n",
              "      <td>[Encounter, Virtual]</td>\n",
              "      <td>450</td>\n",
              "    </tr>\n",
              "    <tr>\n",
              "      <th>13</th>\n",
              "      <td>[Patient]</td>\n",
              "      <td>HAS_ENCOUNTER</td>\n",
              "      <td>[Encounter, Wellness]</td>\n",
              "      <td>118041</td>\n",
              "    </tr>\n",
              "    <tr>\n",
              "      <th>14</th>\n",
              "      <td>[Patient]</td>\n",
              "      <td>HAS_ETHNICITY</td>\n",
              "      <td>[Ethnicity]</td>\n",
              "      <td>5885</td>\n",
              "    </tr>\n",
              "    <tr>\n",
              "      <th>15</th>\n",
              "      <td>[Patient]</td>\n",
              "      <td>HAS_RACE</td>\n",
              "      <td>[Race]</td>\n",
              "      <td>5885</td>\n",
              "    </tr>\n",
              "    <tr>\n",
              "      <th>16</th>\n",
              "      <td>[Patient]</td>\n",
              "      <td>HAS_ZIPCODE</td>\n",
              "      <td>[ZipCode]</td>\n",
              "      <td>5885</td>\n",
              "    </tr>\n",
              "    <tr>\n",
              "      <th>17</th>\n",
              "      <td>[Organization]</td>\n",
              "      <td>HAS_ZIPCODE</td>\n",
              "      <td>[ZipCode]</td>\n",
              "      <td>1088</td>\n",
              "    </tr>\n",
              "    <tr>\n",
              "      <th>18</th>\n",
              "      <td>[Encounter, Wellness]</td>\n",
              "      <td>CARE_PLAN_START</td>\n",
              "      <td>[CarePlan]</td>\n",
              "      <td>4699</td>\n",
              "    </tr>\n",
              "    <tr>\n",
              "      <th>19</th>\n",
              "      <td>[Encounter, Wellness]</td>\n",
              "      <td>HAS_CARE_TYPE</td>\n",
              "      <td>[SNOMED_CT, Care]</td>\n",
              "      <td>4699</td>\n",
              "    </tr>\n",
              "    <tr>\n",
              "      <th>20</th>\n",
              "      <td>[Encounter, Wellness]</td>\n",
              "      <td>HAS_CONDITION</td>\n",
              "      <td>[SNOMED_CT, Condition, Procedure]</td>\n",
              "      <td>131390</td>\n",
              "    </tr>\n",
              "    <tr>\n",
              "      <th>21</th>\n",
              "      <td>[Encounter, Wellness]</td>\n",
              "      <td>HAS_DIAGNOSIS</td>\n",
              "      <td>[SNOMED_CT, Diagnosis]</td>\n",
              "      <td>131590</td>\n",
              "    </tr>\n",
              "    <tr>\n",
              "      <th>22</th>\n",
              "      <td>[Encounter, Wellness]</td>\n",
              "      <td>HAS_DRUG</td>\n",
              "      <td>[Drug]</td>\n",
              "      <td>146920</td>\n",
              "    </tr>\n",
              "    <tr>\n",
              "      <th>23</th>\n",
              "      <td>[Encounter, Wellness]</td>\n",
              "      <td>HAS_END</td>\n",
              "      <td>[Encounter]</td>\n",
              "      <td>228532</td>\n",
              "    </tr>\n",
              "    <tr>\n",
              "      <th>24</th>\n",
              "      <td>[Encounter, Wellness]</td>\n",
              "      <td>HAS_ORGANIZATION</td>\n",
              "      <td>[Organization]</td>\n",
              "      <td>118041</td>\n",
              "    </tr>\n",
              "  </tbody>\n",
              "</table>\n",
              "</div>"
            ],
            "text/plain": [
              "            source_labels     relationships  \\\n",
              "0              [Provider]        BELONGS_TO   \n",
              "1              [Provider]     HAS_SPECIALTY   \n",
              "2              [Provider]       HAS_ZIPCODE   \n",
              "3               [Patient]     HAS_ENCOUNTER   \n",
              "4               [Patient]     HAS_ENCOUNTER   \n",
              "5               [Patient]     HAS_ENCOUNTER   \n",
              "6               [Patient]     HAS_ENCOUNTER   \n",
              "7               [Patient]     HAS_ENCOUNTER   \n",
              "8               [Patient]     HAS_ENCOUNTER   \n",
              "9               [Patient]     HAS_ENCOUNTER   \n",
              "10              [Patient]     HAS_ENCOUNTER   \n",
              "11              [Patient]     HAS_ENCOUNTER   \n",
              "12              [Patient]     HAS_ENCOUNTER   \n",
              "13              [Patient]     HAS_ENCOUNTER   \n",
              "14              [Patient]     HAS_ETHNICITY   \n",
              "15              [Patient]          HAS_RACE   \n",
              "16              [Patient]       HAS_ZIPCODE   \n",
              "17         [Organization]       HAS_ZIPCODE   \n",
              "18  [Encounter, Wellness]   CARE_PLAN_START   \n",
              "19  [Encounter, Wellness]     HAS_CARE_TYPE   \n",
              "20  [Encounter, Wellness]     HAS_CONDITION   \n",
              "21  [Encounter, Wellness]     HAS_DIAGNOSIS   \n",
              "22  [Encounter, Wellness]          HAS_DRUG   \n",
              "23  [Encounter, Wellness]           HAS_END   \n",
              "24  [Encounter, Wellness]  HAS_ORGANIZATION   \n",
              "\n",
              "                        target_labels   count  \n",
              "0                      [Organization]    1088  \n",
              "1                         [Specialty]    1088  \n",
              "2                           [ZipCode]    1088  \n",
              "3                         [Encounter]  777305  \n",
              "4             [Encounter, Ambulatory]  237163  \n",
              "5              [Encounter, Emergency]   18647  \n",
              "6                   [Encounter, Home]    1861  \n",
              "7                [Encounter, Hospice]     996  \n",
              "8              [Encounter, Inpatient]    6480  \n",
              "9             [Encounter, Outpatient]   74710  \n",
              "10                   [Encounter, Snf]     828  \n",
              "11            [Encounter, Urgentcare]   38239  \n",
              "12               [Encounter, Virtual]     450  \n",
              "13              [Encounter, Wellness]  118041  \n",
              "14                        [Ethnicity]    5885  \n",
              "15                             [Race]    5885  \n",
              "16                          [ZipCode]    5885  \n",
              "17                          [ZipCode]    1088  \n",
              "18                         [CarePlan]    4699  \n",
              "19                  [SNOMED_CT, Care]    4699  \n",
              "20  [SNOMED_CT, Condition, Procedure]  131390  \n",
              "21             [SNOMED_CT, Diagnosis]  131590  \n",
              "22                             [Drug]  146920  \n",
              "23                        [Encounter]  228532  \n",
              "24                     [Organization]  118041  "
            ]
          },
          "execution_count": 49,
          "metadata": {},
          "output_type": "execute_result"
        }
      ],
      "source": [
        "# view first 25 results\n",
        "node_rel_patterns.head(25)"
      ]
    },
    {
      "attachments": {},
      "cell_type": "markdown",
      "id": "90042d24",
      "metadata": {},
      "source": [
        "# Patient Node Analysis\n",
        "The focus of our patient journey analysis is on the patient experience, so we will start our GraphEDA with Patient nodes. "
      ]
    },
    {
      "attachments": {},
      "cell_type": "markdown",
      "id": "d124c346",
      "metadata": {},
      "source": [
        "## Patient Node In-Degree and Out-Degree"
      ]
    },
    {
      "cell_type": "code",
      "execution_count": 51,
      "id": "6f354952",
      "metadata": {},
      "outputs": [
        {
          "name": "stdout",
          "output_type": "stream",
          "text": [
            "Patient Node In-Degree and Out-Degree:\n"
          ]
        },
        {
          "data": {
            "text/html": [
              "<div>\n",
              "<style scoped>\n",
              "    .dataframe tbody tr th:only-of-type {\n",
              "        vertical-align: middle;\n",
              "    }\n",
              "\n",
              "    .dataframe tbody tr th {\n",
              "        vertical-align: top;\n",
              "    }\n",
              "\n",
              "    .dataframe thead th {\n",
              "        text-align: right;\n",
              "    }\n",
              "</style>\n",
              "<table border=\"1\" class=\"dataframe\">\n",
              "  <thead>\n",
              "    <tr style=\"text-align: right;\">\n",
              "      <th></th>\n",
              "      <th>degree_out</th>\n",
              "      <th>degree_in</th>\n",
              "    </tr>\n",
              "  </thead>\n",
              "  <tbody>\n",
              "    <tr>\n",
              "      <th>count</th>\n",
              "      <td>5885.0</td>\n",
              "      <td>5885.0</td>\n",
              "    </tr>\n",
              "    <tr>\n",
              "      <th>mean</th>\n",
              "      <td>220.0</td>\n",
              "      <td>0.0</td>\n",
              "    </tr>\n",
              "    <tr>\n",
              "      <th>std</th>\n",
              "      <td>463.0</td>\n",
              "      <td>0.0</td>\n",
              "    </tr>\n",
              "    <tr>\n",
              "      <th>min</th>\n",
              "      <td>4.0</td>\n",
              "      <td>0.0</td>\n",
              "    </tr>\n",
              "    <tr>\n",
              "      <th>25%</th>\n",
              "      <td>42.0</td>\n",
              "      <td>0.0</td>\n",
              "    </tr>\n",
              "    <tr>\n",
              "      <th>50%</th>\n",
              "      <td>86.0</td>\n",
              "      <td>0.0</td>\n",
              "    </tr>\n",
              "    <tr>\n",
              "      <th>75%</th>\n",
              "      <td>164.0</td>\n",
              "      <td>0.0</td>\n",
              "    </tr>\n",
              "    <tr>\n",
              "      <th>90%</th>\n",
              "      <td>472.0</td>\n",
              "      <td>0.0</td>\n",
              "    </tr>\n",
              "    <tr>\n",
              "      <th>95%</th>\n",
              "      <td>1119.0</td>\n",
              "      <td>0.0</td>\n",
              "    </tr>\n",
              "    <tr>\n",
              "      <th>99%</th>\n",
              "      <td>2002.0</td>\n",
              "      <td>0.0</td>\n",
              "    </tr>\n",
              "    <tr>\n",
              "      <th>99.9%</th>\n",
              "      <td>4906.0</td>\n",
              "      <td>0.0</td>\n",
              "    </tr>\n",
              "    <tr>\n",
              "      <th>max</th>\n",
              "      <td>9446.0</td>\n",
              "      <td>0.0</td>\n",
              "    </tr>\n",
              "  </tbody>\n",
              "</table>\n",
              "</div>"
            ],
            "text/plain": [
              "       degree_out  degree_in\n",
              "count      5885.0     5885.0\n",
              "mean        220.0        0.0\n",
              "std         463.0        0.0\n",
              "min           4.0        0.0\n",
              "25%          42.0        0.0\n",
              "50%          86.0        0.0\n",
              "75%         164.0        0.0\n",
              "90%         472.0        0.0\n",
              "95%        1119.0        0.0\n",
              "99%        2002.0        0.0\n",
              "99.9%      4906.0        0.0\n",
              "max        9446.0        0.0"
            ]
          },
          "execution_count": 51,
          "metadata": {},
          "output_type": "execute_result"
        }
      ],
      "source": [
        "print('Patient Node In-Degree and Out-Degree:')\n",
        "patient_nodeDegree = node_degree_centrality[node_degree_centrality['label_0'] == 'Patient'][['degree_out', 'degree_in']].describe(percentiles=[0.25, 0.5, 0.75, 0.9, 0.95, 0.99, 0.999]).round()  \n",
        "patient_nodeDegree"
      ]
    },
    {
      "attachments": {},
      "cell_type": "markdown",
      "id": "3668ad88",
      "metadata": {},
      "source": [
        "## Patient Node Properties\n",
        "View the properties of the Patient nodes."
      ]
    },
    {
      "cell_type": "code",
      "execution_count": 52,
      "id": "4eca1dfa",
      "metadata": {},
      "outputs": [
        {
          "data": {
            "text/html": [
              "<div>\n",
              "<style scoped>\n",
              "    .dataframe tbody tr th:only-of-type {\n",
              "        vertical-align: middle;\n",
              "    }\n",
              "\n",
              "    .dataframe tbody tr th {\n",
              "        vertical-align: top;\n",
              "    }\n",
              "\n",
              "    .dataframe thead th {\n",
              "        text-align: right;\n",
              "    }\n",
              "</style>\n",
              "<table border=\"1\" class=\"dataframe\">\n",
              "  <thead>\n",
              "    <tr style=\"text-align: right;\">\n",
              "      <th></th>\n",
              "      <th>label_0</th>\n",
              "      <th>label_1</th>\n",
              "      <th>label_2</th>\n",
              "      <th>propertyName</th>\n",
              "      <th>propertyTypes</th>\n",
              "      <th>mandatory</th>\n",
              "    </tr>\n",
              "  </thead>\n",
              "  <tbody>\n",
              "    <tr>\n",
              "      <th>64</th>\n",
              "      <td>Patient</td>\n",
              "      <td>NaN</td>\n",
              "      <td>NaN</td>\n",
              "      <td>age</td>\n",
              "      <td>[Double]</td>\n",
              "      <td>False</td>\n",
              "    </tr>\n",
              "    <tr>\n",
              "      <th>63</th>\n",
              "      <td>Patient</td>\n",
              "      <td>NaN</td>\n",
              "      <td>NaN</td>\n",
              "      <td>birthDate</td>\n",
              "      <td>[Date]</td>\n",
              "      <td>True</td>\n",
              "    </tr>\n",
              "    <tr>\n",
              "      <th>59</th>\n",
              "      <td>Patient</td>\n",
              "      <td>NaN</td>\n",
              "      <td>NaN</td>\n",
              "      <td>city</td>\n",
              "      <td>[String]</td>\n",
              "      <td>True</td>\n",
              "    </tr>\n",
              "    <tr>\n",
              "      <th>60</th>\n",
              "      <td>Patient</td>\n",
              "      <td>NaN</td>\n",
              "      <td>NaN</td>\n",
              "      <td>county</td>\n",
              "      <td>[String]</td>\n",
              "      <td>True</td>\n",
              "    </tr>\n",
              "    <tr>\n",
              "      <th>62</th>\n",
              "      <td>Patient</td>\n",
              "      <td>NaN</td>\n",
              "      <td>NaN</td>\n",
              "      <td>drivers</td>\n",
              "      <td>[String, Double]</td>\n",
              "      <td>True</td>\n",
              "    </tr>\n",
              "    <tr>\n",
              "      <th>65</th>\n",
              "      <td>Patient</td>\n",
              "      <td>NaN</td>\n",
              "      <td>NaN</td>\n",
              "      <td>expenses</td>\n",
              "      <td>[Double]</td>\n",
              "      <td>False</td>\n",
              "    </tr>\n",
              "    <tr>\n",
              "      <th>55</th>\n",
              "      <td>Patient</td>\n",
              "      <td>NaN</td>\n",
              "      <td>NaN</td>\n",
              "      <td>firstName</td>\n",
              "      <td>[String]</td>\n",
              "      <td>True</td>\n",
              "    </tr>\n",
              "    <tr>\n",
              "      <th>52</th>\n",
              "      <td>Patient</td>\n",
              "      <td>NaN</td>\n",
              "      <td>NaN</td>\n",
              "      <td>id</td>\n",
              "      <td>[String]</td>\n",
              "      <td>True</td>\n",
              "    </tr>\n",
              "    <tr>\n",
              "      <th>66</th>\n",
              "      <td>Patient</td>\n",
              "      <td>NaN</td>\n",
              "      <td>NaN</td>\n",
              "      <td>income</td>\n",
              "      <td>[Long]</td>\n",
              "      <td>False</td>\n",
              "    </tr>\n",
              "    <tr>\n",
              "      <th>56</th>\n",
              "      <td>Patient</td>\n",
              "      <td>NaN</td>\n",
              "      <td>NaN</td>\n",
              "      <td>lastName</td>\n",
              "      <td>[String]</td>\n",
              "      <td>True</td>\n",
              "    </tr>\n",
              "    <tr>\n",
              "      <th>61</th>\n",
              "      <td>Patient</td>\n",
              "      <td>NaN</td>\n",
              "      <td>NaN</td>\n",
              "      <td>location</td>\n",
              "      <td>[Point]</td>\n",
              "      <td>True</td>\n",
              "    </tr>\n",
              "    <tr>\n",
              "      <th>53</th>\n",
              "      <td>Patient</td>\n",
              "      <td>NaN</td>\n",
              "      <td>NaN</td>\n",
              "      <td>marital</td>\n",
              "      <td>[String, Double]</td>\n",
              "      <td>True</td>\n",
              "    </tr>\n",
              "    <tr>\n",
              "      <th>58</th>\n",
              "      <td>Patient</td>\n",
              "      <td>NaN</td>\n",
              "      <td>NaN</td>\n",
              "      <td>prefix</td>\n",
              "      <td>[String, Double]</td>\n",
              "      <td>True</td>\n",
              "    </tr>\n",
              "    <tr>\n",
              "      <th>54</th>\n",
              "      <td>Patient</td>\n",
              "      <td>NaN</td>\n",
              "      <td>NaN</td>\n",
              "      <td>ssn</td>\n",
              "      <td>[String]</td>\n",
              "      <td>True</td>\n",
              "    </tr>\n",
              "    <tr>\n",
              "      <th>57</th>\n",
              "      <td>Patient</td>\n",
              "      <td>NaN</td>\n",
              "      <td>NaN</td>\n",
              "      <td>suffix</td>\n",
              "      <td>[String, Double]</td>\n",
              "      <td>True</td>\n",
              "    </tr>\n",
              "  </tbody>\n",
              "</table>\n",
              "</div>"
            ],
            "text/plain": [
              "    label_0 label_1 label_2 propertyName     propertyTypes  mandatory\n",
              "64  Patient     NaN     NaN          age          [Double]      False\n",
              "63  Patient     NaN     NaN    birthDate            [Date]       True\n",
              "59  Patient     NaN     NaN         city          [String]       True\n",
              "60  Patient     NaN     NaN       county          [String]       True\n",
              "62  Patient     NaN     NaN      drivers  [String, Double]       True\n",
              "65  Patient     NaN     NaN     expenses          [Double]      False\n",
              "55  Patient     NaN     NaN    firstName          [String]       True\n",
              "52  Patient     NaN     NaN           id          [String]       True\n",
              "66  Patient     NaN     NaN       income            [Long]      False\n",
              "56  Patient     NaN     NaN     lastName          [String]       True\n",
              "61  Patient     NaN     NaN     location           [Point]       True\n",
              "53  Patient     NaN     NaN      marital  [String, Double]       True\n",
              "58  Patient     NaN     NaN       prefix  [String, Double]       True\n",
              "54  Patient     NaN     NaN          ssn          [String]       True\n",
              "57  Patient     NaN     NaN       suffix  [String, Double]       True"
            ]
          },
          "execution_count": 52,
          "metadata": {},
          "output_type": "execute_result"
        }
      ],
      "source": [
        "node_properties_df[node_properties_df['label_0'] == 'Patient']"
      ]
    },
    {
      "cell_type": "code",
      "execution_count": 53,
      "id": "03c53a13",
      "metadata": {},
      "outputs": [],
      "source": [
        "# create a list variable to use later\n",
        "patient_nodeProperties = node_properties_df[node_properties_df['label_0'] == 'Patient']['propertyName'].tolist()"
      ]
    },
    {
      "attachments": {},
      "cell_type": "markdown",
      "id": "74d592b9",
      "metadata": {},
      "source": [
        "### Identify Patients with Missing Properties"
      ]
    },
    {
      "cell_type": "code",
      "execution_count": 54,
      "id": "d5a4920a",
      "metadata": {},
      "outputs": [
        {
          "data": {
            "text/plain": [
              "(31, 4)"
            ]
          },
          "execution_count": 54,
          "metadata": {},
          "output_type": "execute_result"
        }
      ],
      "source": [
        "# identify if patients are missing any non-mandatory properties\n",
        "patients_missing = gds.run_cypher(\"\"\"\n",
        "MATCH (p:Patient)\n",
        "WHERE \n",
        "    (p.age) IS NULL OR \n",
        "    (p.expenses) IS NULL OR\n",
        "    (p.income) IS NULL \n",
        "RETURN\n",
        "    p.id AS patient_id,\n",
        "    p.age AS patient_age,\n",
        "    p.expenses AS patient_expenses,\n",
        "    p.income AS patient_income\n",
        "ORDER BY patient_id ASC\n",
        "\"\"\")\n",
        "\n",
        "patients_missing.shape"
      ]
    },
    {
      "cell_type": "code",
      "execution_count": 55,
      "id": "4f076126",
      "metadata": {},
      "outputs": [
        {
          "data": {
            "text/html": [
              "<div>\n",
              "<style scoped>\n",
              "    .dataframe tbody tr th:only-of-type {\n",
              "        vertical-align: middle;\n",
              "    }\n",
              "\n",
              "    .dataframe tbody tr th {\n",
              "        vertical-align: top;\n",
              "    }\n",
              "\n",
              "    .dataframe thead th {\n",
              "        text-align: right;\n",
              "    }\n",
              "</style>\n",
              "<table border=\"1\" class=\"dataframe\">\n",
              "  <thead>\n",
              "    <tr style=\"text-align: right;\">\n",
              "      <th></th>\n",
              "      <th>patient_id</th>\n",
              "      <th>patient_age</th>\n",
              "      <th>patient_expenses</th>\n",
              "      <th>patient_income</th>\n",
              "    </tr>\n",
              "  </thead>\n",
              "  <tbody>\n",
              "    <tr>\n",
              "      <th>0</th>\n",
              "      <td>08c755d8-01a2-6174-0092-58bb88a5b640</td>\n",
              "      <td>None</td>\n",
              "      <td>None</td>\n",
              "      <td>None</td>\n",
              "    </tr>\n",
              "    <tr>\n",
              "      <th>1</th>\n",
              "      <td>0f81fbf4-9ffb-554c-0a30-7eaf81d818e5</td>\n",
              "      <td>None</td>\n",
              "      <td>None</td>\n",
              "      <td>None</td>\n",
              "    </tr>\n",
              "    <tr>\n",
              "      <th>2</th>\n",
              "      <td>1ac44f84-e7a6-b512-080c-24ec0bbbf12a</td>\n",
              "      <td>None</td>\n",
              "      <td>None</td>\n",
              "      <td>None</td>\n",
              "    </tr>\n",
              "    <tr>\n",
              "      <th>3</th>\n",
              "      <td>2952a4db-2b69-2c17-24ce-bb033eb25bf5</td>\n",
              "      <td>None</td>\n",
              "      <td>None</td>\n",
              "      <td>None</td>\n",
              "    </tr>\n",
              "    <tr>\n",
              "      <th>4</th>\n",
              "      <td>300b449e-facb-d423-78de-bb0a94373f0b</td>\n",
              "      <td>None</td>\n",
              "      <td>None</td>\n",
              "      <td>None</td>\n",
              "    </tr>\n",
              "    <tr>\n",
              "      <th>5</th>\n",
              "      <td>30947b63-b318-302d-9ff0-b2648ee7e13e</td>\n",
              "      <td>None</td>\n",
              "      <td>None</td>\n",
              "      <td>None</td>\n",
              "    </tr>\n",
              "    <tr>\n",
              "      <th>6</th>\n",
              "      <td>3c51881a-43a9-31cd-1b84-8ed1bf8a96d5</td>\n",
              "      <td>None</td>\n",
              "      <td>None</td>\n",
              "      <td>None</td>\n",
              "    </tr>\n",
              "    <tr>\n",
              "      <th>7</th>\n",
              "      <td>4086e3c9-d815-fc65-c3cc-df6bdfec38de</td>\n",
              "      <td>None</td>\n",
              "      <td>None</td>\n",
              "      <td>None</td>\n",
              "    </tr>\n",
              "    <tr>\n",
              "      <th>8</th>\n",
              "      <td>5822fba1-4c70-337e-5e39-514c9bcdbd3b</td>\n",
              "      <td>None</td>\n",
              "      <td>None</td>\n",
              "      <td>None</td>\n",
              "    </tr>\n",
              "    <tr>\n",
              "      <th>9</th>\n",
              "      <td>58b8b764-d28c-c319-5885-0ad93419b370</td>\n",
              "      <td>None</td>\n",
              "      <td>None</td>\n",
              "      <td>None</td>\n",
              "    </tr>\n",
              "    <tr>\n",
              "      <th>10</th>\n",
              "      <td>5ffbb67e-0eaf-42f1-cb40-ed8913e26a7d</td>\n",
              "      <td>None</td>\n",
              "      <td>None</td>\n",
              "      <td>None</td>\n",
              "    </tr>\n",
              "    <tr>\n",
              "      <th>11</th>\n",
              "      <td>6a42778f-e5f1-a3b4-d1d7-9aed217d5a08</td>\n",
              "      <td>None</td>\n",
              "      <td>None</td>\n",
              "      <td>None</td>\n",
              "    </tr>\n",
              "    <tr>\n",
              "      <th>12</th>\n",
              "      <td>740fb884-5a59-8a00-66f8-9ba65e80c845</td>\n",
              "      <td>None</td>\n",
              "      <td>None</td>\n",
              "      <td>None</td>\n",
              "    </tr>\n",
              "    <tr>\n",
              "      <th>13</th>\n",
              "      <td>78581735-d278-1862-ee48-b9fa127abab2</td>\n",
              "      <td>None</td>\n",
              "      <td>None</td>\n",
              "      <td>None</td>\n",
              "    </tr>\n",
              "    <tr>\n",
              "      <th>14</th>\n",
              "      <td>82ceb1ad-cb71-177d-d422-efa495ef594c</td>\n",
              "      <td>None</td>\n",
              "      <td>None</td>\n",
              "      <td>None</td>\n",
              "    </tr>\n",
              "    <tr>\n",
              "      <th>15</th>\n",
              "      <td>831637f6-5fa5-9c60-9eec-708d904c8630</td>\n",
              "      <td>None</td>\n",
              "      <td>None</td>\n",
              "      <td>None</td>\n",
              "    </tr>\n",
              "    <tr>\n",
              "      <th>16</th>\n",
              "      <td>9056a73f-96ae-7b95-2567-4834159e0d90</td>\n",
              "      <td>None</td>\n",
              "      <td>None</td>\n",
              "      <td>None</td>\n",
              "    </tr>\n",
              "    <tr>\n",
              "      <th>17</th>\n",
              "      <td>90e025b1-6adc-e423-7f4a-941eb6c5f516</td>\n",
              "      <td>None</td>\n",
              "      <td>None</td>\n",
              "      <td>None</td>\n",
              "    </tr>\n",
              "    <tr>\n",
              "      <th>18</th>\n",
              "      <td>90e7c824-68f1-e1c9-1796-13423a435f60</td>\n",
              "      <td>None</td>\n",
              "      <td>None</td>\n",
              "      <td>None</td>\n",
              "    </tr>\n",
              "    <tr>\n",
              "      <th>19</th>\n",
              "      <td>969209c8-924f-366b-7e2c-c78ff7c8bd2a</td>\n",
              "      <td>None</td>\n",
              "      <td>None</td>\n",
              "      <td>None</td>\n",
              "    </tr>\n",
              "    <tr>\n",
              "      <th>20</th>\n",
              "      <td>9dc21991-58dc-5d17-a52c-1bc6665fae37</td>\n",
              "      <td>None</td>\n",
              "      <td>None</td>\n",
              "      <td>None</td>\n",
              "    </tr>\n",
              "    <tr>\n",
              "      <th>21</th>\n",
              "      <td>aa81f1d3-fccd-7ab4-c0dc-db46b8ebf9f3</td>\n",
              "      <td>None</td>\n",
              "      <td>None</td>\n",
              "      <td>None</td>\n",
              "    </tr>\n",
              "    <tr>\n",
              "      <th>22</th>\n",
              "      <td>bdf4e248-65c7-104f-6bbe-139401149a4f</td>\n",
              "      <td>None</td>\n",
              "      <td>None</td>\n",
              "      <td>None</td>\n",
              "    </tr>\n",
              "    <tr>\n",
              "      <th>23</th>\n",
              "      <td>c27cbf82-8de4-aa2d-869b-2d0f93cb62c4</td>\n",
              "      <td>None</td>\n",
              "      <td>None</td>\n",
              "      <td>None</td>\n",
              "    </tr>\n",
              "    <tr>\n",
              "      <th>24</th>\n",
              "      <td>c72df270-b7af-95f3-7ec2-352a9373d334</td>\n",
              "      <td>None</td>\n",
              "      <td>None</td>\n",
              "      <td>None</td>\n",
              "    </tr>\n",
              "    <tr>\n",
              "      <th>25</th>\n",
              "      <td>c912d4ef-9ec6-d5dc-aef3-1a6e9b9426e7</td>\n",
              "      <td>None</td>\n",
              "      <td>None</td>\n",
              "      <td>None</td>\n",
              "    </tr>\n",
              "    <tr>\n",
              "      <th>26</th>\n",
              "      <td>e20803cd-23a3-9be4-fa8d-28f36a4ff1b6</td>\n",
              "      <td>None</td>\n",
              "      <td>None</td>\n",
              "      <td>None</td>\n",
              "    </tr>\n",
              "    <tr>\n",
              "      <th>27</th>\n",
              "      <td>e4b702a9-1bf8-1d6e-6998-be50a3d1ea10</td>\n",
              "      <td>None</td>\n",
              "      <td>None</td>\n",
              "      <td>None</td>\n",
              "    </tr>\n",
              "    <tr>\n",
              "      <th>28</th>\n",
              "      <td>f19c88ca-118c-7be6-9987-a945efd3dd70</td>\n",
              "      <td>None</td>\n",
              "      <td>None</td>\n",
              "      <td>None</td>\n",
              "    </tr>\n",
              "    <tr>\n",
              "      <th>29</th>\n",
              "      <td>f517149c-d69b-899f-3714-65c1131b8213</td>\n",
              "      <td>None</td>\n",
              "      <td>None</td>\n",
              "      <td>None</td>\n",
              "    </tr>\n",
              "    <tr>\n",
              "      <th>30</th>\n",
              "      <td>fd72be97-1252-fe82-a2b8-b0fa2b81d908</td>\n",
              "      <td>None</td>\n",
              "      <td>None</td>\n",
              "      <td>None</td>\n",
              "    </tr>\n",
              "  </tbody>\n",
              "</table>\n",
              "</div>"
            ],
            "text/plain": [
              "                              patient_id patient_age patient_expenses  \\\n",
              "0   08c755d8-01a2-6174-0092-58bb88a5b640        None             None   \n",
              "1   0f81fbf4-9ffb-554c-0a30-7eaf81d818e5        None             None   \n",
              "2   1ac44f84-e7a6-b512-080c-24ec0bbbf12a        None             None   \n",
              "3   2952a4db-2b69-2c17-24ce-bb033eb25bf5        None             None   \n",
              "4   300b449e-facb-d423-78de-bb0a94373f0b        None             None   \n",
              "5   30947b63-b318-302d-9ff0-b2648ee7e13e        None             None   \n",
              "6   3c51881a-43a9-31cd-1b84-8ed1bf8a96d5        None             None   \n",
              "7   4086e3c9-d815-fc65-c3cc-df6bdfec38de        None             None   \n",
              "8   5822fba1-4c70-337e-5e39-514c9bcdbd3b        None             None   \n",
              "9   58b8b764-d28c-c319-5885-0ad93419b370        None             None   \n",
              "10  5ffbb67e-0eaf-42f1-cb40-ed8913e26a7d        None             None   \n",
              "11  6a42778f-e5f1-a3b4-d1d7-9aed217d5a08        None             None   \n",
              "12  740fb884-5a59-8a00-66f8-9ba65e80c845        None             None   \n",
              "13  78581735-d278-1862-ee48-b9fa127abab2        None             None   \n",
              "14  82ceb1ad-cb71-177d-d422-efa495ef594c        None             None   \n",
              "15  831637f6-5fa5-9c60-9eec-708d904c8630        None             None   \n",
              "16  9056a73f-96ae-7b95-2567-4834159e0d90        None             None   \n",
              "17  90e025b1-6adc-e423-7f4a-941eb6c5f516        None             None   \n",
              "18  90e7c824-68f1-e1c9-1796-13423a435f60        None             None   \n",
              "19  969209c8-924f-366b-7e2c-c78ff7c8bd2a        None             None   \n",
              "20  9dc21991-58dc-5d17-a52c-1bc6665fae37        None             None   \n",
              "21  aa81f1d3-fccd-7ab4-c0dc-db46b8ebf9f3        None             None   \n",
              "22  bdf4e248-65c7-104f-6bbe-139401149a4f        None             None   \n",
              "23  c27cbf82-8de4-aa2d-869b-2d0f93cb62c4        None             None   \n",
              "24  c72df270-b7af-95f3-7ec2-352a9373d334        None             None   \n",
              "25  c912d4ef-9ec6-d5dc-aef3-1a6e9b9426e7        None             None   \n",
              "26  e20803cd-23a3-9be4-fa8d-28f36a4ff1b6        None             None   \n",
              "27  e4b702a9-1bf8-1d6e-6998-be50a3d1ea10        None             None   \n",
              "28  f19c88ca-118c-7be6-9987-a945efd3dd70        None             None   \n",
              "29  f517149c-d69b-899f-3714-65c1131b8213        None             None   \n",
              "30  fd72be97-1252-fe82-a2b8-b0fa2b81d908        None             None   \n",
              "\n",
              "   patient_income  \n",
              "0            None  \n",
              "1            None  \n",
              "2            None  \n",
              "3            None  \n",
              "4            None  \n",
              "5            None  \n",
              "6            None  \n",
              "7            None  \n",
              "8            None  \n",
              "9            None  \n",
              "10           None  \n",
              "11           None  \n",
              "12           None  \n",
              "13           None  \n",
              "14           None  \n",
              "15           None  \n",
              "16           None  \n",
              "17           None  \n",
              "18           None  \n",
              "19           None  \n",
              "20           None  \n",
              "21           None  \n",
              "22           None  \n",
              "23           None  \n",
              "24           None  \n",
              "25           None  \n",
              "26           None  \n",
              "27           None  \n",
              "28           None  \n",
              "29           None  \n",
              "30           None  "
            ]
          },
          "execution_count": 55,
          "metadata": {},
          "output_type": "execute_result"
        }
      ],
      "source": [
        "patients_missing"
      ]
    },
    {
      "cell_type": "code",
      "execution_count": 56,
      "id": "5ba1c505",
      "metadata": {},
      "outputs": [
        {
          "data": {
            "text/html": [
              "<div>\n",
              "<style scoped>\n",
              "    .dataframe tbody tr th:only-of-type {\n",
              "        vertical-align: middle;\n",
              "    }\n",
              "\n",
              "    .dataframe tbody tr th {\n",
              "        vertical-align: top;\n",
              "    }\n",
              "\n",
              "    .dataframe thead th {\n",
              "        text-align: right;\n",
              "    }\n",
              "</style>\n",
              "<table border=\"1\" class=\"dataframe\">\n",
              "  <thead>\n",
              "    <tr style=\"text-align: right;\">\n",
              "      <th></th>\n",
              "    </tr>\n",
              "  </thead>\n",
              "  <tbody>\n",
              "  </tbody>\n",
              "</table>\n",
              "</div>"
            ],
            "text/plain": [
              "Empty DataFrame\n",
              "Columns: []\n",
              "Index: []"
            ]
          },
          "execution_count": 56,
          "metadata": {},
          "output_type": "execute_result"
        }
      ],
      "source": [
        "# delete patient nodes that are missing data\n",
        "gds.run_cypher('''\n",
        "MATCH (p:Patient)\n",
        "WHERE \n",
        "    (p.age) IS NULL OR \n",
        "    (p.expenses) IS NULL OR\n",
        "    (p.income) IS NULL \n",
        "CALL { WITH p \n",
        "DETACH DELETE p \n",
        "} IN TRANSACTIONS OF 50000 ROWS\n",
        "''')"
      ]
    },
    {
      "cell_type": "code",
      "execution_count": 57,
      "id": "c0300a5c",
      "metadata": {},
      "outputs": [
        {
          "data": {
            "text/html": [
              "<div>\n",
              "<style scoped>\n",
              "    .dataframe tbody tr th:only-of-type {\n",
              "        vertical-align: middle;\n",
              "    }\n",
              "\n",
              "    .dataframe tbody tr th {\n",
              "        vertical-align: top;\n",
              "    }\n",
              "\n",
              "    .dataframe thead th {\n",
              "        text-align: right;\n",
              "    }\n",
              "</style>\n",
              "<table border=\"1\" class=\"dataframe\">\n",
              "  <thead>\n",
              "    <tr style=\"text-align: right;\">\n",
              "      <th></th>\n",
              "      <th>count</th>\n",
              "    </tr>\n",
              "  </thead>\n",
              "  <tbody>\n",
              "    <tr>\n",
              "      <th>0</th>\n",
              "      <td>0</td>\n",
              "    </tr>\n",
              "  </tbody>\n",
              "</table>\n",
              "</div>"
            ],
            "text/plain": [
              "   count\n",
              "0      0"
            ]
          },
          "execution_count": 57,
          "metadata": {},
          "output_type": "execute_result"
        }
      ],
      "source": [
        "gds.run_cypher(\"\"\"\n",
        "MATCH (p:Patient)\n",
        "WHERE \n",
        "    (p.age) IS NULL OR \n",
        "    (p.expenses) IS NULL OR\n",
        "    (p.income) IS NULL \n",
        "RETURN count(p) AS count\n",
        "\"\"\")"
      ]
    },
    {
      "attachments": {},
      "cell_type": "markdown",
      "id": "91d9fd05",
      "metadata": {},
      "source": [
        "## Patient Relationship Patterns"
      ]
    },
    {
      "cell_type": "code",
      "execution_count": 58,
      "id": "8485f124",
      "metadata": {},
      "outputs": [
        {
          "data": {
            "text/html": [
              "<div>\n",
              "<style scoped>\n",
              "    .dataframe tbody tr th:only-of-type {\n",
              "        vertical-align: middle;\n",
              "    }\n",
              "\n",
              "    .dataframe tbody tr th {\n",
              "        vertical-align: top;\n",
              "    }\n",
              "\n",
              "    .dataframe thead th {\n",
              "        text-align: right;\n",
              "    }\n",
              "</style>\n",
              "<table border=\"1\" class=\"dataframe\">\n",
              "  <thead>\n",
              "    <tr style=\"text-align: right;\">\n",
              "      <th></th>\n",
              "      <th>source_labels</th>\n",
              "      <th>relationships</th>\n",
              "      <th>target_labels</th>\n",
              "      <th>count</th>\n",
              "    </tr>\n",
              "  </thead>\n",
              "  <tbody>\n",
              "    <tr>\n",
              "      <th>3</th>\n",
              "      <td>[Patient]</td>\n",
              "      <td>HAS_ENCOUNTER</td>\n",
              "      <td>[Encounter]</td>\n",
              "      <td>777305</td>\n",
              "    </tr>\n",
              "    <tr>\n",
              "      <th>4</th>\n",
              "      <td>[Patient]</td>\n",
              "      <td>HAS_ENCOUNTER</td>\n",
              "      <td>[Encounter, Ambulatory]</td>\n",
              "      <td>237163</td>\n",
              "    </tr>\n",
              "    <tr>\n",
              "      <th>5</th>\n",
              "      <td>[Patient]</td>\n",
              "      <td>HAS_ENCOUNTER</td>\n",
              "      <td>[Encounter, Emergency]</td>\n",
              "      <td>18647</td>\n",
              "    </tr>\n",
              "    <tr>\n",
              "      <th>6</th>\n",
              "      <td>[Patient]</td>\n",
              "      <td>HAS_ENCOUNTER</td>\n",
              "      <td>[Encounter, Home]</td>\n",
              "      <td>1861</td>\n",
              "    </tr>\n",
              "    <tr>\n",
              "      <th>7</th>\n",
              "      <td>[Patient]</td>\n",
              "      <td>HAS_ENCOUNTER</td>\n",
              "      <td>[Encounter, Hospice]</td>\n",
              "      <td>996</td>\n",
              "    </tr>\n",
              "    <tr>\n",
              "      <th>8</th>\n",
              "      <td>[Patient]</td>\n",
              "      <td>HAS_ENCOUNTER</td>\n",
              "      <td>[Encounter, Inpatient]</td>\n",
              "      <td>6480</td>\n",
              "    </tr>\n",
              "    <tr>\n",
              "      <th>9</th>\n",
              "      <td>[Patient]</td>\n",
              "      <td>HAS_ENCOUNTER</td>\n",
              "      <td>[Encounter, Outpatient]</td>\n",
              "      <td>74710</td>\n",
              "    </tr>\n",
              "    <tr>\n",
              "      <th>10</th>\n",
              "      <td>[Patient]</td>\n",
              "      <td>HAS_ENCOUNTER</td>\n",
              "      <td>[Encounter, Snf]</td>\n",
              "      <td>828</td>\n",
              "    </tr>\n",
              "    <tr>\n",
              "      <th>11</th>\n",
              "      <td>[Patient]</td>\n",
              "      <td>HAS_ENCOUNTER</td>\n",
              "      <td>[Encounter, Urgentcare]</td>\n",
              "      <td>38239</td>\n",
              "    </tr>\n",
              "    <tr>\n",
              "      <th>12</th>\n",
              "      <td>[Patient]</td>\n",
              "      <td>HAS_ENCOUNTER</td>\n",
              "      <td>[Encounter, Virtual]</td>\n",
              "      <td>450</td>\n",
              "    </tr>\n",
              "    <tr>\n",
              "      <th>13</th>\n",
              "      <td>[Patient]</td>\n",
              "      <td>HAS_ENCOUNTER</td>\n",
              "      <td>[Encounter, Wellness]</td>\n",
              "      <td>118041</td>\n",
              "    </tr>\n",
              "    <tr>\n",
              "      <th>14</th>\n",
              "      <td>[Patient]</td>\n",
              "      <td>HAS_ETHNICITY</td>\n",
              "      <td>[Ethnicity]</td>\n",
              "      <td>5885</td>\n",
              "    </tr>\n",
              "    <tr>\n",
              "      <th>15</th>\n",
              "      <td>[Patient]</td>\n",
              "      <td>HAS_RACE</td>\n",
              "      <td>[Race]</td>\n",
              "      <td>5885</td>\n",
              "    </tr>\n",
              "    <tr>\n",
              "      <th>16</th>\n",
              "      <td>[Patient]</td>\n",
              "      <td>HAS_ZIPCODE</td>\n",
              "      <td>[ZipCode]</td>\n",
              "      <td>5885</td>\n",
              "    </tr>\n",
              "  </tbody>\n",
              "</table>\n",
              "</div>"
            ],
            "text/plain": [
              "   source_labels  relationships            target_labels   count\n",
              "3      [Patient]  HAS_ENCOUNTER              [Encounter]  777305\n",
              "4      [Patient]  HAS_ENCOUNTER  [Encounter, Ambulatory]  237163\n",
              "5      [Patient]  HAS_ENCOUNTER   [Encounter, Emergency]   18647\n",
              "6      [Patient]  HAS_ENCOUNTER        [Encounter, Home]    1861\n",
              "7      [Patient]  HAS_ENCOUNTER     [Encounter, Hospice]     996\n",
              "8      [Patient]  HAS_ENCOUNTER   [Encounter, Inpatient]    6480\n",
              "9      [Patient]  HAS_ENCOUNTER  [Encounter, Outpatient]   74710\n",
              "10     [Patient]  HAS_ENCOUNTER         [Encounter, Snf]     828\n",
              "11     [Patient]  HAS_ENCOUNTER  [Encounter, Urgentcare]   38239\n",
              "12     [Patient]  HAS_ENCOUNTER     [Encounter, Virtual]     450\n",
              "13     [Patient]  HAS_ENCOUNTER    [Encounter, Wellness]  118041\n",
              "14     [Patient]  HAS_ETHNICITY              [Ethnicity]    5885\n",
              "15     [Patient]       HAS_RACE                   [Race]    5885\n",
              "16     [Patient]    HAS_ZIPCODE                [ZipCode]    5885"
            ]
          },
          "execution_count": 58,
          "metadata": {},
          "output_type": "execute_result"
        }
      ],
      "source": [
        "patient_relPatterns = node_rel_patterns[3:17] \n",
        "patient_relPatterns"
      ]
    },
    {
      "attachments": {},
      "cell_type": "markdown",
      "id": "bf7e9314",
      "metadata": {},
      "source": [
        "## Create Encounter Features\n",
        "We will create three new encounter features for each patient:\n",
        "* `encounter_count`: the total number of encounters for each patient\n",
        "* `emergency_encounter_count`: the total number of emergency encounters for each patient\n",
        "* `urgentCare_encounter_count`: the total number of urgent care encounters for each patient"
      ]
    },
    {
      "cell_type": "code",
      "execution_count": 59,
      "id": "1a4f5137",
      "metadata": {},
      "outputs": [
        {
          "data": {
            "text/html": [
              "<div>\n",
              "<style scoped>\n",
              "    .dataframe tbody tr th:only-of-type {\n",
              "        vertical-align: middle;\n",
              "    }\n",
              "\n",
              "    .dataframe tbody tr th {\n",
              "        vertical-align: top;\n",
              "    }\n",
              "\n",
              "    .dataframe thead th {\n",
              "        text-align: right;\n",
              "    }\n",
              "</style>\n",
              "<table border=\"1\" class=\"dataframe\">\n",
              "  <thead>\n",
              "    <tr style=\"text-align: right;\">\n",
              "      <th></th>\n",
              "    </tr>\n",
              "  </thead>\n",
              "  <tbody>\n",
              "  </tbody>\n",
              "</table>\n",
              "</div>"
            ],
            "text/plain": [
              "Empty DataFrame\n",
              "Columns: []\n",
              "Index: []"
            ]
          },
          "execution_count": 59,
          "metadata": {},
          "output_type": "execute_result"
        }
      ],
      "source": [
        "# query total encounter count for each patient\n",
        "gds.run_cypher(\"\"\" \n",
        "MATCH (n:Patient)-[r:HAS_ENCOUNTER]->(e:Encounter)\n",
        "WITH n, COUNT(r) AS encounter_count\n",
        "SET n.encounter_count = encounter_count\n",
        "\"\"\")"
      ]
    },
    {
      "cell_type": "code",
      "execution_count": 60,
      "id": "9c83e300",
      "metadata": {},
      "outputs": [
        {
          "data": {
            "text/html": [
              "<div>\n",
              "<style scoped>\n",
              "    .dataframe tbody tr th:only-of-type {\n",
              "        vertical-align: middle;\n",
              "    }\n",
              "\n",
              "    .dataframe tbody tr th {\n",
              "        vertical-align: top;\n",
              "    }\n",
              "\n",
              "    .dataframe thead th {\n",
              "        text-align: right;\n",
              "    }\n",
              "</style>\n",
              "<table border=\"1\" class=\"dataframe\">\n",
              "  <thead>\n",
              "    <tr style=\"text-align: right;\">\n",
              "      <th></th>\n",
              "    </tr>\n",
              "  </thead>\n",
              "  <tbody>\n",
              "  </tbody>\n",
              "</table>\n",
              "</div>"
            ],
            "text/plain": [
              "Empty DataFrame\n",
              "Columns: []\n",
              "Index: []"
            ]
          },
          "execution_count": 60,
          "metadata": {},
          "output_type": "execute_result"
        }
      ],
      "source": [
        "# query emergency encounter count for each patient\n",
        "gds.run_cypher(\"\"\" \n",
        "MATCH (n:Patient)-[r:HAS_ENCOUNTER]->(e:Emergency)\n",
        "WITH n, COUNT(r) AS emergency_count\n",
        "SET n.emergency_count = emergency_count\n",
        "\"\"\")"
      ]
    },
    {
      "cell_type": "code",
      "execution_count": 61,
      "id": "c65af5f0",
      "metadata": {},
      "outputs": [
        {
          "data": {
            "text/html": [
              "<div>\n",
              "<style scoped>\n",
              "    .dataframe tbody tr th:only-of-type {\n",
              "        vertical-align: middle;\n",
              "    }\n",
              "\n",
              "    .dataframe tbody tr th {\n",
              "        vertical-align: top;\n",
              "    }\n",
              "\n",
              "    .dataframe thead th {\n",
              "        text-align: right;\n",
              "    }\n",
              "</style>\n",
              "<table border=\"1\" class=\"dataframe\">\n",
              "  <thead>\n",
              "    <tr style=\"text-align: right;\">\n",
              "      <th></th>\n",
              "    </tr>\n",
              "  </thead>\n",
              "  <tbody>\n",
              "  </tbody>\n",
              "</table>\n",
              "</div>"
            ],
            "text/plain": [
              "Empty DataFrame\n",
              "Columns: []\n",
              "Index: []"
            ]
          },
          "execution_count": 61,
          "metadata": {},
          "output_type": "execute_result"
        }
      ],
      "source": [
        "# fill missing values with 0\n",
        "gds.run_cypher(\"\"\" \n",
        "MATCH (n:Patient)\n",
        "WHERE n.emergency_count IS NULL\n",
        "SET n.emergency_count = 0\n",
        "\"\"\")"
      ]
    },
    {
      "cell_type": "code",
      "execution_count": 62,
      "id": "fc6da740",
      "metadata": {},
      "outputs": [
        {
          "data": {
            "text/html": [
              "<div>\n",
              "<style scoped>\n",
              "    .dataframe tbody tr th:only-of-type {\n",
              "        vertical-align: middle;\n",
              "    }\n",
              "\n",
              "    .dataframe tbody tr th {\n",
              "        vertical-align: top;\n",
              "    }\n",
              "\n",
              "    .dataframe thead th {\n",
              "        text-align: right;\n",
              "    }\n",
              "</style>\n",
              "<table border=\"1\" class=\"dataframe\">\n",
              "  <thead>\n",
              "    <tr style=\"text-align: right;\">\n",
              "      <th></th>\n",
              "    </tr>\n",
              "  </thead>\n",
              "  <tbody>\n",
              "  </tbody>\n",
              "</table>\n",
              "</div>"
            ],
            "text/plain": [
              "Empty DataFrame\n",
              "Columns: []\n",
              "Index: []"
            ]
          },
          "execution_count": 62,
          "metadata": {},
          "output_type": "execute_result"
        }
      ],
      "source": [
        "# query Urgentcare encounter count for each patient\n",
        "gds.run_cypher(\"\"\" \n",
        "MATCH (n:Patient)-[r:HAS_ENCOUNTER]->(e:Urgentcare)\n",
        "WITH n, COUNT(r) AS urgentCare_count\n",
        "SET n.urgentCare_count = urgentCare_count\n",
        "\"\"\")"
      ]
    },
    {
      "cell_type": "code",
      "execution_count": 63,
      "id": "17a9d988",
      "metadata": {},
      "outputs": [
        {
          "data": {
            "text/html": [
              "<div>\n",
              "<style scoped>\n",
              "    .dataframe tbody tr th:only-of-type {\n",
              "        vertical-align: middle;\n",
              "    }\n",
              "\n",
              "    .dataframe tbody tr th {\n",
              "        vertical-align: top;\n",
              "    }\n",
              "\n",
              "    .dataframe thead th {\n",
              "        text-align: right;\n",
              "    }\n",
              "</style>\n",
              "<table border=\"1\" class=\"dataframe\">\n",
              "  <thead>\n",
              "    <tr style=\"text-align: right;\">\n",
              "      <th></th>\n",
              "    </tr>\n",
              "  </thead>\n",
              "  <tbody>\n",
              "  </tbody>\n",
              "</table>\n",
              "</div>"
            ],
            "text/plain": [
              "Empty DataFrame\n",
              "Columns: []\n",
              "Index: []"
            ]
          },
          "execution_count": 63,
          "metadata": {},
          "output_type": "execute_result"
        }
      ],
      "source": [
        "# fill missing values with 0\n",
        "gds.run_cypher(\"\"\" \n",
        "MATCH (n:Patient)\n",
        "WHERE n.urgentCare_count IS NULL\n",
        "SET n.urgentCare_count = 0\n",
        "\"\"\")"
      ]
    },
    {
      "attachments": {},
      "cell_type": "markdown",
      "id": "83d1d28b",
      "metadata": {},
      "source": [
        "## Examine New Features"
      ]
    },
    {
      "cell_type": "code",
      "execution_count": 64,
      "id": "44cb873c",
      "metadata": {},
      "outputs": [
        {
          "data": {
            "text/plain": [
              "(5854, 5)"
            ]
          },
          "execution_count": 64,
          "metadata": {},
          "output_type": "execute_result"
        }
      ],
      "source": [
        "# export patient age and encounter count to dataframe \n",
        "patient_newStats = gds.run_cypher(\"\"\"\n",
        "MATCH (n:Patient)\n",
        "RETURN\n",
        "    n.age AS age,\n",
        "    n.expenses AS expenses,\n",
        "    n.encounter_count AS encounter_count,\n",
        "    n.emergency_count AS emergency_count,\n",
        "    n.urgentCare_count AS urgentCare_count\n",
        "\"\"\")\n",
        "patient_newStats.shape"
      ]
    },
    {
      "cell_type": "code",
      "execution_count": 66,
      "id": "23412fbe",
      "metadata": {},
      "outputs": [
        {
          "data": {
            "text/html": [
              "<div>\n",
              "<style scoped>\n",
              "    .dataframe tbody tr th:only-of-type {\n",
              "        vertical-align: middle;\n",
              "    }\n",
              "\n",
              "    .dataframe tbody tr th {\n",
              "        vertical-align: top;\n",
              "    }\n",
              "\n",
              "    .dataframe thead th {\n",
              "        text-align: right;\n",
              "    }\n",
              "</style>\n",
              "<table border=\"1\" class=\"dataframe\">\n",
              "  <thead>\n",
              "    <tr style=\"text-align: right;\">\n",
              "      <th></th>\n",
              "      <th>age</th>\n",
              "      <th>expenses</th>\n",
              "      <th>encounter_count</th>\n",
              "      <th>emergency_count</th>\n",
              "      <th>urgentCare_count</th>\n",
              "    </tr>\n",
              "  </thead>\n",
              "  <tbody>\n",
              "    <tr>\n",
              "      <th>0</th>\n",
              "      <td>31.0</td>\n",
              "      <td>36108.19</td>\n",
              "      <td>51</td>\n",
              "      <td>2</td>\n",
              "      <td>0</td>\n",
              "    </tr>\n",
              "    <tr>\n",
              "      <th>1</th>\n",
              "      <td>35.0</td>\n",
              "      <td>6685.55</td>\n",
              "      <td>39</td>\n",
              "      <td>2</td>\n",
              "      <td>0</td>\n",
              "    </tr>\n",
              "    <tr>\n",
              "      <th>2</th>\n",
              "      <td>43.0</td>\n",
              "      <td>37041.63</td>\n",
              "      <td>40</td>\n",
              "      <td>0</td>\n",
              "      <td>2</td>\n",
              "    </tr>\n",
              "    <tr>\n",
              "      <th>3</th>\n",
              "      <td>52.0</td>\n",
              "      <td>16736.57</td>\n",
              "      <td>66</td>\n",
              "      <td>5</td>\n",
              "      <td>0</td>\n",
              "    </tr>\n",
              "    <tr>\n",
              "      <th>4</th>\n",
              "      <td>55.0</td>\n",
              "      <td>57242.58</td>\n",
              "      <td>160</td>\n",
              "      <td>1</td>\n",
              "      <td>1</td>\n",
              "    </tr>\n",
              "  </tbody>\n",
              "</table>\n",
              "</div>"
            ],
            "text/plain": [
              "    age  expenses  encounter_count  emergency_count  urgentCare_count\n",
              "0  31.0  36108.19               51                2                 0\n",
              "1  35.0   6685.55               39                2                 0\n",
              "2  43.0  37041.63               40                0                 2\n",
              "3  52.0  16736.57               66                5                 0\n",
              "4  55.0  57242.58              160                1                 1"
            ]
          },
          "execution_count": 66,
          "metadata": {},
          "output_type": "execute_result"
        }
      ],
      "source": [
        "patient_newStats.head()"
      ]
    },
    {
      "cell_type": "code",
      "execution_count": 75,
      "id": "2cd9bc16",
      "metadata": {},
      "outputs": [
        {
          "data": {
            "image/png": "[encoded data removed]",
            "text/plain": [
              "<Figure size 1000x500 with 1 Axes>"
            ]
          },
          "metadata": {},
          "output_type": "display_data"
        },
        {
          "data": {
            "image/png": "[encoded data removed]",
            "text/plain": [
              "<Figure size 1000x500 with 1 Axes>"
            ]
          },
          "metadata": {},
          "output_type": "display_data"
        },
        {
          "data": {
            "image/png": "[encoded data removed]",
            "text/plain": [
              "<Figure size 1000x500 with 1 Axes>"
            ]
          },
          "metadata": {},
          "output_type": "display_data"
        },
        {
          "data": {
            "image/png": "[encoded data removed]",
            "text/plain": [
              "<Figure size 1000x500 with 1 Axes>"
            ]
          },
          "metadata": {},
          "output_type": "display_data"
        },
        {
          "data": {
            "image/png": "[encoded data removed]",
            "text/plain": [
              "<Figure size 1000x500 with 1 Axes>"
            ]
          },
          "metadata": {},
          "output_type": "display_data"
        }
      ],
      "source": [
        "# create a separate scatterplot for each patient age to encounter count, emergency count, and urgentcare count\n",
        "fig, ax = plt.subplots(figsize=(10, 5))\n",
        "sns.scatterplot(x='age', y='expenses', data=patient_newStats, ax=ax)\n",
        "plt.title('Patient Age to Expenses')\n",
        "plt.show()\n",
        "\n",
        "fig, ax = plt.subplots(figsize=(10, 5))\n",
        "sns.scatterplot(x='encounter_count', y='expenses', data=patient_newStats, ax=ax)\n",
        "plt.title('Patient Total Encounter Count to Expenses')\n",
        "plt.show()\n",
        "\n",
        "fig, ax = plt.subplots(figsize=(10, 5))\n",
        "sns.scatterplot(x='age', y='encounter_count', data=patient_newStats, ax=ax)\n",
        "plt.title('Patient Age to Total Encounter Count')\n",
        "plt.show()\n",
        "\n",
        "fig, ax = plt.subplots(figsize=(10, 5))\n",
        "sns.scatterplot(x='age', y='emergency_count', data=patient_newStats, ax=ax)\n",
        "plt.title('Patient Age to Emergency Count')\n",
        "plt.show()\n",
        "\n",
        "fig, ax = plt.subplots(figsize=(10, 5))\n",
        "sns.scatterplot(x='age', y='urgentCare_count', data=patient_newStats, ax=ax)\n",
        "plt.title('Patient Age to Urgentcare Count')\n",
        "plt.show()"
      ]
    },
    {
      "attachments": {},
      "cell_type": "markdown",
      "id": "25f5159e",
      "metadata": {},
      "source": [
        "# Patient Node Similarity Using KNN and Communities "
      ]
    },
    {
      "attachments": {},
      "cell_type": "markdown",
      "id": "45861d0d",
      "metadata": {},
      "source": [
        "## Create Dummy Relationship Type\n",
        "We will create a non-existent relationship type to use as a placeholder for the KNN algorithm. This will allow us to use the KNN algorithm to calculate the similarity between patients based on their encounter features without unnecessarily projecting relationships into memory."
      ]
    },
    {
      "cell_type": "code",
      "execution_count": 67,
      "id": "3615edb9",
      "metadata": {},
      "outputs": [
        {
          "data": {
            "text/html": [
              "<div>\n",
              "<style scoped>\n",
              "    .dataframe tbody tr th:only-of-type {\n",
              "        vertical-align: middle;\n",
              "    }\n",
              "\n",
              "    .dataframe tbody tr th {\n",
              "        vertical-align: top;\n",
              "    }\n",
              "\n",
              "    .dataframe thead th {\n",
              "        text-align: right;\n",
              "    }\n",
              "</style>\n",
              "<table border=\"1\" class=\"dataframe\">\n",
              "  <thead>\n",
              "    <tr style=\"text-align: right;\">\n",
              "      <th></th>\n",
              "    </tr>\n",
              "  </thead>\n",
              "  <tbody>\n",
              "  </tbody>\n",
              "</table>\n",
              "</div>"
            ],
            "text/plain": [
              "Empty DataFrame\n",
              "Columns: []\n",
              "Index: []"
            ]
          },
          "execution_count": 67,
          "metadata": {},
          "output_type": "execute_result"
        }
      ],
      "source": [
        "# create empty relationship type\n",
        "gds.run_cypher(\"\"\"\n",
        "CALL db.createRelationshipType('EMPTY')\n",
        "\"\"\")"
      ]
    },
    {
      "attachments": {},
      "cell_type": "markdown",
      "id": "4d94e278",
      "metadata": {},
      "source": [
        "## Project Patient Nodes "
      ]
    },
    {
      "cell_type": "code",
      "execution_count": 68,
      "id": "243fa64a",
      "metadata": {},
      "outputs": [],
      "source": [
        "# drop any previous graph object \n",
        "# _ = g.drop()"
      ]
    },
    {
      "cell_type": "code",
      "execution_count": 69,
      "id": "07376538",
      "metadata": {},
      "outputs": [],
      "source": [
        "# project Patient nodes, the placeholder relationship, and numeric properties for our analysis\n",
        "g, _ = gds.graph.project(\n",
        "    graph_name = 'patients', \n",
        "    node_spec = ['Patient'], \n",
        "    nodeProperties = ['age',\n",
        "                      'expenses',\n",
        "                      'income',\n",
        "                      'encounter_count',\n",
        "                      'emergency_count',\n",
        "                      'urgentCare_count',\n",
        "                      'degree_in',\n",
        "                      'degree_out'],\n",
        "    relationship_spec = 'EMPTY'\n",
        ")"
      ]
    },
    {
      "attachments": {},
      "cell_type": "markdown",
      "id": "1465c1af",
      "metadata": {},
      "source": [
        "## Scale Properties \n",
        "KNN is sensitive to the scale of the properties, so we will scale the encounter features before running the algorithm."
      ]
    },
    {
      "cell_type": "code",
      "execution_count": 71,
      "id": "9cb25a72",
      "metadata": {},
      "outputs": [],
      "source": [
        "_ = gds.alpha.scaleProperties.mutate(G = g, \n",
        "                                     nodeProperties = ['age',\n",
        "                                                        'expenses',\n",
        "                                                        'income',\n",
        "                                                        'encounter_count',\n",
        "                                                        'emergency_count',\n",
        "                                                        'urgentCare_count',\n",
        "                                                        'degree_in',\n",
        "                                                        'degree_out'],\n",
        "                                    scaler = 'Mean',\n",
        "                                    mutateProperty = 'scaledProperties')"
      ]
    },
    {
      "cell_type": "code",
      "execution_count": 72,
      "id": "3d0976fe",
      "metadata": {},
      "outputs": [
        {
          "data": {
            "text/plain": [
              "5854"
            ]
          },
          "execution_count": 72,
          "metadata": {},
          "output_type": "execute_result"
        }
      ],
      "source": [
        "# confirm properties written back to patient nodes\n",
        "pd.DataFrame(_)[0]['nodePropertiesWritten']"
      ]
    },
    {
      "attachments": {},
      "cell_type": "markdown",
      "id": "61bffb0c",
      "metadata": {},
      "source": [
        "## Apply KNN\n",
        "First we will run KNN in Stats mode to identify the distribution, then we will run it on the projection to calculate the similarity between patients."
      ]
    },
    {
      "cell_type": "code",
      "execution_count": 73,
      "id": "ca9428dd",
      "metadata": {},
      "outputs": [
        {
          "data": {
            "application/vnd.jupyter.widget-view+json": {
              "model_id": "f6aa3c0f3c1f4f37860cf29417ea5343",
              "version_major": 2,
              "version_minor": 0
            },
            "text/plain": [
              "Knn:   0%|          | 0/100 [00:00<?, ?%/s]"
            ]
          },
          "metadata": {},
          "output_type": "display_data"
        }
      ],
      "source": [
        "_ = gds.knn.stats(G = g,\n",
        "                  topK=100,\n",
        "                  nodeProperties=['scaledProperties'],\n",
        "                  concurrency=6\n",
        ")"
      ]
    },
    {
      "cell_type": "code",
      "execution_count": 74,
      "id": "dae2b7f7",
      "metadata": {},
      "outputs": [
        {
          "data": {
            "text/plain": [
              "{'p1': 0.9103126525878906,\n",
              " 'max': 0.9999961853027344,\n",
              " 'p5': 0.96044921875,\n",
              " 'p90': 0.9998588562011719,\n",
              " 'p50': 0.9978828430175781,\n",
              " 'p95': 0.9999237060546875,\n",
              " 'p10': 0.9770050048828125,\n",
              " 'p75': 0.9995193481445312,\n",
              " 'p99': 0.9999809265136719,\n",
              " 'p25': 0.9914932250976562,\n",
              " 'p100': 0.9999961853027344,\n",
              " 'min': 0.6733207702636719,\n",
              " 'mean': 0.9913655213687377,\n",
              " 'stdDev': 0.01799736912314937}"
            ]
          },
          "execution_count": 74,
          "metadata": {},
          "output_type": "execute_result"
        }
      ],
      "source": [
        "pd.DataFrame(_)[0]['similarityDistribution']"
      ]
    },
    {
      "cell_type": "code",
      "execution_count": 75,
      "id": "1a60c8fa",
      "metadata": {},
      "outputs": [
        {
          "data": {
            "application/vnd.jupyter.widget-view+json": {
              "model_id": "ec45424fe2154dd2b6cc3c355f2b6d6e",
              "version_major": 2,
              "version_minor": 0
            },
            "text/plain": [
              "Knn:   0%|          | 0/100 [00:00<?, ?%/s]"
            ]
          },
          "metadata": {},
          "output_type": "display_data"
        }
      ],
      "source": [
        "_ = gds.knn.mutate(G = g,\n",
        "                  topK=100,\n",
        "                  nodeProperties=['scaledProperties'],\n",
        "                  concurrency=6,\n",
        "                  mutateRelationshipType=\"KNN_SIMILARITY\",\n",
        "                  mutateProperty=\"similarityScore\"\n",
        ")"
      ]
    },
    {
      "attachments": {},
      "cell_type": "markdown",
      "id": "af3a9630",
      "metadata": {},
      "source": [
        "## Identify Patient Communities\n",
        "Once we have the homogenous similarity graph, we can run a community detection algorithm to identify communities of patients with similar demographis and encounter patterns."
      ]
    },
    {
      "attachments": {},
      "cell_type": "markdown",
      "id": "47bebc57",
      "metadata": {},
      "source": [
        "### Label Propagation\n",
        "Label Propagation (LPA) is a good first choice for fully connected graphs, like our similarity graph. We will write the LPA community back to the database so we can use it for further analysis."
      ]
    },
    {
      "cell_type": "code",
      "execution_count": 76,
      "id": "bcca53a1",
      "metadata": {},
      "outputs": [],
      "source": [
        "# apply LPA and write back to the graph\n",
        "_ = gds.labelPropagation.write(G = g, \n",
        "                               relationshipTypes = ['KNN_SIMILARITY'],\n",
        "                               relationshipWeightProperty = 'similarityScore',\n",
        "                               writeProperty = 'lpaCommunity')"
      ]
    },
    {
      "cell_type": "code",
      "execution_count": 78,
      "id": "1d6e9073",
      "metadata": {},
      "outputs": [
        {
          "data": {
            "text/plain": [
              "communityCount                                                                                                                                     21\n",
              "communityDistribution    {'p99': 618, 'min': 74, 'max': 618, 'mean': 278.76190476190476, 'p90': 454, 'p50': 265, 'p999': 618, 'p95': 529, 'p75': 344}\n",
              "Name: 0, dtype: object"
            ]
          },
          "execution_count": 78,
          "metadata": {},
          "output_type": "execute_result"
        }
      ],
      "source": [
        "# view the community distribution\n",
        "pd.DataFrame(_)[0][['communityCount', 'communityDistribution']]"
      ]
    },
    {
      "attachments": {},
      "cell_type": "markdown",
      "id": "1b5fc3ed",
      "metadata": {},
      "source": [
        "## Calculate Weighted PageRank\n",
        "Calculating PageRank, weighted by the similarity score, can provide another useful statistic for analyzing the patient communities. When analyzing a community, the patient with the highest PageRank score can serve as a de-facto representative of the community."
      ]
    },
    {
      "cell_type": "code",
      "execution_count": 79,
      "id": "3b84ec55",
      "metadata": {},
      "outputs": [],
      "source": [
        "# calculate PageRank and write back to the graph \n",
        "_ = gds.pageRank.write(G=g, \n",
        "                       relationshipTypes=['KNN_SIMILARITY'], \n",
        "                       relationshipWeightProperty = 'similarityScore',\n",
        "                       writeProperty='PageRank')"
      ]
    },
    {
      "cell_type": "code",
      "execution_count": 80,
      "id": "8c7a857f",
      "metadata": {},
      "outputs": [
        {
          "data": {
            "text/plain": [
              "{'p99': 2.282576560974121,\n",
              " 'min': 0.14999961853027344,\n",
              " 'max': 2.7570180892944336,\n",
              " 'mean': 0.9612404364223239,\n",
              " 'p90': 1.6293706893920898,\n",
              " 'p50': 0.9583578109741211,\n",
              " 'p999': 2.647871971130371,\n",
              " 'p95': 1.8025808334350586,\n",
              " 'p75': 1.3457632064819336}"
            ]
          },
          "execution_count": 80,
          "metadata": {},
          "output_type": "execute_result"
        }
      ],
      "source": [
        "# view the score distribution \n",
        "pd.DataFrame(_)[0]['centralityDistribution']"
      ]
    },
    {
      "attachments": {},
      "cell_type": "markdown",
      "id": "844b3977",
      "metadata": {},
      "source": [
        "## Analyze Patient Communities \n",
        "Finally, we will analyze the patient communities to understand the demographics and encounter patterns of each community. We will extract features from the graph into a DataFrame, then analyze the medians for each community to better understand the patients that were included in each. "
      ]
    },
    {
      "cell_type": "markdown",
      "id": "183c7ddb",
      "metadata": {},
      "source": [
        "### Extract Patient Community DataFrame"
      ]
    },
    {
      "cell_type": "code",
      "execution_count": 81,
      "id": "b5129e4e",
      "metadata": {},
      "outputs": [
        {
          "data": {
            "text/plain": [
              "(5854, 10)"
            ]
          },
          "execution_count": 81,
          "metadata": {},
          "output_type": "execute_result"
        }
      ],
      "source": [
        "patient_knn_df = gds.run_cypher('''\n",
        "MATCH (p:Patient)\n",
        "RETURN\n",
        "    p.age AS age,\n",
        "    p.expenses AS expenses,\n",
        "    p.income AS income,\n",
        "    p.encounter_count AS encounter_count,\n",
        "    p.emergency_count AS emergency_count,\n",
        "    p.urgentCare_count AS urgentCare_count,\n",
        "    p.degree_in AS degree_in,\n",
        "    p.degree_out AS degree_out,\n",
        "    p.PageRank AS PageRank,\n",
        "    p.lpaCommunity AS lpaCommunity\n",
        "''')\n",
        "\n",
        "patient_knn_df.shape"
      ]
    },
    {
      "cell_type": "markdown",
      "id": "cbcaea5c",
      "metadata": {},
      "source": [
        "### Calculate Median and Group DataFrame"
      ]
    },
    {
      "cell_type": "code",
      "execution_count": 82,
      "id": "43cf3a74",
      "metadata": {},
      "outputs": [
        {
          "data": {
            "text/plain": [
              "(21, 9)"
            ]
          },
          "execution_count": 82,
          "metadata": {},
          "output_type": "execute_result"
        }
      ],
      "source": [
        "median_knn_df = patient_knn_df.groupby('lpaCommunity').median()\n",
        "median_knn_df.shape"
      ]
    },
    {
      "cell_type": "code",
      "execution_count": 83,
      "id": "a1dc17aa",
      "metadata": {},
      "outputs": [
        {
          "data": {
            "text/plain": [
              "(21, 1)"
            ]
          },
          "execution_count": 83,
          "metadata": {},
          "output_type": "execute_result"
        }
      ],
      "source": [
        "knn_patient_counts = patient_knn_df[['age', 'lpaCommunity']].groupby('lpaCommunity').count()\n",
        "knn_patient_counts.columns = ['patientCount']\n",
        "knn_patient_counts.shape"
      ]
    },
    {
      "cell_type": "code",
      "execution_count": 84,
      "id": "da4d1f84",
      "metadata": {},
      "outputs": [
        {
          "data": {
            "text/plain": [
              "(21, 10)"
            ]
          },
          "execution_count": 84,
          "metadata": {},
          "output_type": "execute_result"
        }
      ],
      "source": [
        "median_knn_df = median_knn_df.merge(knn_patient_counts, left_index=True, right_index=True)\n",
        "median_knn_df.shape"
      ]
    },
    {
      "cell_type": "markdown",
      "id": "61e605dd",
      "metadata": {},
      "source": [
        "### View by Median Patients per Community"
      ]
    },
    {
      "cell_type": "code",
      "execution_count": 86,
      "id": "536365ef",
      "metadata": {},
      "outputs": [
        {
          "data": {
            "text/html": [
              "<div>\n",
              "<style scoped>\n",
              "    .dataframe tbody tr th:only-of-type {\n",
              "        vertical-align: middle;\n",
              "    }\n",
              "\n",
              "    .dataframe tbody tr th {\n",
              "        vertical-align: top;\n",
              "    }\n",
              "\n",
              "    .dataframe thead th {\n",
              "        text-align: right;\n",
              "    }\n",
              "</style>\n",
              "<table border=\"1\" class=\"dataframe\">\n",
              "  <thead>\n",
              "    <tr style=\"text-align: right;\">\n",
              "      <th></th>\n",
              "      <th>age</th>\n",
              "      <th>expenses</th>\n",
              "      <th>income</th>\n",
              "      <th>encounter_count</th>\n",
              "      <th>emergency_count</th>\n",
              "      <th>urgentCare_count</th>\n",
              "      <th>degree_in</th>\n",
              "      <th>degree_out</th>\n",
              "      <th>PageRank</th>\n",
              "      <th>patientCount</th>\n",
              "    </tr>\n",
              "    <tr>\n",
              "      <th>lpaCommunity</th>\n",
              "      <th></th>\n",
              "      <th></th>\n",
              "      <th></th>\n",
              "      <th></th>\n",
              "      <th></th>\n",
              "      <th></th>\n",
              "      <th></th>\n",
              "      <th></th>\n",
              "      <th></th>\n",
              "      <th></th>\n",
              "    </tr>\n",
              "  </thead>\n",
              "  <tbody>\n",
              "    <tr>\n",
              "      <th>3986</th>\n",
              "      <td>71.0</td>\n",
              "      <td>67814.50</td>\n",
              "      <td>76919.5</td>\n",
              "      <td>138.0</td>\n",
              "      <td>1.0</td>\n",
              "      <td>1.0</td>\n",
              "      <td>0.0</td>\n",
              "      <td>141.0</td>\n",
              "      <td>1.10</td>\n",
              "      <td>618</td>\n",
              "    </tr>\n",
              "    <tr>\n",
              "      <th>4499</th>\n",
              "      <td>61.0</td>\n",
              "      <td>859707.82</td>\n",
              "      <td>32867.0</td>\n",
              "      <td>140.0</td>\n",
              "      <td>2.0</td>\n",
              "      <td>1.0</td>\n",
              "      <td>0.0</td>\n",
              "      <td>143.0</td>\n",
              "      <td>0.69</td>\n",
              "      <td>529</td>\n",
              "    </tr>\n",
              "    <tr>\n",
              "      <th>3145</th>\n",
              "      <td>52.5</td>\n",
              "      <td>46789.54</td>\n",
              "      <td>38906.5</td>\n",
              "      <td>93.0</td>\n",
              "      <td>1.0</td>\n",
              "      <td>0.0</td>\n",
              "      <td>0.0</td>\n",
              "      <td>96.0</td>\n",
              "      <td>0.95</td>\n",
              "      <td>454</td>\n",
              "    </tr>\n",
              "    <tr>\n",
              "      <th>5077</th>\n",
              "      <td>68.0</td>\n",
              "      <td>64938.11</td>\n",
              "      <td>143773.5</td>\n",
              "      <td>133.0</td>\n",
              "      <td>2.0</td>\n",
              "      <td>1.0</td>\n",
              "      <td>0.0</td>\n",
              "      <td>136.0</td>\n",
              "      <td>0.73</td>\n",
              "      <td>408</td>\n",
              "    </tr>\n",
              "    <tr>\n",
              "      <th>1010</th>\n",
              "      <td>56.0</td>\n",
              "      <td>62366.61</td>\n",
              "      <td>564006.0</td>\n",
              "      <td>116.0</td>\n",
              "      <td>1.0</td>\n",
              "      <td>1.0</td>\n",
              "      <td>0.0</td>\n",
              "      <td>119.0</td>\n",
              "      <td>0.98</td>\n",
              "      <td>357</td>\n",
              "    </tr>\n",
              "    <tr>\n",
              "      <th>1324</th>\n",
              "      <td>71.5</td>\n",
              "      <td>96981.92</td>\n",
              "      <td>80496.0</td>\n",
              "      <td>1325.5</td>\n",
              "      <td>8.5</td>\n",
              "      <td>34.0</td>\n",
              "      <td>0.0</td>\n",
              "      <td>1328.5</td>\n",
              "      <td>0.61</td>\n",
              "      <td>344</td>\n",
              "    </tr>\n",
              "    <tr>\n",
              "      <th>1219</th>\n",
              "      <td>28.0</td>\n",
              "      <td>32926.02</td>\n",
              "      <td>28627.5</td>\n",
              "      <td>59.0</td>\n",
              "      <td>1.5</td>\n",
              "      <td>0.0</td>\n",
              "      <td>0.0</td>\n",
              "      <td>62.0</td>\n",
              "      <td>1.26</td>\n",
              "      <td>340</td>\n",
              "    </tr>\n",
              "    <tr>\n",
              "      <th>2469</th>\n",
              "      <td>23.0</td>\n",
              "      <td>28009.66</td>\n",
              "      <td>44923.5</td>\n",
              "      <td>42.0</td>\n",
              "      <td>1.0</td>\n",
              "      <td>0.0</td>\n",
              "      <td>0.0</td>\n",
              "      <td>45.0</td>\n",
              "      <td>0.80</td>\n",
              "      <td>334</td>\n",
              "    </tr>\n",
              "    <tr>\n",
              "      <th>1585</th>\n",
              "      <td>63.0</td>\n",
              "      <td>58579.61</td>\n",
              "      <td>44342.0</td>\n",
              "      <td>124.0</td>\n",
              "      <td>1.0</td>\n",
              "      <td>1.0</td>\n",
              "      <td>0.0</td>\n",
              "      <td>127.0</td>\n",
              "      <td>1.10</td>\n",
              "      <td>279</td>\n",
              "    </tr>\n",
              "    <tr>\n",
              "      <th>3304</th>\n",
              "      <td>17.0</td>\n",
              "      <td>18730.44</td>\n",
              "      <td>137471.0</td>\n",
              "      <td>34.0</td>\n",
              "      <td>1.0</td>\n",
              "      <td>0.0</td>\n",
              "      <td>0.0</td>\n",
              "      <td>37.0</td>\n",
              "      <td>1.29</td>\n",
              "      <td>277</td>\n",
              "    </tr>\n",
              "    <tr>\n",
              "      <th>3238</th>\n",
              "      <td>27.0</td>\n",
              "      <td>27811.40</td>\n",
              "      <td>177061.0</td>\n",
              "      <td>49.0</td>\n",
              "      <td>1.0</td>\n",
              "      <td>0.0</td>\n",
              "      <td>0.0</td>\n",
              "      <td>52.0</td>\n",
              "      <td>0.65</td>\n",
              "      <td>265</td>\n",
              "    </tr>\n",
              "    <tr>\n",
              "      <th>1391</th>\n",
              "      <td>36.0</td>\n",
              "      <td>39368.62</td>\n",
              "      <td>30878.0</td>\n",
              "      <td>72.0</td>\n",
              "      <td>2.0</td>\n",
              "      <td>0.0</td>\n",
              "      <td>0.0</td>\n",
              "      <td>75.0</td>\n",
              "      <td>1.05</td>\n",
              "      <td>260</td>\n",
              "    </tr>\n",
              "    <tr>\n",
              "      <th>2590</th>\n",
              "      <td>14.0</td>\n",
              "      <td>15696.37</td>\n",
              "      <td>96152.0</td>\n",
              "      <td>33.0</td>\n",
              "      <td>1.0</td>\n",
              "      <td>0.0</td>\n",
              "      <td>0.0</td>\n",
              "      <td>36.0</td>\n",
              "      <td>0.97</td>\n",
              "      <td>259</td>\n",
              "    </tr>\n",
              "    <tr>\n",
              "      <th>1008</th>\n",
              "      <td>10.0</td>\n",
              "      <td>10815.39</td>\n",
              "      <td>29188.0</td>\n",
              "      <td>31.0</td>\n",
              "      <td>1.0</td>\n",
              "      <td>0.0</td>\n",
              "      <td>0.0</td>\n",
              "      <td>34.0</td>\n",
              "      <td>1.41</td>\n",
              "      <td>235</td>\n",
              "    </tr>\n",
              "    <tr>\n",
              "      <th>2742</th>\n",
              "      <td>14.0</td>\n",
              "      <td>16418.59</td>\n",
              "      <td>58704.0</td>\n",
              "      <td>31.0</td>\n",
              "      <td>1.0</td>\n",
              "      <td>0.0</td>\n",
              "      <td>0.0</td>\n",
              "      <td>34.0</td>\n",
              "      <td>0.97</td>\n",
              "      <td>219</td>\n",
              "    </tr>\n",
              "    <tr>\n",
              "      <th>5933</th>\n",
              "      <td>45.0</td>\n",
              "      <td>37450.96</td>\n",
              "      <td>30109.5</td>\n",
              "      <td>80.0</td>\n",
              "      <td>1.0</td>\n",
              "      <td>0.0</td>\n",
              "      <td>0.0</td>\n",
              "      <td>83.0</td>\n",
              "      <td>1.06</td>\n",
              "      <td>144</td>\n",
              "    </tr>\n",
              "    <tr>\n",
              "      <th>5526</th>\n",
              "      <td>42.0</td>\n",
              "      <td>39568.77</td>\n",
              "      <td>29082.5</td>\n",
              "      <td>64.0</td>\n",
              "      <td>1.0</td>\n",
              "      <td>0.0</td>\n",
              "      <td>0.0</td>\n",
              "      <td>67.0</td>\n",
              "      <td>0.93</td>\n",
              "      <td>120</td>\n",
              "    </tr>\n",
              "    <tr>\n",
              "      <th>2324</th>\n",
              "      <td>9.0</td>\n",
              "      <td>9238.52</td>\n",
              "      <td>65684.0</td>\n",
              "      <td>27.0</td>\n",
              "      <td>0.0</td>\n",
              "      <td>0.0</td>\n",
              "      <td>0.0</td>\n",
              "      <td>30.0</td>\n",
              "      <td>1.13</td>\n",
              "      <td>119</td>\n",
              "    </tr>\n",
              "    <tr>\n",
              "      <th>3186</th>\n",
              "      <td>19.0</td>\n",
              "      <td>22102.55</td>\n",
              "      <td>494330.0</td>\n",
              "      <td>40.0</td>\n",
              "      <td>1.0</td>\n",
              "      <td>0.0</td>\n",
              "      <td>0.0</td>\n",
              "      <td>43.0</td>\n",
              "      <td>0.79</td>\n",
              "      <td>117</td>\n",
              "    </tr>\n",
              "    <tr>\n",
              "      <th>3066</th>\n",
              "      <td>29.5</td>\n",
              "      <td>32769.68</td>\n",
              "      <td>795499.5</td>\n",
              "      <td>56.5</td>\n",
              "      <td>1.0</td>\n",
              "      <td>0.0</td>\n",
              "      <td>0.0</td>\n",
              "      <td>59.5</td>\n",
              "      <td>1.24</td>\n",
              "      <td>102</td>\n",
              "    </tr>\n",
              "    <tr>\n",
              "      <th>2618</th>\n",
              "      <td>8.0</td>\n",
              "      <td>10283.67</td>\n",
              "      <td>115557.0</td>\n",
              "      <td>31.0</td>\n",
              "      <td>1.0</td>\n",
              "      <td>0.0</td>\n",
              "      <td>0.0</td>\n",
              "      <td>34.0</td>\n",
              "      <td>1.05</td>\n",
              "      <td>74</td>\n",
              "    </tr>\n",
              "  </tbody>\n",
              "</table>\n",
              "</div>"
            ],
            "text/plain": [
              "               age   expenses    income  encounter_count  emergency_count  \\\n",
              "lpaCommunity                                                                \n",
              "3986          71.0   67814.50   76919.5            138.0              1.0   \n",
              "4499          61.0  859707.82   32867.0            140.0              2.0   \n",
              "3145          52.5   46789.54   38906.5             93.0              1.0   \n",
              "5077          68.0   64938.11  143773.5            133.0              2.0   \n",
              "1010          56.0   62366.61  564006.0            116.0              1.0   \n",
              "1324          71.5   96981.92   80496.0           1325.5              8.5   \n",
              "1219          28.0   32926.02   28627.5             59.0              1.5   \n",
              "2469          23.0   28009.66   44923.5             42.0              1.0   \n",
              "1585          63.0   58579.61   44342.0            124.0              1.0   \n",
              "3304          17.0   18730.44  137471.0             34.0              1.0   \n",
              "3238          27.0   27811.40  177061.0             49.0              1.0   \n",
              "1391          36.0   39368.62   30878.0             72.0              2.0   \n",
              "2590          14.0   15696.37   96152.0             33.0              1.0   \n",
              "1008          10.0   10815.39   29188.0             31.0              1.0   \n",
              "2742          14.0   16418.59   58704.0             31.0              1.0   \n",
              "5933          45.0   37450.96   30109.5             80.0              1.0   \n",
              "5526          42.0   39568.77   29082.5             64.0              1.0   \n",
              "2324           9.0    9238.52   65684.0             27.0              0.0   \n",
              "3186          19.0   22102.55  494330.0             40.0              1.0   \n",
              "3066          29.5   32769.68  795499.5             56.5              1.0   \n",
              "2618           8.0   10283.67  115557.0             31.0              1.0   \n",
              "\n",
              "              urgentCare_count  degree_in  degree_out  PageRank  patientCount  \n",
              "lpaCommunity                                                                   \n",
              "3986                       1.0        0.0       141.0      1.10           618  \n",
              "4499                       1.0        0.0       143.0      0.69           529  \n",
              "3145                       0.0        0.0        96.0      0.95           454  \n",
              "5077                       1.0        0.0       136.0      0.73           408  \n",
              "1010                       1.0        0.0       119.0      0.98           357  \n",
              "1324                      34.0        0.0      1328.5      0.61           344  \n",
              "1219                       0.0        0.0        62.0      1.26           340  \n",
              "2469                       0.0        0.0        45.0      0.80           334  \n",
              "1585                       1.0        0.0       127.0      1.10           279  \n",
              "3304                       0.0        0.0        37.0      1.29           277  \n",
              "3238                       0.0        0.0        52.0      0.65           265  \n",
              "1391                       0.0        0.0        75.0      1.05           260  \n",
              "2590                       0.0        0.0        36.0      0.97           259  \n",
              "1008                       0.0        0.0        34.0      1.41           235  \n",
              "2742                       0.0        0.0        34.0      0.97           219  \n",
              "5933                       0.0        0.0        83.0      1.06           144  \n",
              "5526                       0.0        0.0        67.0      0.93           120  \n",
              "2324                       0.0        0.0        30.0      1.13           119  \n",
              "3186                       0.0        0.0        43.0      0.79           117  \n",
              "3066                       0.0        0.0        59.5      1.24           102  \n",
              "2618                       0.0        0.0        34.0      1.05            74  "
            ]
          },
          "execution_count": 86,
          "metadata": {},
          "output_type": "execute_result"
        }
      ],
      "source": [
        "median_knn_df.sort_values(by='patientCount', ascending=False).round(2)"
      ]
    },
    {
      "cell_type": "code",
      "execution_count": null,
      "id": "511207d3",
      "metadata": {},
      "outputs": [],
      "source": []
    }
  ],
  "metadata": {
    "colab": {
      "machine_shape": "hm",
      "provenance": [],
      "toc_visible": true
    },
    "gpuClass": "standard",
    "kernelspec": {
      "display_name": "Python 3 (ipykernel)",
      "language": "python",
      "name": "python3"
    },
    "language_info": {
      "codemirror_mode": {
        "name": "ipython",
        "version": 3
      },
      "file_extension": ".py",
      "mimetype": "text/x-python",
      "name": "python",
      "nbconvert_exporter": "python",
      "pygments_lexer": "ipython3",
      "version": "3.10.8"
    }
  },
  "nbformat": 4,
  "nbformat_minor": 5
}
